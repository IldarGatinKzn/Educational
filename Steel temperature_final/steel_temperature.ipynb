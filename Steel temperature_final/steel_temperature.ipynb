{
 "cells": [
  {
   "cell_type": "markdown",
   "id": "5082591b",
   "metadata": {
    "toc": true
   },
   "source": [
    "<h1>Содержание<span class=\"tocSkip\"></span></h1>\n",
    "<div class=\"toc\"><ul class=\"toc-item\"><li><span><a href=\"#Описание\" data-toc-modified-id=\"Описание-1\"><span class=\"toc-item-num\">1&nbsp;&nbsp;</span>Описание</a></span><ul class=\"toc-item\"><li><span><a href=\"#Цель-проекта\" data-toc-modified-id=\"Цель-проекта-1.1\"><span class=\"toc-item-num\">1.1&nbsp;&nbsp;</span>Цель проекта</a></span></li><li><span><a href=\"#Описание-технологического-процесса-легирования-сталей\" data-toc-modified-id=\"Описание-технологического-процесса-легирования-сталей-1.2\"><span class=\"toc-item-num\">1.2&nbsp;&nbsp;</span>Описание технологического процесса легирования сталей</a></span></li><li><span><a href=\"#Описание-исходных-данных\" data-toc-modified-id=\"Описание-исходных-данных-1.3\"><span class=\"toc-item-num\">1.3&nbsp;&nbsp;</span>Описание исходных данных</a></span></li><li><span><a href=\"#План-проекта\" data-toc-modified-id=\"План-проекта-1.4\"><span class=\"toc-item-num\">1.4&nbsp;&nbsp;</span>План проекта</a></span></li><li><span><a href=\"#Качество-модели\" data-toc-modified-id=\"Качество-модели-1.5\"><span class=\"toc-item-num\">1.5&nbsp;&nbsp;</span>Качество модели</a></span></li></ul></li><li><span><a href=\"#Анализ-данных\" data-toc-modified-id=\"Анализ-данных-2\"><span class=\"toc-item-num\">2&nbsp;&nbsp;</span>Анализ данных</a></span><ul class=\"toc-item\"><li><span><a href=\"#Импорт-библиотек\" data-toc-modified-id=\"Импорт-библиотек-2.1\"><span class=\"toc-item-num\">2.1&nbsp;&nbsp;</span>Импорт библиотек</a></span></li><li><span><a href=\"#Данные-об-электродах,-таблица-data_arc\" data-toc-modified-id=\"Данные-об-электродах,-таблица-data_arc-2.2\"><span class=\"toc-item-num\">2.2&nbsp;&nbsp;</span>Данные об электродах, таблица data_arc</a></span></li><li><span><a href=\"#Данные-об-объёме-сыпучих-материалов,-таблица-data_bulk\" data-toc-modified-id=\"Данные-об-объёме-сыпучих-материалов,-таблица-data_bulk-2.3\"><span class=\"toc-item-num\">2.3&nbsp;&nbsp;</span>Данные об объёме сыпучих материалов, таблица data_bulk</a></span></li><li><span><a href=\"#Данные-о-времени-сыпучих-материалов,-таблица-data_bulk_time\" data-toc-modified-id=\"Данные-о-времени-сыпучих-материалов,-таблица-data_bulk_time-2.4\"><span class=\"toc-item-num\">2.4&nbsp;&nbsp;</span>Данные о времени сыпучих материалов, таблица data_bulk_time</a></span></li><li><span><a href=\"#Данные-о-продувке-газом,-таблица-data_gas\" data-toc-modified-id=\"Данные-о-продувке-газом,-таблица-data_gas-2.5\"><span class=\"toc-item-num\">2.5&nbsp;&nbsp;</span>Данные о продувке газом, таблица data_gas</a></span></li><li><span><a href=\"#Данные-о-температуре,-таблица-data_temp\" data-toc-modified-id=\"Данные-о-температуре,-таблица-data_temp-2.6\"><span class=\"toc-item-num\">2.6&nbsp;&nbsp;</span>Данные о температуре, таблица data_temp</a></span></li><li><span><a href=\"#Данные-об-объёме-проволочных-материалах,-таблица-data_wire\" data-toc-modified-id=\"Данные-об-объёме-проволочных-материалах,-таблица-data_wire-2.7\"><span class=\"toc-item-num\">2.7&nbsp;&nbsp;</span>Данные об объёме проволочных материалах, таблица data_wire</a></span></li><li><span><a href=\"#Данные-о-времени-проволочных-материалов,-таблица-data_wire_time\" data-toc-modified-id=\"Данные-о-времени-проволочных-материалов,-таблица-data_wire_time-2.8\"><span class=\"toc-item-num\">2.8&nbsp;&nbsp;</span>Данные о времени проволочных материалов, таблица data_wire_time</a></span></li><li><span><a href=\"#Вывод\" data-toc-modified-id=\"Вывод-2.9\"><span class=\"toc-item-num\">2.9&nbsp;&nbsp;</span>Вывод</a></span></li></ul></li><li><span><a href=\"#Предобработка-данных\" data-toc-modified-id=\"Предобработка-данных-3\"><span class=\"toc-item-num\">3&nbsp;&nbsp;</span>Предобработка данных</a></span><ul class=\"toc-item\"><li><span><a href=\"#Объединение-таблиц\" data-toc-modified-id=\"Объединение-таблиц-3.1\"><span class=\"toc-item-num\">3.1&nbsp;&nbsp;</span>Объединение таблиц</a></span></li><li><span><a href=\"#Анализ-корелляции-признаков\" data-toc-modified-id=\"Анализ-корелляции-признаков-3.2\"><span class=\"toc-item-num\">3.2&nbsp;&nbsp;</span>Анализ корелляции признаков</a></span></li><li><span><a href=\"#Создание-обучающих-и-тестовых-данных\" data-toc-modified-id=\"Создание-обучающих-и-тестовых-данных-3.3\"><span class=\"toc-item-num\">3.3&nbsp;&nbsp;</span>Создание обучающих и тестовых данных</a></span></li><li><span><a href=\"#Перевод-фичей-в-numpy-массив\" data-toc-modified-id=\"Перевод-фичей-в-numpy-массив-3.4\"><span class=\"toc-item-num\">3.4&nbsp;&nbsp;</span>Перевод фичей в numpy-массив</a></span></li></ul></li><li><span><a href=\"#Обучение-моделей\" data-toc-modified-id=\"Обучение-моделей-4\"><span class=\"toc-item-num\">4&nbsp;&nbsp;</span>Обучение моделей</a></span><ul class=\"toc-item\"><li><span><a href=\"#Линейная-регрессия\" data-toc-modified-id=\"Линейная-регрессия-4.1\"><span class=\"toc-item-num\">4.1&nbsp;&nbsp;</span>Линейная регрессия</a></span></li><li><span><a href=\"#Случайный-лес\" data-toc-modified-id=\"Случайный-лес-4.2\"><span class=\"toc-item-num\">4.2&nbsp;&nbsp;</span>Случайный лес</a></span></li><li><span><a href=\"#Градиентный-бустинг\" data-toc-modified-id=\"Градиентный-бустинг-4.3\"><span class=\"toc-item-num\">4.3&nbsp;&nbsp;</span>Градиентный бустинг</a></span></li><li><span><a href=\"#Вывод\" data-toc-modified-id=\"Вывод-4.4\"><span class=\"toc-item-num\">4.4&nbsp;&nbsp;</span>Вывод</a></span></li></ul></li><li><span><a href=\"#Тестирование-модели\" data-toc-modified-id=\"Тестирование-модели-5\"><span class=\"toc-item-num\">5&nbsp;&nbsp;</span>Тестирование модели</a></span><ul class=\"toc-item\"><li><span><a href=\"#Тестовые-данные\" data-toc-modified-id=\"Тестовые-данные-5.1\"><span class=\"toc-item-num\">5.1&nbsp;&nbsp;</span>Тестовые данные</a></span></li><li><span><a href=\"#Сравнение-с-примитивной-моделью\" data-toc-modified-id=\"Сравнение-с-примитивной-моделью-5.2\"><span class=\"toc-item-num\">5.2&nbsp;&nbsp;</span>Сравнение с примитивной моделью</a></span></li><li><span><a href=\"#Метрика-R2\" data-toc-modified-id=\"Метрика-R2-5.3\"><span class=\"toc-item-num\">5.3&nbsp;&nbsp;</span>Метрика R2</a></span></li><li><span><a href=\"#Вывод\" data-toc-modified-id=\"Вывод-5.4\"><span class=\"toc-item-num\">5.4&nbsp;&nbsp;</span>Вывод</a></span></li></ul></li><li><span><a href=\"#Вывод\" data-toc-modified-id=\"Вывод-6\"><span class=\"toc-item-num\">6&nbsp;&nbsp;</span>Вывод</a></span><ul class=\"toc-item\"><li><span><a href=\"#Анализ-влияния-признаков-на-качество-модели\" data-toc-modified-id=\"Анализ-влияния-признаков-на-качество-модели-6.1\"><span class=\"toc-item-num\">6.1&nbsp;&nbsp;</span>Анализ влияния признаков на качество модели</a></span></li><li><span><a href=\"#Вывод\" data-toc-modified-id=\"Вывод-6.2\"><span class=\"toc-item-num\">6.2&nbsp;&nbsp;</span>Вывод</a></span></li></ul></li></ul></div>"
   ]
  },
  {
   "cell_type": "markdown",
   "id": "fb8de2e0",
   "metadata": {},
   "source": [
    "# Исследование оптимальной температуры стали в процессе легирования"
   ]
  },
  {
   "cell_type": "markdown",
   "id": "50d59604",
   "metadata": {},
   "source": [
    "## Описание"
   ]
  },
  {
   "cell_type": "markdown",
   "id": "ef9f4fc4",
   "metadata": {},
   "source": [
    "### Цель проекта"
   ]
  },
  {
   "cell_type": "markdown",
   "id": "05137215",
   "metadata": {},
   "source": [
    "Заказчиком работы является металлургический комбинат ООО \"Так закаляем сталь\", который ищет пути оптимизации расходов в процессе обработки стали.\n",
    "\n",
    "Целью проекта является разработка модели машинного обучения, которая сможет предсказать оптимальную температуру плавления стали, что поможет расходовать меньше электроэнергии.\n",
    "\n",
    "Ознакомимся с технологией."
   ]
  },
  {
   "cell_type": "markdown",
   "id": "ad542e2c",
   "metadata": {},
   "source": [
    "### Описание технологического процесса легирования сталей"
   ]
  },
  {
   "cell_type": "markdown",
   "id": "fa37ce67",
   "metadata": {},
   "source": [
    "Электродуговая плавка сталей производится в электропечи ёмкостью 100 тонн. Перед процессом легирования, методом плавления из стали удаляются вредные примеси и газы. Для этого сталь подогревают графитовыми электродами, которые установлены в крышке ковша. В этом процессе добавлением примесей корректируется химический состав сплава и отбираются пробы.\n",
    "\n",
    "Перед подачей легирующих материалов производится замер температуры расплавленной стали. Затем её температура повышается, предусматривается подача в подготовленную сталь кусков сплава из бункера для сыпучих материалов или проволоку через специальный трайб-аппарат и производится продувка сплава инертным газом. Сплав перемешивают и производят измерения. Если целевой химический состав не достигнут, цикл повторяется.\n",
    "\n",
    "После завершения легирования, расплавленная сталь отправляется на доводку металла или поступает в машину непрерывной разливки."
   ]
  },
  {
   "cell_type": "markdown",
   "id": "5d5c9204",
   "metadata": {},
   "source": [
    "### Описание исходных данных"
   ]
  },
  {
   "cell_type": "markdown",
   "id": "4ee3c49b",
   "metadata": {},
   "source": [
    "В качестве исходных данных заказчик предоставил несколько csv-файлов с параметрами циклов обработки стали:\n",
    "\n",
    "* `data_arc.csv` — данные об электродах;\n",
    "- `data_bulk.csv` — данные о подаче сыпучих материалов (объём);\n",
    "* `data_bulk_time.csv` *—* данные о подаче сыпучих материалов (время);\n",
    "* `data_gas.csv` — данные о продувке сплава газом;\n",
    "* `data_temp.csv` — результаты измерения температуры;\n",
    "* `data_wire.csv` — данные о проволочных материалах (объём);\n",
    "* `data_wire_time.csv` — данные о проволочных материалах (время)."
   ]
  },
  {
   "cell_type": "markdown",
   "id": "d046e379",
   "metadata": {},
   "source": [
    "Во всех файлах столбец `key` содержит номер партии. В файлах может быть несколько строк с одинаковым значением `key`: они соответствуют разным итерациям обработки.\n",
    "\n",
    "Согласно техническому заданию, итерации обработки каждой партии стали не должны учитываться при построении моделей. Для каждой партии необходимо учесть температуру только в начале и конце процесса обработки. Выбросы в данных удалять нежелательно. Обучение модели должно происходить только на тех партиях, для которых имеются данные во всех таблицах.\n",
    "\n",
    "Целевым признаком является температура стали в конце процесса обработки для каждой партии.\n",
    "\n",
    "Составим план работы."
   ]
  },
  {
   "cell_type": "markdown",
   "id": "d279bfdc",
   "metadata": {},
   "source": [
    "### План проекта"
   ]
  },
  {
   "cell_type": "markdown",
   "id": "1bf3120e",
   "metadata": {},
   "source": [
    "1. Выполнение поставленной задачи начнём с загрузки и анализа данных. На данном этапе изучим значения признаков, посмотрим на их распределение. Проведём анализ данных на предмет влияния на целевой признак.\n",
    "\n",
    "\n",
    "2. Далее выполним предобработку данных, в ходе которой очистим данные от лишней информации, проведём сборку датафрейма, который будем использовать для обучения моделей.\n",
    "\n",
    "\n",
    "3. После этого подготовим данные к обучению: поделим датафрейм на признаки и целевой признак, создадим тренировочную и тестовую выборки.\n",
    "\n",
    "\n",
    "4. После подготовки признаков перейдём к обучению моделей. Попробуем использовать построить следующие модели:\n",
    "* линейная регрессия, оценим качество кросс-валидацией с помощью функции `cross_val_score`;\n",
    "* случайный лес, подберём гиперпараметры и оценим качество модулем `GridSearchCV`;\n",
    "* градиентный бустинг из библиотеки `LightGBM`, подберём гиперпараметры и оценим качество модулем `GridSearchCV`.\n",
    "\n",
    "\n",
    "5. Оценку качества построенных моделей будем выполнять с помощью метрики *МАЕ*. В качестве итоговой примем модель с наименьшей ошибкой *МАЕ*.\n",
    "\n",
    "\n",
    "6. Выполним проверку модели на тестовых данных.\n",
    "\n",
    "\n",
    "7. Для оценки адекватности обученной модели сравним её с моделью, построенной на основе алгоритма с примитивными правилами *DummyRegressor*. Если значение метрики *МАЕ* построенной модели окажется меньше аналогичной метрики примитивной модели *DummyRegressor*, модель будем считать адекватной. Дополнительно применим метрику `r2_score`и будем ожидать положительное значение этого показателя."
   ]
  },
  {
   "cell_type": "markdown",
   "id": "eb2918b9",
   "metadata": {},
   "source": [
    "### Качество модели"
   ]
  },
  {
   "cell_type": "markdown",
   "id": "0740469d",
   "metadata": {},
   "source": [
    "Согласно техническому заданию, **значение метрики *МАЕ* искомой модели должно быть не выше 6.8.**\n",
    "\n",
    "Значение случайной составляющей должно быть равно 141122. Запишем её в переменную `ra`.\n",
    "\n",
    "Все условия заданы, начинаем работу."
   ]
  },
  {
   "cell_type": "code",
   "execution_count": 1,
   "id": "3c6f6e45",
   "metadata": {},
   "outputs": [],
   "source": [
    "# fixing randomness\n",
    "ra = 141122"
   ]
  },
  {
   "cell_type": "markdown",
   "id": "0a447cfd",
   "metadata": {},
   "source": [
    "## Анализ данных"
   ]
  },
  {
   "cell_type": "markdown",
   "id": "2a1d4873",
   "metadata": {},
   "source": [
    "### Импорт библиотек"
   ]
  },
  {
   "cell_type": "code",
   "execution_count": 3,
   "id": "6f13c132",
   "metadata": {},
   "outputs": [],
   "source": [
    "import os\n",
    "\n",
    "import pandas as pd\n",
    "import numpy as np\n",
    "\n",
    "import pylab as pl\n",
    "from matplotlib import pyplot as plt\n",
    "\n",
    "import re\n",
    "\n",
    "from sklearn.model_selection import train_test_split\n",
    "from sklearn.preprocessing import StandardScaler\n",
    "from sklearn.metrics import mean_absolute_error\n",
    "from sklearn.linear_model import LinearRegression\n",
    "from sklearn.ensemble import RandomForestRegressor\n",
    "from sklearn.model_selection import cross_val_score\n",
    "from sklearn.model_selection import GridSearchCV\n",
    "from sklearn.dummy import DummyRegressor\n",
    "from sklearn.metrics import r2_score\n",
    "from sklearn.preprocessing import StandardScaler\n",
    "\n",
    "from lightgbm import LGBMRegressor\n",
    "\n",
    "import pandas_profiling\n",
    "\n",
    "import seaborn"
   ]
  },
  {
   "cell_type": "markdown",
   "id": "08b877b2",
   "metadata": {},
   "source": [
    "### Данные об электродах, таблица data_arc"
   ]
  },
  {
   "cell_type": "code",
   "execution_count": 4,
   "id": "c87b83d3",
   "metadata": {},
   "outputs": [],
   "source": [
    "# loading data\n",
    "pth1 = r'D:\\Python\\Проекты\\Спринт18_финал\\final_steel\\data_arc.csv'\n",
    "df_arc = pd.read_csv(pth1)"
   ]
  },
  {
   "cell_type": "markdown",
   "id": "78645966",
   "metadata": {},
   "source": [
    "Изучим общую информацию по датасету."
   ]
  },
  {
   "cell_type": "code",
   "execution_count": 5,
   "id": "8bff7370",
   "metadata": {},
   "outputs": [
    {
     "name": "stdout",
     "output_type": "stream",
     "text": [
      "<class 'pandas.core.frame.DataFrame'>\n",
      "RangeIndex: 14876 entries, 0 to 14875\n",
      "Data columns (total 5 columns):\n",
      " #   Column                Non-Null Count  Dtype  \n",
      "---  ------                --------------  -----  \n",
      " 0   key                   14876 non-null  int64  \n",
      " 1   Начало нагрева дугой  14876 non-null  object \n",
      " 2   Конец нагрева дугой   14876 non-null  object \n",
      " 3   Активная мощность     14876 non-null  float64\n",
      " 4   Реактивная мощность   14876 non-null  float64\n",
      "dtypes: float64(2), int64(1), object(2)\n",
      "memory usage: 581.2+ KB\n"
     ]
    }
   ],
   "source": [
    "# getting common info\n",
    "df_arc.info()"
   ]
  },
  {
   "cell_type": "markdown",
   "id": "f9a71178",
   "metadata": {},
   "source": [
    "Посмотрим на несколько строк таблицы."
   ]
  },
  {
   "cell_type": "code",
   "execution_count": 6,
   "id": "220f703f",
   "metadata": {},
   "outputs": [
    {
     "data": {
      "text/html": [
       "<div>\n",
       "<style scoped>\n",
       "    .dataframe tbody tr th:only-of-type {\n",
       "        vertical-align: middle;\n",
       "    }\n",
       "\n",
       "    .dataframe tbody tr th {\n",
       "        vertical-align: top;\n",
       "    }\n",
       "\n",
       "    .dataframe thead th {\n",
       "        text-align: right;\n",
       "    }\n",
       "</style>\n",
       "<table border=\"1\" class=\"dataframe\">\n",
       "  <thead>\n",
       "    <tr style=\"text-align: right;\">\n",
       "      <th></th>\n",
       "      <th>key</th>\n",
       "      <th>Начало нагрева дугой</th>\n",
       "      <th>Конец нагрева дугой</th>\n",
       "      <th>Активная мощность</th>\n",
       "      <th>Реактивная мощность</th>\n",
       "    </tr>\n",
       "  </thead>\n",
       "  <tbody>\n",
       "    <tr>\n",
       "      <th>0</th>\n",
       "      <td>1</td>\n",
       "      <td>2019-05-03 11:02:14</td>\n",
       "      <td>2019-05-03 11:06:02</td>\n",
       "      <td>0.976059</td>\n",
       "      <td>0.687084</td>\n",
       "    </tr>\n",
       "    <tr>\n",
       "      <th>1</th>\n",
       "      <td>1</td>\n",
       "      <td>2019-05-03 11:07:28</td>\n",
       "      <td>2019-05-03 11:10:33</td>\n",
       "      <td>0.805607</td>\n",
       "      <td>0.520285</td>\n",
       "    </tr>\n",
       "    <tr>\n",
       "      <th>2</th>\n",
       "      <td>1</td>\n",
       "      <td>2019-05-03 11:11:44</td>\n",
       "      <td>2019-05-03 11:14:36</td>\n",
       "      <td>0.744363</td>\n",
       "      <td>0.498805</td>\n",
       "    </tr>\n",
       "    <tr>\n",
       "      <th>3</th>\n",
       "      <td>1</td>\n",
       "      <td>2019-05-03 11:18:14</td>\n",
       "      <td>2019-05-03 11:24:19</td>\n",
       "      <td>1.659363</td>\n",
       "      <td>1.062669</td>\n",
       "    </tr>\n",
       "    <tr>\n",
       "      <th>4</th>\n",
       "      <td>1</td>\n",
       "      <td>2019-05-03 11:26:09</td>\n",
       "      <td>2019-05-03 11:28:37</td>\n",
       "      <td>0.692755</td>\n",
       "      <td>0.414397</td>\n",
       "    </tr>\n",
       "  </tbody>\n",
       "</table>\n",
       "</div>"
      ],
      "text/plain": [
       "   key Начало нагрева дугой  Конец нагрева дугой  Активная мощность  \\\n",
       "0    1  2019-05-03 11:02:14  2019-05-03 11:06:02           0.976059   \n",
       "1    1  2019-05-03 11:07:28  2019-05-03 11:10:33           0.805607   \n",
       "2    1  2019-05-03 11:11:44  2019-05-03 11:14:36           0.744363   \n",
       "3    1  2019-05-03 11:18:14  2019-05-03 11:24:19           1.659363   \n",
       "4    1  2019-05-03 11:26:09  2019-05-03 11:28:37           0.692755   \n",
       "\n",
       "   Реактивная мощность  \n",
       "0             0.687084  \n",
       "1             0.520285  \n",
       "2             0.498805  \n",
       "3             1.062669  \n",
       "4             0.414397  "
      ]
     },
     "execution_count": 6,
     "metadata": {},
     "output_type": "execute_result"
    }
   ],
   "source": [
    "# viewing the top rows\n",
    "df_arc.head()"
   ]
  },
  {
   "cell_type": "markdown",
   "id": "7c8151a8",
   "metadata": {},
   "source": [
    "Признаки с датами имеют строковый тип данных. Заменим их на корректный тип. Для этого повторно загрузим датасет, указав атрибут *parse_dates* метода *read_csv*."
   ]
  },
  {
   "cell_type": "code",
   "execution_count": 7,
   "id": "3db25bdd",
   "metadata": {},
   "outputs": [],
   "source": [
    "# loading data\n",
    "pth1 = r'D:\\Python\\Проекты\\Спринт18_финал\\final_steel\\data_arc.csv'\n",
    "df_arc = pd.read_csv(pth1, parse_dates=[1, 2])"
   ]
  },
  {
   "cell_type": "markdown",
   "id": "c004719d",
   "metadata": {},
   "source": [
    "Проверим результат, выведем снова общую информацию."
   ]
  },
  {
   "cell_type": "code",
   "execution_count": 8,
   "id": "26b9460a",
   "metadata": {},
   "outputs": [
    {
     "name": "stdout",
     "output_type": "stream",
     "text": [
      "<class 'pandas.core.frame.DataFrame'>\n",
      "RangeIndex: 14876 entries, 0 to 14875\n",
      "Data columns (total 5 columns):\n",
      " #   Column                Non-Null Count  Dtype         \n",
      "---  ------                --------------  -----         \n",
      " 0   key                   14876 non-null  int64         \n",
      " 1   Начало нагрева дугой  14876 non-null  datetime64[ns]\n",
      " 2   Конец нагрева дугой   14876 non-null  datetime64[ns]\n",
      " 3   Активная мощность     14876 non-null  float64       \n",
      " 4   Реактивная мощность   14876 non-null  float64       \n",
      "dtypes: datetime64[ns](2), float64(2), int64(1)\n",
      "memory usage: 581.2 KB\n"
     ]
    }
   ],
   "source": [
    "# getting common info\n",
    "df_arc.info()"
   ]
  },
  {
   "cell_type": "markdown",
   "id": "2bd3e717",
   "metadata": {},
   "source": [
    "Переименуем колонки и выведем несколько строк для проверки результата."
   ]
  },
  {
   "cell_type": "code",
   "execution_count": 9,
   "id": "abe73c0a",
   "metadata": {},
   "outputs": [
    {
     "data": {
      "text/html": [
       "<div>\n",
       "<style scoped>\n",
       "    .dataframe tbody tr th:only-of-type {\n",
       "        vertical-align: middle;\n",
       "    }\n",
       "\n",
       "    .dataframe tbody tr th {\n",
       "        vertical-align: top;\n",
       "    }\n",
       "\n",
       "    .dataframe thead th {\n",
       "        text-align: right;\n",
       "    }\n",
       "</style>\n",
       "<table border=\"1\" class=\"dataframe\">\n",
       "  <thead>\n",
       "    <tr style=\"text-align: right;\">\n",
       "      <th></th>\n",
       "      <th>key</th>\n",
       "      <th>time_start</th>\n",
       "      <th>time_stop</th>\n",
       "      <th>activ</th>\n",
       "      <th>reactiv</th>\n",
       "    </tr>\n",
       "  </thead>\n",
       "  <tbody>\n",
       "    <tr>\n",
       "      <th>0</th>\n",
       "      <td>1</td>\n",
       "      <td>2019-05-03 11:02:14</td>\n",
       "      <td>2019-05-03 11:06:02</td>\n",
       "      <td>0.976059</td>\n",
       "      <td>0.687084</td>\n",
       "    </tr>\n",
       "    <tr>\n",
       "      <th>1</th>\n",
       "      <td>1</td>\n",
       "      <td>2019-05-03 11:07:28</td>\n",
       "      <td>2019-05-03 11:10:33</td>\n",
       "      <td>0.805607</td>\n",
       "      <td>0.520285</td>\n",
       "    </tr>\n",
       "    <tr>\n",
       "      <th>2</th>\n",
       "      <td>1</td>\n",
       "      <td>2019-05-03 11:11:44</td>\n",
       "      <td>2019-05-03 11:14:36</td>\n",
       "      <td>0.744363</td>\n",
       "      <td>0.498805</td>\n",
       "    </tr>\n",
       "    <tr>\n",
       "      <th>3</th>\n",
       "      <td>1</td>\n",
       "      <td>2019-05-03 11:18:14</td>\n",
       "      <td>2019-05-03 11:24:19</td>\n",
       "      <td>1.659363</td>\n",
       "      <td>1.062669</td>\n",
       "    </tr>\n",
       "    <tr>\n",
       "      <th>4</th>\n",
       "      <td>1</td>\n",
       "      <td>2019-05-03 11:26:09</td>\n",
       "      <td>2019-05-03 11:28:37</td>\n",
       "      <td>0.692755</td>\n",
       "      <td>0.414397</td>\n",
       "    </tr>\n",
       "  </tbody>\n",
       "</table>\n",
       "</div>"
      ],
      "text/plain": [
       "   key          time_start           time_stop     activ   reactiv\n",
       "0    1 2019-05-03 11:02:14 2019-05-03 11:06:02  0.976059  0.687084\n",
       "1    1 2019-05-03 11:07:28 2019-05-03 11:10:33  0.805607  0.520285\n",
       "2    1 2019-05-03 11:11:44 2019-05-03 11:14:36  0.744363  0.498805\n",
       "3    1 2019-05-03 11:18:14 2019-05-03 11:24:19  1.659363  1.062669\n",
       "4    1 2019-05-03 11:26:09 2019-05-03 11:28:37  0.692755  0.414397"
      ]
     },
     "execution_count": 9,
     "metadata": {},
     "output_type": "execute_result"
    }
   ],
   "source": [
    "# renaming columns\n",
    "df_arc = df_arc.rename(columns={\n",
    "    'Начало нагрева дугой': 'time_start', \n",
    "    'Конец нагрева дугой': 'time_stop', \n",
    "    'Активная мощность': 'activ', \n",
    "    'Реактивная мощность': 'reactiv'})\n",
    "\n",
    "# viewing the top rows\n",
    "df_arc.head()"
   ]
  },
  {
   "cell_type": "markdown",
   "id": "35f401da",
   "metadata": {},
   "source": [
    "Создадим столбец с продолжительностью каждой итерации, которую вычислим по формуле."
   ]
  },
  {
   "cell_type": "code",
   "execution_count": 10,
   "id": "2a98a5bd",
   "metadata": {},
   "outputs": [
    {
     "data": {
      "text/html": [
       "<div>\n",
       "<style scoped>\n",
       "    .dataframe tbody tr th:only-of-type {\n",
       "        vertical-align: middle;\n",
       "    }\n",
       "\n",
       "    .dataframe tbody tr th {\n",
       "        vertical-align: top;\n",
       "    }\n",
       "\n",
       "    .dataframe thead th {\n",
       "        text-align: right;\n",
       "    }\n",
       "</style>\n",
       "<table border=\"1\" class=\"dataframe\">\n",
       "  <thead>\n",
       "    <tr style=\"text-align: right;\">\n",
       "      <th></th>\n",
       "      <th>key</th>\n",
       "      <th>time_start</th>\n",
       "      <th>time_stop</th>\n",
       "      <th>activ</th>\n",
       "      <th>reactiv</th>\n",
       "      <th>seconds</th>\n",
       "    </tr>\n",
       "  </thead>\n",
       "  <tbody>\n",
       "    <tr>\n",
       "      <th>0</th>\n",
       "      <td>1</td>\n",
       "      <td>2019-05-03 11:02:14</td>\n",
       "      <td>2019-05-03 11:06:02</td>\n",
       "      <td>0.976059</td>\n",
       "      <td>0.687084</td>\n",
       "      <td>228</td>\n",
       "    </tr>\n",
       "    <tr>\n",
       "      <th>1</th>\n",
       "      <td>1</td>\n",
       "      <td>2019-05-03 11:07:28</td>\n",
       "      <td>2019-05-03 11:10:33</td>\n",
       "      <td>0.805607</td>\n",
       "      <td>0.520285</td>\n",
       "      <td>185</td>\n",
       "    </tr>\n",
       "    <tr>\n",
       "      <th>2</th>\n",
       "      <td>1</td>\n",
       "      <td>2019-05-03 11:11:44</td>\n",
       "      <td>2019-05-03 11:14:36</td>\n",
       "      <td>0.744363</td>\n",
       "      <td>0.498805</td>\n",
       "      <td>172</td>\n",
       "    </tr>\n",
       "    <tr>\n",
       "      <th>3</th>\n",
       "      <td>1</td>\n",
       "      <td>2019-05-03 11:18:14</td>\n",
       "      <td>2019-05-03 11:24:19</td>\n",
       "      <td>1.659363</td>\n",
       "      <td>1.062669</td>\n",
       "      <td>365</td>\n",
       "    </tr>\n",
       "    <tr>\n",
       "      <th>4</th>\n",
       "      <td>1</td>\n",
       "      <td>2019-05-03 11:26:09</td>\n",
       "      <td>2019-05-03 11:28:37</td>\n",
       "      <td>0.692755</td>\n",
       "      <td>0.414397</td>\n",
       "      <td>148</td>\n",
       "    </tr>\n",
       "  </tbody>\n",
       "</table>\n",
       "</div>"
      ],
      "text/plain": [
       "   key          time_start           time_stop     activ   reactiv  seconds\n",
       "0    1 2019-05-03 11:02:14 2019-05-03 11:06:02  0.976059  0.687084      228\n",
       "1    1 2019-05-03 11:07:28 2019-05-03 11:10:33  0.805607  0.520285      185\n",
       "2    1 2019-05-03 11:11:44 2019-05-03 11:14:36  0.744363  0.498805      172\n",
       "3    1 2019-05-03 11:18:14 2019-05-03 11:24:19  1.659363  1.062669      365\n",
       "4    1 2019-05-03 11:26:09 2019-05-03 11:28:37  0.692755  0.414397      148"
      ]
     },
     "execution_count": 10,
     "metadata": {},
     "output_type": "execute_result"
    }
   ],
   "source": [
    "# creating new column with duration\n",
    "df_arc['seconds'] = (df_arc['time_stop'] - df_arc['time_start']).dt.seconds\n",
    "\n",
    "# viewing the top rows\n",
    "df_arc.head()"
   ]
  },
  {
   "cell_type": "markdown",
   "id": "18931c82",
   "metadata": {},
   "source": [
    "Создадим столбец с общей мощностью потребленной партией электроэнергией."
   ]
  },
  {
   "cell_type": "code",
   "execution_count": 11,
   "id": "b19ca472",
   "metadata": {},
   "outputs": [
    {
     "data": {
      "text/html": [
       "<div>\n",
       "<style scoped>\n",
       "    .dataframe tbody tr th:only-of-type {\n",
       "        vertical-align: middle;\n",
       "    }\n",
       "\n",
       "    .dataframe tbody tr th {\n",
       "        vertical-align: top;\n",
       "    }\n",
       "\n",
       "    .dataframe thead th {\n",
       "        text-align: right;\n",
       "    }\n",
       "</style>\n",
       "<table border=\"1\" class=\"dataframe\">\n",
       "  <thead>\n",
       "    <tr style=\"text-align: right;\">\n",
       "      <th></th>\n",
       "      <th>key</th>\n",
       "      <th>time_start</th>\n",
       "      <th>time_stop</th>\n",
       "      <th>activ</th>\n",
       "      <th>reactiv</th>\n",
       "      <th>seconds</th>\n",
       "      <th>power</th>\n",
       "    </tr>\n",
       "  </thead>\n",
       "  <tbody>\n",
       "    <tr>\n",
       "      <th>0</th>\n",
       "      <td>1</td>\n",
       "      <td>2019-05-03 11:02:14</td>\n",
       "      <td>2019-05-03 11:06:02</td>\n",
       "      <td>0.976059</td>\n",
       "      <td>0.687084</td>\n",
       "      <td>228</td>\n",
       "      <td>1.193639</td>\n",
       "    </tr>\n",
       "    <tr>\n",
       "      <th>1</th>\n",
       "      <td>1</td>\n",
       "      <td>2019-05-03 11:07:28</td>\n",
       "      <td>2019-05-03 11:10:33</td>\n",
       "      <td>0.805607</td>\n",
       "      <td>0.520285</td>\n",
       "      <td>185</td>\n",
       "      <td>0.959010</td>\n",
       "    </tr>\n",
       "    <tr>\n",
       "      <th>2</th>\n",
       "      <td>1</td>\n",
       "      <td>2019-05-03 11:11:44</td>\n",
       "      <td>2019-05-03 11:14:36</td>\n",
       "      <td>0.744363</td>\n",
       "      <td>0.498805</td>\n",
       "      <td>172</td>\n",
       "      <td>0.896038</td>\n",
       "    </tr>\n",
       "    <tr>\n",
       "      <th>3</th>\n",
       "      <td>1</td>\n",
       "      <td>2019-05-03 11:18:14</td>\n",
       "      <td>2019-05-03 11:24:19</td>\n",
       "      <td>1.659363</td>\n",
       "      <td>1.062669</td>\n",
       "      <td>365</td>\n",
       "      <td>1.970470</td>\n",
       "    </tr>\n",
       "    <tr>\n",
       "      <th>4</th>\n",
       "      <td>1</td>\n",
       "      <td>2019-05-03 11:26:09</td>\n",
       "      <td>2019-05-03 11:28:37</td>\n",
       "      <td>0.692755</td>\n",
       "      <td>0.414397</td>\n",
       "      <td>148</td>\n",
       "      <td>0.807239</td>\n",
       "    </tr>\n",
       "  </tbody>\n",
       "</table>\n",
       "</div>"
      ],
      "text/plain": [
       "   key          time_start           time_stop     activ   reactiv  seconds  \\\n",
       "0    1 2019-05-03 11:02:14 2019-05-03 11:06:02  0.976059  0.687084      228   \n",
       "1    1 2019-05-03 11:07:28 2019-05-03 11:10:33  0.805607  0.520285      185   \n",
       "2    1 2019-05-03 11:11:44 2019-05-03 11:14:36  0.744363  0.498805      172   \n",
       "3    1 2019-05-03 11:18:14 2019-05-03 11:24:19  1.659363  1.062669      365   \n",
       "4    1 2019-05-03 11:26:09 2019-05-03 11:28:37  0.692755  0.414397      148   \n",
       "\n",
       "      power  \n",
       "0  1.193639  \n",
       "1  0.959010  \n",
       "2  0.896038  \n",
       "3  1.970470  \n",
       "4  0.807239  "
      ]
     },
     "execution_count": 11,
     "metadata": {},
     "output_type": "execute_result"
    }
   ],
   "source": [
    "# creating a function for power calculate\n",
    "def power(a, b):\n",
    "    return np.sqrt(np.sum([np.square(a), np.square(b)], axis=0))\n",
    "\n",
    "# creating new column with power using function\n",
    "df_arc['power'] = power(df_arc['activ'], df_arc['reactiv'])\n",
    "\n",
    "# viewing the top rows\n",
    "df_arc.head()"
   ]
  },
  {
   "cell_type": "markdown",
   "id": "d37a976f",
   "metadata": {},
   "source": [
    "Посмотрим на распределение значений количественных столбцов."
   ]
  },
  {
   "cell_type": "code",
   "execution_count": 12,
   "id": "dda362f6",
   "metadata": {},
   "outputs": [
    {
     "data": {
      "text/html": [
       "<div>\n",
       "<style scoped>\n",
       "    .dataframe tbody tr th:only-of-type {\n",
       "        vertical-align: middle;\n",
       "    }\n",
       "\n",
       "    .dataframe tbody tr th {\n",
       "        vertical-align: top;\n",
       "    }\n",
       "\n",
       "    .dataframe thead th {\n",
       "        text-align: right;\n",
       "    }\n",
       "</style>\n",
       "<table border=\"1\" class=\"dataframe\">\n",
       "  <thead>\n",
       "    <tr style=\"text-align: right;\">\n",
       "      <th></th>\n",
       "      <th>key</th>\n",
       "      <th>activ</th>\n",
       "      <th>reactiv</th>\n",
       "      <th>seconds</th>\n",
       "      <th>power</th>\n",
       "    </tr>\n",
       "  </thead>\n",
       "  <tbody>\n",
       "    <tr>\n",
       "      <th>count</th>\n",
       "      <td>14876.000000</td>\n",
       "      <td>14876.000000</td>\n",
       "      <td>14876.000000</td>\n",
       "      <td>14876.000000</td>\n",
       "      <td>14876.000000</td>\n",
       "    </tr>\n",
       "    <tr>\n",
       "      <th>mean</th>\n",
       "      <td>1615.220422</td>\n",
       "      <td>0.670441</td>\n",
       "      <td>0.452592</td>\n",
       "      <td>171.670946</td>\n",
       "      <td>0.886809</td>\n",
       "    </tr>\n",
       "    <tr>\n",
       "      <th>std</th>\n",
       "      <td>934.571502</td>\n",
       "      <td>0.408159</td>\n",
       "      <td>5.878702</td>\n",
       "      <td>98.186803</td>\n",
       "      <td>5.881634</td>\n",
       "    </tr>\n",
       "    <tr>\n",
       "      <th>min</th>\n",
       "      <td>1.000000</td>\n",
       "      <td>0.030002</td>\n",
       "      <td>-715.504924</td>\n",
       "      <td>11.000000</td>\n",
       "      <td>0.036664</td>\n",
       "    </tr>\n",
       "    <tr>\n",
       "      <th>25%</th>\n",
       "      <td>806.000000</td>\n",
       "      <td>0.395297</td>\n",
       "      <td>0.290991</td>\n",
       "      <td>107.000000</td>\n",
       "      <td>0.495346</td>\n",
       "    </tr>\n",
       "    <tr>\n",
       "      <th>50%</th>\n",
       "      <td>1617.000000</td>\n",
       "      <td>0.555517</td>\n",
       "      <td>0.415962</td>\n",
       "      <td>147.000000</td>\n",
       "      <td>0.694961</td>\n",
       "    </tr>\n",
       "    <tr>\n",
       "      <th>75%</th>\n",
       "      <td>2429.000000</td>\n",
       "      <td>0.857034</td>\n",
       "      <td>0.637371</td>\n",
       "      <td>214.000000</td>\n",
       "      <td>1.066975</td>\n",
       "    </tr>\n",
       "    <tr>\n",
       "      <th>max</th>\n",
       "      <td>3241.000000</td>\n",
       "      <td>3.731596</td>\n",
       "      <td>2.676388</td>\n",
       "      <td>907.000000</td>\n",
       "      <td>715.505096</td>\n",
       "    </tr>\n",
       "  </tbody>\n",
       "</table>\n",
       "</div>"
      ],
      "text/plain": [
       "                key         activ       reactiv       seconds         power\n",
       "count  14876.000000  14876.000000  14876.000000  14876.000000  14876.000000\n",
       "mean    1615.220422      0.670441      0.452592    171.670946      0.886809\n",
       "std      934.571502      0.408159      5.878702     98.186803      5.881634\n",
       "min        1.000000      0.030002   -715.504924     11.000000      0.036664\n",
       "25%      806.000000      0.395297      0.290991    107.000000      0.495346\n",
       "50%     1617.000000      0.555517      0.415962    147.000000      0.694961\n",
       "75%     2429.000000      0.857034      0.637371    214.000000      1.066975\n",
       "max     3241.000000      3.731596      2.676388    907.000000    715.505096"
      ]
     },
     "execution_count": 12,
     "metadata": {},
     "output_type": "execute_result"
    }
   ],
   "source": [
    "# getting description\n",
    "df_arc.describe()"
   ]
  },
  {
   "cell_type": "markdown",
   "id": "cfa3e936",
   "metadata": {},
   "source": [
    "Бросается в глаза минимальное значение реактивной мощности. Выведем на экран строки с отрицательной реактивной мощностью."
   ]
  },
  {
   "cell_type": "code",
   "execution_count": 13,
   "id": "05032116",
   "metadata": {},
   "outputs": [
    {
     "data": {
      "text/html": [
       "<div>\n",
       "<style scoped>\n",
       "    .dataframe tbody tr th:only-of-type {\n",
       "        vertical-align: middle;\n",
       "    }\n",
       "\n",
       "    .dataframe tbody tr th {\n",
       "        vertical-align: top;\n",
       "    }\n",
       "\n",
       "    .dataframe thead th {\n",
       "        text-align: right;\n",
       "    }\n",
       "</style>\n",
       "<table border=\"1\" class=\"dataframe\">\n",
       "  <thead>\n",
       "    <tr style=\"text-align: right;\">\n",
       "      <th></th>\n",
       "      <th>key</th>\n",
       "      <th>time_start</th>\n",
       "      <th>time_stop</th>\n",
       "      <th>activ</th>\n",
       "      <th>reactiv</th>\n",
       "      <th>seconds</th>\n",
       "      <th>power</th>\n",
       "    </tr>\n",
       "  </thead>\n",
       "  <tbody>\n",
       "    <tr>\n",
       "      <th>9780</th>\n",
       "      <td>2116</td>\n",
       "      <td>2019-07-24 00:44:48</td>\n",
       "      <td>2019-07-24 00:46:37</td>\n",
       "      <td>0.495782</td>\n",
       "      <td>-715.504924</td>\n",
       "      <td>109</td>\n",
       "      <td>715.505096</td>\n",
       "    </tr>\n",
       "  </tbody>\n",
       "</table>\n",
       "</div>"
      ],
      "text/plain": [
       "       key          time_start           time_stop     activ     reactiv  \\\n",
       "9780  2116 2019-07-24 00:44:48 2019-07-24 00:46:37  0.495782 -715.504924   \n",
       "\n",
       "      seconds       power  \n",
       "9780      109  715.505096  "
      ]
     },
     "execution_count": 13,
     "metadata": {},
     "output_type": "execute_result"
    }
   ],
   "source": [
    "# viewing top rows with power less 0\n",
    "df_arc[df_arc['reactiv'] < 0].head()"
   ]
  },
  {
   "cell_type": "markdown",
   "id": "700815c5",
   "metadata": {},
   "source": [
    "Очевидная аномалия. Избавимся от неё."
   ]
  },
  {
   "cell_type": "code",
   "execution_count": 14,
   "id": "bcd1d9c1",
   "metadata": {},
   "outputs": [],
   "source": [
    "# deleting rows with power less 0\n",
    "df_arc = df_arc[df_arc['reactiv'] > 0]"
   ]
  },
  {
   "cell_type": "markdown",
   "id": "1456ffb9",
   "metadata": {},
   "source": [
    "Посмотрим на количество партий."
   ]
  },
  {
   "cell_type": "code",
   "execution_count": 15,
   "id": "e4003939",
   "metadata": {},
   "outputs": [
    {
     "data": {
      "text/plain": [
       "3214"
      ]
     },
     "execution_count": 15,
     "metadata": {},
     "output_type": "execute_result"
    }
   ],
   "source": [
    "# counting unique values\n",
    "len(df_arc['key'].unique())"
   ]
  },
  {
   "cell_type": "markdown",
   "id": "6ad9feaf",
   "metadata": {},
   "source": [
    "Создадим сводную таблицу с ключевыми параметрами партии."
   ]
  },
  {
   "cell_type": "code",
   "execution_count": 16,
   "id": "c9c86131",
   "metadata": {},
   "outputs": [
    {
     "data": {
      "text/html": [
       "<div>\n",
       "<style scoped>\n",
       "    .dataframe tbody tr th:only-of-type {\n",
       "        vertical-align: middle;\n",
       "    }\n",
       "\n",
       "    .dataframe tbody tr th {\n",
       "        vertical-align: top;\n",
       "    }\n",
       "\n",
       "    .dataframe thead th {\n",
       "        text-align: right;\n",
       "    }\n",
       "</style>\n",
       "<table border=\"1\" class=\"dataframe\">\n",
       "  <thead>\n",
       "    <tr style=\"text-align: right;\">\n",
       "      <th></th>\n",
       "      <th>key</th>\n",
       "      <th>iter</th>\n",
       "      <th>power</th>\n",
       "      <th>seconds</th>\n",
       "    </tr>\n",
       "  </thead>\n",
       "  <tbody>\n",
       "    <tr>\n",
       "      <th>0</th>\n",
       "      <td>1</td>\n",
       "      <td>5</td>\n",
       "      <td>5.826395</td>\n",
       "      <td>1098</td>\n",
       "    </tr>\n",
       "    <tr>\n",
       "      <th>1</th>\n",
       "      <td>2</td>\n",
       "      <td>4</td>\n",
       "      <td>3.649216</td>\n",
       "      <td>811</td>\n",
       "    </tr>\n",
       "    <tr>\n",
       "      <th>2</th>\n",
       "      <td>3</td>\n",
       "      <td>5</td>\n",
       "      <td>2.989534</td>\n",
       "      <td>655</td>\n",
       "    </tr>\n",
       "    <tr>\n",
       "      <th>3</th>\n",
       "      <td>4</td>\n",
       "      <td>4</td>\n",
       "      <td>3.814962</td>\n",
       "      <td>741</td>\n",
       "    </tr>\n",
       "    <tr>\n",
       "      <th>4</th>\n",
       "      <td>5</td>\n",
       "      <td>4</td>\n",
       "      <td>4.035758</td>\n",
       "      <td>869</td>\n",
       "    </tr>\n",
       "  </tbody>\n",
       "</table>\n",
       "</div>"
      ],
      "text/plain": [
       "   key  iter     power  seconds\n",
       "0    1     5  5.826395     1098\n",
       "1    2     4  3.649216      811\n",
       "2    3     5  2.989534      655\n",
       "3    4     4  3.814962      741\n",
       "4    5     4  4.035758      869"
      ]
     },
     "execution_count": 16,
     "metadata": {},
     "output_type": "execute_result"
    }
   ],
   "source": [
    "# creating pivot table\n",
    "arc_key = pd.pivot_table(df_arc, index='key', values=['power', 'seconds'], aggfunc=[np.sum, len])\n",
    "\n",
    "# renaming columns\n",
    "arc_key.columns = ['power', 'seconds', 'drop', 'iter']\n",
    "\n",
    "# renaming indexes\n",
    "arc_key['key'] = arc_key.index\n",
    "arc_key = arc_key.reset_index(drop=True)\n",
    "\n",
    "# dropping column\n",
    "arc_key = arc_key.drop('drop', axis=1)\n",
    "\n",
    "# dropping columns\n",
    "arc_key = arc_key[['key', 'iter', 'power', 'seconds']]\n",
    "\n",
    "# viewing top rows\n",
    "arc_key.head()"
   ]
  },
  {
   "cell_type": "markdown",
   "id": "80ec71d3",
   "metadata": {},
   "source": [
    "Посмотрим на распределений значений в сводной таблице."
   ]
  },
  {
   "cell_type": "code",
   "execution_count": 17,
   "id": "dd763885",
   "metadata": {},
   "outputs": [
    {
     "data": {
      "text/html": [
       "<div>\n",
       "<style scoped>\n",
       "    .dataframe tbody tr th:only-of-type {\n",
       "        vertical-align: middle;\n",
       "    }\n",
       "\n",
       "    .dataframe tbody tr th {\n",
       "        vertical-align: top;\n",
       "    }\n",
       "\n",
       "    .dataframe thead th {\n",
       "        text-align: right;\n",
       "    }\n",
       "</style>\n",
       "<table border=\"1\" class=\"dataframe\">\n",
       "  <thead>\n",
       "    <tr style=\"text-align: right;\">\n",
       "      <th></th>\n",
       "      <th>key</th>\n",
       "      <th>iter</th>\n",
       "      <th>power</th>\n",
       "      <th>seconds</th>\n",
       "    </tr>\n",
       "  </thead>\n",
       "  <tbody>\n",
       "    <tr>\n",
       "      <th>count</th>\n",
       "      <td>3214.000000</td>\n",
       "      <td>3214.000000</td>\n",
       "      <td>3214.000000</td>\n",
       "      <td>3214.000000</td>\n",
       "    </tr>\n",
       "    <tr>\n",
       "      <th>mean</th>\n",
       "      <td>1623.061294</td>\n",
       "      <td>4.628189</td>\n",
       "      <td>3.881975</td>\n",
       "      <td>794.545115</td>\n",
       "    </tr>\n",
       "    <tr>\n",
       "      <th>std</th>\n",
       "      <td>934.739859</td>\n",
       "      <td>1.608866</td>\n",
       "      <td>1.740260</td>\n",
       "      <td>332.491076</td>\n",
       "    </tr>\n",
       "    <tr>\n",
       "      <th>min</th>\n",
       "      <td>1.000000</td>\n",
       "      <td>1.000000</td>\n",
       "      <td>0.257637</td>\n",
       "      <td>57.000000</td>\n",
       "    </tr>\n",
       "    <tr>\n",
       "      <th>25%</th>\n",
       "      <td>817.250000</td>\n",
       "      <td>4.000000</td>\n",
       "      <td>2.674763</td>\n",
       "      <td>571.000000</td>\n",
       "    </tr>\n",
       "    <tr>\n",
       "      <th>50%</th>\n",
       "      <td>1623.500000</td>\n",
       "      <td>4.000000</td>\n",
       "      <td>3.749955</td>\n",
       "      <td>770.000000</td>\n",
       "    </tr>\n",
       "    <tr>\n",
       "      <th>75%</th>\n",
       "      <td>2431.750000</td>\n",
       "      <td>6.000000</td>\n",
       "      <td>4.858563</td>\n",
       "      <td>983.000000</td>\n",
       "    </tr>\n",
       "    <tr>\n",
       "      <th>max</th>\n",
       "      <td>3241.000000</td>\n",
       "      <td>16.000000</td>\n",
       "      <td>21.564771</td>\n",
       "      <td>4189.000000</td>\n",
       "    </tr>\n",
       "  </tbody>\n",
       "</table>\n",
       "</div>"
      ],
      "text/plain": [
       "               key         iter        power      seconds\n",
       "count  3214.000000  3214.000000  3214.000000  3214.000000\n",
       "mean   1623.061294     4.628189     3.881975   794.545115\n",
       "std     934.739859     1.608866     1.740260   332.491076\n",
       "min       1.000000     1.000000     0.257637    57.000000\n",
       "25%     817.250000     4.000000     2.674763   571.000000\n",
       "50%    1623.500000     4.000000     3.749955   770.000000\n",
       "75%    2431.750000     6.000000     4.858563   983.000000\n",
       "max    3241.000000    16.000000    21.564771  4189.000000"
      ]
     },
     "execution_count": 17,
     "metadata": {},
     "output_type": "execute_result"
    }
   ],
   "source": [
    "# getting description\n",
    "arc_key.describe()"
   ]
  },
  {
   "cell_type": "markdown",
   "id": "19852081",
   "metadata": {},
   "source": [
    "Построим гистограмму распределения количества итераций по партиям."
   ]
  },
  {
   "cell_type": "code",
   "execution_count": 18,
   "id": "06ab1e0e",
   "metadata": {},
   "outputs": [
    {
     "data": {
      "image/png": "[encoded data removed]",
      "text/plain": [
       "<Figure size 864x288 with 1 Axes>"
      ]
     },
     "metadata": {
      "needs_background": "light"
     },
     "output_type": "display_data"
    }
   ],
   "source": [
    "# building a histogram\n",
    "arc_key['iter'].plot(kind='hist',\n",
    "                     bins=32,\n",
    "                     figsize=(12, 4),\n",
    "                     title='Гистограмма распределения количества итераций по партиям');\n",
    "\n",
    "# naming axes\n",
    "pl.xlabel('Количество итераций');\n",
    "pl.ylabel('Частота');"
   ]
  },
  {
   "cell_type": "markdown",
   "id": "5c1262a5",
   "metadata": {},
   "source": [
    "Построим гистограмму распределения количества использованной электроэнергии по партиям."
   ]
  },
  {
   "cell_type": "code",
   "execution_count": 19,
   "id": "3fcfbcd3",
   "metadata": {},
   "outputs": [
    {
     "data": {
      "image/png": "[encoded data removed]",
      "text/plain": [
       "<Figure size 864x288 with 1 Axes>"
      ]
     },
     "metadata": {
      "needs_background": "light"
     },
     "output_type": "display_data"
    }
   ],
   "source": [
    "# building a histogram\n",
    "arc_key['power'].plot(kind='hist',\n",
    "                      bins=100,\n",
    "                      grid=True,\n",
    "                      density=True,\n",
    "                      figsize=(12, 4),\n",
    "                      title='Гистограмма распределения количества использованной электроэнергии по партиям');\n",
    "\n",
    "# naming axes\n",
    "pl.xlabel('Полная мощность');\n",
    "pl.ylabel('Доля');"
   ]
  },
  {
   "cell_type": "markdown",
   "id": "8653d41b",
   "metadata": {},
   "source": [
    "Построим гистограмму распределения продолжительности обработки по партиям."
   ]
  },
  {
   "cell_type": "code",
   "execution_count": 20,
   "id": "4670bd03",
   "metadata": {},
   "outputs": [
    {
     "data": {
      "image/png": "[encoded data removed]",
      "text/plain": [
       "<Figure size 864x288 with 1 Axes>"
      ]
     },
     "metadata": {
      "needs_background": "light"
     },
     "output_type": "display_data"
    }
   ],
   "source": [
    "# building a histogram\n",
    "arc_key['seconds'].plot(kind='hist',\n",
    "                        bins=100,\n",
    "                        grid=True,\n",
    "                        figsize=(12, 4),\n",
    "                        title='Гистограмма распределения продолжительности обработки по партиям');\n",
    "\n",
    "# naming axes\n",
    "pl.xlabel('Продолжительность, с');\n",
    "pl.ylabel('Частота');"
   ]
  },
  {
   "cell_type": "markdown",
   "id": "53a4c724",
   "metadata": {},
   "source": [
    "Гистограммы распределения количества итераций, использованной электроэнергии и продолжительности обработки очень похожи, что вполне логично.\n",
    "\n",
    "Проверим как эти параметры кореллируют между собой."
   ]
  },
  {
   "cell_type": "code",
   "execution_count": 21,
   "id": "19a99ec5",
   "metadata": {},
   "outputs": [
    {
     "data": {
      "text/html": [
       "<div>\n",
       "<style scoped>\n",
       "    .dataframe tbody tr th:only-of-type {\n",
       "        vertical-align: middle;\n",
       "    }\n",
       "\n",
       "    .dataframe tbody tr th {\n",
       "        vertical-align: top;\n",
       "    }\n",
       "\n",
       "    .dataframe thead th {\n",
       "        text-align: right;\n",
       "    }\n",
       "</style>\n",
       "<table border=\"1\" class=\"dataframe\">\n",
       "  <thead>\n",
       "    <tr style=\"text-align: right;\">\n",
       "      <th></th>\n",
       "      <th>seconds</th>\n",
       "      <th>power</th>\n",
       "      <th>iter</th>\n",
       "    </tr>\n",
       "  </thead>\n",
       "  <tbody>\n",
       "    <tr>\n",
       "      <th>seconds</th>\n",
       "      <td>1.000000</td>\n",
       "      <td>0.983356</td>\n",
       "      <td>0.777533</td>\n",
       "    </tr>\n",
       "    <tr>\n",
       "      <th>power</th>\n",
       "      <td>0.983356</td>\n",
       "      <td>1.000000</td>\n",
       "      <td>0.737427</td>\n",
       "    </tr>\n",
       "    <tr>\n",
       "      <th>iter</th>\n",
       "      <td>0.777533</td>\n",
       "      <td>0.737427</td>\n",
       "      <td>1.000000</td>\n",
       "    </tr>\n",
       "  </tbody>\n",
       "</table>\n",
       "</div>"
      ],
      "text/plain": [
       "          seconds     power      iter\n",
       "seconds  1.000000  0.983356  0.777533\n",
       "power    0.983356  1.000000  0.737427\n",
       "iter     0.777533  0.737427  1.000000"
      ]
     },
     "execution_count": 21,
     "metadata": {},
     "output_type": "execute_result"
    }
   ],
   "source": [
    "# making correlation dataset\n",
    "arc_key[['seconds', 'power', 'iter']].corr()"
   ]
  },
  {
   "cell_type": "markdown",
   "id": "0877d7a7",
   "metadata": {},
   "source": [
    "**Вывод.**\n",
    "\n",
    "В таблице с данными об электродах содержится информация о параметрах элекропотребления по итерациям для 3214 партий обработки сталей. \n",
    "\n",
    "В исходном датасете приведены отметки времени начала и окончания каждой итерации, а также сведения о количестве реактивной и активной составляющей потребленной электроэнергии.\n",
    "\n",
    "В ходе анализа датасета были вычислены дополнительные параметры: продолжительность каждой операции и полная мощность использованной электроэнергии. Составлена сводная таблица по партиям, в которую включены сведения о количестве итераций, продолжительности обработки и использованном количестве электроэнергии.\n",
    "\n",
    "Изучено распределение значений в столбцах сводной таблицы. Все параметры распределены приблизительно одинаково: графики имеют близкое к нормальному распределение со скошенностью вправо. Среднее немного больше медианы для каждого параметра: количества итераций, продолжительности обработки и количества электроэнергии. Это говорит о сильной корелляции данных параметров между собой, что вполне логично.\n",
    "\n",
    "В среднем каждая партия обработка сталей имеет 5 итераций, средняя продолжительность обработки в партии - около 13 минут, среднее количество использованной электроэнергии - 3,9 МВт.\n",
    "\n",
    "Рассмотрим данные по легирующим материалам."
   ]
  },
  {
   "cell_type": "markdown",
   "id": "9b42e7ba",
   "metadata": {},
   "source": [
    "### Данные об объёме сыпучих материалов, таблица data_bulk"
   ]
  },
  {
   "cell_type": "code",
   "execution_count": 22,
   "id": "6a3f7bfc",
   "metadata": {},
   "outputs": [],
   "source": [
    "# loading data\n",
    "pth1 = r'D:\\Python\\Проекты\\Спринт18_финал\\final_steel\\data_bulk.csv'\n",
    "df_bulk = pd.read_csv(pth1)"
   ]
  },
  {
   "cell_type": "markdown",
   "id": "84d20dd5",
   "metadata": {},
   "source": [
    "Изучим общую информацию по датасету."
   ]
  },
  {
   "cell_type": "code",
   "execution_count": 23,
   "id": "ce58e729",
   "metadata": {},
   "outputs": [
    {
     "name": "stdout",
     "output_type": "stream",
     "text": [
      "<class 'pandas.core.frame.DataFrame'>\n",
      "RangeIndex: 3129 entries, 0 to 3128\n",
      "Data columns (total 16 columns):\n",
      " #   Column   Non-Null Count  Dtype  \n",
      "---  ------   --------------  -----  \n",
      " 0   key      3129 non-null   int64  \n",
      " 1   Bulk 1   252 non-null    float64\n",
      " 2   Bulk 2   22 non-null     float64\n",
      " 3   Bulk 3   1298 non-null   float64\n",
      " 4   Bulk 4   1014 non-null   float64\n",
      " 5   Bulk 5   77 non-null     float64\n",
      " 6   Bulk 6   576 non-null    float64\n",
      " 7   Bulk 7   25 non-null     float64\n",
      " 8   Bulk 8   1 non-null      float64\n",
      " 9   Bulk 9   19 non-null     float64\n",
      " 10  Bulk 10  176 non-null    float64\n",
      " 11  Bulk 11  177 non-null    float64\n",
      " 12  Bulk 12  2450 non-null   float64\n",
      " 13  Bulk 13  18 non-null     float64\n",
      " 14  Bulk 14  2806 non-null   float64\n",
      " 15  Bulk 15  2248 non-null   float64\n",
      "dtypes: float64(15), int64(1)\n",
      "memory usage: 391.2 KB\n"
     ]
    }
   ],
   "source": [
    "# getting common info\n",
    "df_bulk.info()"
   ]
  },
  {
   "cell_type": "markdown",
   "id": "5be50e86",
   "metadata": {},
   "source": [
    "Приведём названия колонок в корректный вид и посмотрим на несколько срток датасета."
   ]
  },
  {
   "cell_type": "code",
   "execution_count": 24,
   "id": "53cd2fa3",
   "metadata": {
    "scrolled": true
   },
   "outputs": [
    {
     "data": {
      "text/html": [
       "<div>\n",
       "<style scoped>\n",
       "    .dataframe tbody tr th:only-of-type {\n",
       "        vertical-align: middle;\n",
       "    }\n",
       "\n",
       "    .dataframe tbody tr th {\n",
       "        vertical-align: top;\n",
       "    }\n",
       "\n",
       "    .dataframe thead th {\n",
       "        text-align: right;\n",
       "    }\n",
       "</style>\n",
       "<table border=\"1\" class=\"dataframe\">\n",
       "  <thead>\n",
       "    <tr style=\"text-align: right;\">\n",
       "      <th></th>\n",
       "      <th>key</th>\n",
       "      <th>bulk1</th>\n",
       "      <th>bulk2</th>\n",
       "      <th>bulk3</th>\n",
       "      <th>bulk4</th>\n",
       "      <th>bulk5</th>\n",
       "      <th>bulk6</th>\n",
       "      <th>bulk7</th>\n",
       "      <th>bulk8</th>\n",
       "      <th>bulk9</th>\n",
       "      <th>bulk10</th>\n",
       "      <th>bulk11</th>\n",
       "      <th>bulk12</th>\n",
       "      <th>bulk13</th>\n",
       "      <th>bulk14</th>\n",
       "      <th>bulk15</th>\n",
       "    </tr>\n",
       "  </thead>\n",
       "  <tbody>\n",
       "    <tr>\n",
       "      <th>0</th>\n",
       "      <td>1</td>\n",
       "      <td>NaN</td>\n",
       "      <td>NaN</td>\n",
       "      <td>NaN</td>\n",
       "      <td>43.0</td>\n",
       "      <td>NaN</td>\n",
       "      <td>NaN</td>\n",
       "      <td>NaN</td>\n",
       "      <td>NaN</td>\n",
       "      <td>NaN</td>\n",
       "      <td>NaN</td>\n",
       "      <td>NaN</td>\n",
       "      <td>206.0</td>\n",
       "      <td>NaN</td>\n",
       "      <td>150.0</td>\n",
       "      <td>154.0</td>\n",
       "    </tr>\n",
       "    <tr>\n",
       "      <th>1</th>\n",
       "      <td>2</td>\n",
       "      <td>NaN</td>\n",
       "      <td>NaN</td>\n",
       "      <td>NaN</td>\n",
       "      <td>73.0</td>\n",
       "      <td>NaN</td>\n",
       "      <td>NaN</td>\n",
       "      <td>NaN</td>\n",
       "      <td>NaN</td>\n",
       "      <td>NaN</td>\n",
       "      <td>NaN</td>\n",
       "      <td>NaN</td>\n",
       "      <td>206.0</td>\n",
       "      <td>NaN</td>\n",
       "      <td>149.0</td>\n",
       "      <td>154.0</td>\n",
       "    </tr>\n",
       "    <tr>\n",
       "      <th>2</th>\n",
       "      <td>3</td>\n",
       "      <td>NaN</td>\n",
       "      <td>NaN</td>\n",
       "      <td>NaN</td>\n",
       "      <td>34.0</td>\n",
       "      <td>NaN</td>\n",
       "      <td>NaN</td>\n",
       "      <td>NaN</td>\n",
       "      <td>NaN</td>\n",
       "      <td>NaN</td>\n",
       "      <td>NaN</td>\n",
       "      <td>NaN</td>\n",
       "      <td>205.0</td>\n",
       "      <td>NaN</td>\n",
       "      <td>152.0</td>\n",
       "      <td>153.0</td>\n",
       "    </tr>\n",
       "    <tr>\n",
       "      <th>3</th>\n",
       "      <td>4</td>\n",
       "      <td>NaN</td>\n",
       "      <td>NaN</td>\n",
       "      <td>NaN</td>\n",
       "      <td>81.0</td>\n",
       "      <td>NaN</td>\n",
       "      <td>NaN</td>\n",
       "      <td>NaN</td>\n",
       "      <td>NaN</td>\n",
       "      <td>NaN</td>\n",
       "      <td>NaN</td>\n",
       "      <td>NaN</td>\n",
       "      <td>207.0</td>\n",
       "      <td>NaN</td>\n",
       "      <td>153.0</td>\n",
       "      <td>154.0</td>\n",
       "    </tr>\n",
       "    <tr>\n",
       "      <th>4</th>\n",
       "      <td>5</td>\n",
       "      <td>NaN</td>\n",
       "      <td>NaN</td>\n",
       "      <td>NaN</td>\n",
       "      <td>78.0</td>\n",
       "      <td>NaN</td>\n",
       "      <td>NaN</td>\n",
       "      <td>NaN</td>\n",
       "      <td>NaN</td>\n",
       "      <td>NaN</td>\n",
       "      <td>NaN</td>\n",
       "      <td>NaN</td>\n",
       "      <td>203.0</td>\n",
       "      <td>NaN</td>\n",
       "      <td>151.0</td>\n",
       "      <td>152.0</td>\n",
       "    </tr>\n",
       "  </tbody>\n",
       "</table>\n",
       "</div>"
      ],
      "text/plain": [
       "   key  bulk1  bulk2  bulk3  bulk4  bulk5  bulk6  bulk7  bulk8  bulk9  bulk10  \\\n",
       "0    1    NaN    NaN    NaN   43.0    NaN    NaN    NaN    NaN    NaN     NaN   \n",
       "1    2    NaN    NaN    NaN   73.0    NaN    NaN    NaN    NaN    NaN     NaN   \n",
       "2    3    NaN    NaN    NaN   34.0    NaN    NaN    NaN    NaN    NaN     NaN   \n",
       "3    4    NaN    NaN    NaN   81.0    NaN    NaN    NaN    NaN    NaN     NaN   \n",
       "4    5    NaN    NaN    NaN   78.0    NaN    NaN    NaN    NaN    NaN     NaN   \n",
       "\n",
       "   bulk11  bulk12  bulk13  bulk14  bulk15  \n",
       "0     NaN   206.0     NaN   150.0   154.0  \n",
       "1     NaN   206.0     NaN   149.0   154.0  \n",
       "2     NaN   205.0     NaN   152.0   153.0  \n",
       "3     NaN   207.0     NaN   153.0   154.0  \n",
       "4     NaN   203.0     NaN   151.0   152.0  "
      ]
     },
     "execution_count": 24,
     "metadata": {},
     "output_type": "execute_result"
    }
   ],
   "source": [
    "# creating a list with column names\n",
    "bulk_list = list(pd.Series(list(df_bulk.columns)).str.lower())\n",
    "\n",
    "# creating an empty list\n",
    "bulks = []\n",
    "\n",
    "# filling a list with cleaned column names\n",
    "for i in range(0, 16):\n",
    "    bulk_name = re.sub(r'[^a-z0-9]', '', bulk_list[i])\n",
    "    bulks.append(bulk_name)\n",
    "\n",
    "# renaming columns\n",
    "df_bulk.columns = bulks\n",
    "\n",
    "#viewing top rows\n",
    "df_bulk.head()"
   ]
  },
  {
   "cell_type": "markdown",
   "id": "b33c0d8f",
   "metadata": {},
   "source": [
    "Посмотрим на количество партий."
   ]
  },
  {
   "cell_type": "code",
   "execution_count": 25,
   "id": "3fa76dda",
   "metadata": {},
   "outputs": [
    {
     "data": {
      "text/plain": [
       "3129"
      ]
     },
     "execution_count": 25,
     "metadata": {},
     "output_type": "execute_result"
    }
   ],
   "source": [
    "# counting unique values\n",
    "len(df_bulk['key'].unique())"
   ]
  },
  {
   "cell_type": "markdown",
   "id": "83587395",
   "metadata": {},
   "source": [
    "Посмотрим на распределение значений."
   ]
  },
  {
   "cell_type": "code",
   "execution_count": 26,
   "id": "97c5103d",
   "metadata": {},
   "outputs": [
    {
     "data": {
      "text/html": [
       "<div>\n",
       "<style scoped>\n",
       "    .dataframe tbody tr th:only-of-type {\n",
       "        vertical-align: middle;\n",
       "    }\n",
       "\n",
       "    .dataframe tbody tr th {\n",
       "        vertical-align: top;\n",
       "    }\n",
       "\n",
       "    .dataframe thead th {\n",
       "        text-align: right;\n",
       "    }\n",
       "</style>\n",
       "<table border=\"1\" class=\"dataframe\">\n",
       "  <thead>\n",
       "    <tr style=\"text-align: right;\">\n",
       "      <th></th>\n",
       "      <th>key</th>\n",
       "      <th>bulk1</th>\n",
       "      <th>bulk2</th>\n",
       "      <th>bulk3</th>\n",
       "      <th>bulk4</th>\n",
       "      <th>bulk5</th>\n",
       "      <th>bulk6</th>\n",
       "      <th>bulk7</th>\n",
       "      <th>bulk8</th>\n",
       "      <th>bulk9</th>\n",
       "      <th>bulk10</th>\n",
       "      <th>bulk11</th>\n",
       "      <th>bulk12</th>\n",
       "      <th>bulk13</th>\n",
       "      <th>bulk14</th>\n",
       "      <th>bulk15</th>\n",
       "    </tr>\n",
       "  </thead>\n",
       "  <tbody>\n",
       "    <tr>\n",
       "      <th>count</th>\n",
       "      <td>3129.000000</td>\n",
       "      <td>252.000000</td>\n",
       "      <td>22.000000</td>\n",
       "      <td>1298.000000</td>\n",
       "      <td>1014.000000</td>\n",
       "      <td>77.000000</td>\n",
       "      <td>576.000000</td>\n",
       "      <td>25.000000</td>\n",
       "      <td>1.0</td>\n",
       "      <td>19.000000</td>\n",
       "      <td>176.000000</td>\n",
       "      <td>177.000000</td>\n",
       "      <td>2450.000000</td>\n",
       "      <td>18.000000</td>\n",
       "      <td>2806.000000</td>\n",
       "      <td>2248.000000</td>\n",
       "    </tr>\n",
       "    <tr>\n",
       "      <th>mean</th>\n",
       "      <td>1624.383509</td>\n",
       "      <td>39.242063</td>\n",
       "      <td>253.045455</td>\n",
       "      <td>113.879045</td>\n",
       "      <td>104.394477</td>\n",
       "      <td>107.025974</td>\n",
       "      <td>118.925347</td>\n",
       "      <td>305.600000</td>\n",
       "      <td>49.0</td>\n",
       "      <td>76.315789</td>\n",
       "      <td>83.284091</td>\n",
       "      <td>76.819209</td>\n",
       "      <td>260.471020</td>\n",
       "      <td>181.111111</td>\n",
       "      <td>170.284747</td>\n",
       "      <td>160.513345</td>\n",
       "    </tr>\n",
       "    <tr>\n",
       "      <th>std</th>\n",
       "      <td>933.337642</td>\n",
       "      <td>18.277654</td>\n",
       "      <td>21.180578</td>\n",
       "      <td>75.483494</td>\n",
       "      <td>48.184126</td>\n",
       "      <td>81.790646</td>\n",
       "      <td>72.057776</td>\n",
       "      <td>191.022904</td>\n",
       "      <td>NaN</td>\n",
       "      <td>21.720581</td>\n",
       "      <td>26.060347</td>\n",
       "      <td>59.655365</td>\n",
       "      <td>120.649269</td>\n",
       "      <td>46.088009</td>\n",
       "      <td>65.868652</td>\n",
       "      <td>51.765319</td>\n",
       "    </tr>\n",
       "    <tr>\n",
       "      <th>min</th>\n",
       "      <td>1.000000</td>\n",
       "      <td>10.000000</td>\n",
       "      <td>228.000000</td>\n",
       "      <td>6.000000</td>\n",
       "      <td>12.000000</td>\n",
       "      <td>11.000000</td>\n",
       "      <td>17.000000</td>\n",
       "      <td>47.000000</td>\n",
       "      <td>49.0</td>\n",
       "      <td>63.000000</td>\n",
       "      <td>24.000000</td>\n",
       "      <td>8.000000</td>\n",
       "      <td>53.000000</td>\n",
       "      <td>151.000000</td>\n",
       "      <td>16.000000</td>\n",
       "      <td>1.000000</td>\n",
       "    </tr>\n",
       "    <tr>\n",
       "      <th>25%</th>\n",
       "      <td>816.000000</td>\n",
       "      <td>27.000000</td>\n",
       "      <td>242.000000</td>\n",
       "      <td>58.000000</td>\n",
       "      <td>72.000000</td>\n",
       "      <td>70.000000</td>\n",
       "      <td>69.750000</td>\n",
       "      <td>155.000000</td>\n",
       "      <td>49.0</td>\n",
       "      <td>66.000000</td>\n",
       "      <td>64.000000</td>\n",
       "      <td>25.000000</td>\n",
       "      <td>204.000000</td>\n",
       "      <td>153.250000</td>\n",
       "      <td>119.000000</td>\n",
       "      <td>105.000000</td>\n",
       "    </tr>\n",
       "    <tr>\n",
       "      <th>50%</th>\n",
       "      <td>1622.000000</td>\n",
       "      <td>31.000000</td>\n",
       "      <td>251.500000</td>\n",
       "      <td>97.500000</td>\n",
       "      <td>102.000000</td>\n",
       "      <td>86.000000</td>\n",
       "      <td>100.000000</td>\n",
       "      <td>298.000000</td>\n",
       "      <td>49.0</td>\n",
       "      <td>68.000000</td>\n",
       "      <td>86.500000</td>\n",
       "      <td>64.000000</td>\n",
       "      <td>208.000000</td>\n",
       "      <td>155.500000</td>\n",
       "      <td>151.000000</td>\n",
       "      <td>160.000000</td>\n",
       "    </tr>\n",
       "    <tr>\n",
       "      <th>75%</th>\n",
       "      <td>2431.000000</td>\n",
       "      <td>46.000000</td>\n",
       "      <td>257.750000</td>\n",
       "      <td>152.000000</td>\n",
       "      <td>133.000000</td>\n",
       "      <td>132.000000</td>\n",
       "      <td>157.000000</td>\n",
       "      <td>406.000000</td>\n",
       "      <td>49.0</td>\n",
       "      <td>70.500000</td>\n",
       "      <td>102.000000</td>\n",
       "      <td>106.000000</td>\n",
       "      <td>316.000000</td>\n",
       "      <td>203.500000</td>\n",
       "      <td>205.750000</td>\n",
       "      <td>205.000000</td>\n",
       "    </tr>\n",
       "    <tr>\n",
       "      <th>max</th>\n",
       "      <td>3241.000000</td>\n",
       "      <td>185.000000</td>\n",
       "      <td>325.000000</td>\n",
       "      <td>454.000000</td>\n",
       "      <td>281.000000</td>\n",
       "      <td>603.000000</td>\n",
       "      <td>503.000000</td>\n",
       "      <td>772.000000</td>\n",
       "      <td>49.0</td>\n",
       "      <td>147.000000</td>\n",
       "      <td>159.000000</td>\n",
       "      <td>313.000000</td>\n",
       "      <td>1849.000000</td>\n",
       "      <td>305.000000</td>\n",
       "      <td>636.000000</td>\n",
       "      <td>405.000000</td>\n",
       "    </tr>\n",
       "  </tbody>\n",
       "</table>\n",
       "</div>"
      ],
      "text/plain": [
       "               key       bulk1       bulk2        bulk3        bulk4  \\\n",
       "count  3129.000000  252.000000   22.000000  1298.000000  1014.000000   \n",
       "mean   1624.383509   39.242063  253.045455   113.879045   104.394477   \n",
       "std     933.337642   18.277654   21.180578    75.483494    48.184126   \n",
       "min       1.000000   10.000000  228.000000     6.000000    12.000000   \n",
       "25%     816.000000   27.000000  242.000000    58.000000    72.000000   \n",
       "50%    1622.000000   31.000000  251.500000    97.500000   102.000000   \n",
       "75%    2431.000000   46.000000  257.750000   152.000000   133.000000   \n",
       "max    3241.000000  185.000000  325.000000   454.000000   281.000000   \n",
       "\n",
       "            bulk5       bulk6       bulk7  bulk8       bulk9      bulk10  \\\n",
       "count   77.000000  576.000000   25.000000    1.0   19.000000  176.000000   \n",
       "mean   107.025974  118.925347  305.600000   49.0   76.315789   83.284091   \n",
       "std     81.790646   72.057776  191.022904    NaN   21.720581   26.060347   \n",
       "min     11.000000   17.000000   47.000000   49.0   63.000000   24.000000   \n",
       "25%     70.000000   69.750000  155.000000   49.0   66.000000   64.000000   \n",
       "50%     86.000000  100.000000  298.000000   49.0   68.000000   86.500000   \n",
       "75%    132.000000  157.000000  406.000000   49.0   70.500000  102.000000   \n",
       "max    603.000000  503.000000  772.000000   49.0  147.000000  159.000000   \n",
       "\n",
       "           bulk11       bulk12      bulk13       bulk14       bulk15  \n",
       "count  177.000000  2450.000000   18.000000  2806.000000  2248.000000  \n",
       "mean    76.819209   260.471020  181.111111   170.284747   160.513345  \n",
       "std     59.655365   120.649269   46.088009    65.868652    51.765319  \n",
       "min      8.000000    53.000000  151.000000    16.000000     1.000000  \n",
       "25%     25.000000   204.000000  153.250000   119.000000   105.000000  \n",
       "50%     64.000000   208.000000  155.500000   151.000000   160.000000  \n",
       "75%    106.000000   316.000000  203.500000   205.750000   205.000000  \n",
       "max    313.000000  1849.000000  305.000000   636.000000   405.000000  "
      ]
     },
     "execution_count": 26,
     "metadata": {},
     "output_type": "execute_result"
    }
   ],
   "source": [
    "# creating a list with column names\n",
    "bulk_list = list(pd.Series(list(df_bulk.columns)).str.lower())\n",
    "\n",
    "# creating an empty list\n",
    "bulks = []\n",
    "\n",
    "# creating a list with cleaned column names\n",
    "for i in range(0, 16):\n",
    "    bulk_name = re.sub(r'[^a-z0-9]', '', bulk_list[i])\n",
    "    bulks.append(bulk_name)\n",
    "\n",
    "# renaming columns\n",
    "df_bulk.columns = bulks\n",
    "\n",
    "#viewing top rows\n",
    "df_bulk.head()"
   ]
  },
  {
   "cell_type": "markdown",
   "id": "777c8e0a",
   "metadata": {},
   "source": [
    "Заменим отсутствующие значения нулями. Вероятно, отсутствие данных говорит о том, что конкретный материал не использовался в данной партии."
   ]
  },
  {
   "cell_type": "code",
   "execution_count": 27,
   "id": "65926052",
   "metadata": {},
   "outputs": [
    {
     "data": {
      "text/html": [
       "<div>\n",
       "<style scoped>\n",
       "    .dataframe tbody tr th:only-of-type {\n",
       "        vertical-align: middle;\n",
       "    }\n",
       "\n",
       "    .dataframe tbody tr th {\n",
       "        vertical-align: top;\n",
       "    }\n",
       "\n",
       "    .dataframe thead th {\n",
       "        text-align: right;\n",
       "    }\n",
       "</style>\n",
       "<table border=\"1\" class=\"dataframe\">\n",
       "  <thead>\n",
       "    <tr style=\"text-align: right;\">\n",
       "      <th></th>\n",
       "      <th>key</th>\n",
       "      <th>bulk1</th>\n",
       "      <th>bulk2</th>\n",
       "      <th>bulk3</th>\n",
       "      <th>bulk4</th>\n",
       "      <th>bulk5</th>\n",
       "      <th>bulk6</th>\n",
       "      <th>bulk7</th>\n",
       "      <th>bulk8</th>\n",
       "      <th>bulk9</th>\n",
       "      <th>bulk10</th>\n",
       "      <th>bulk11</th>\n",
       "      <th>bulk12</th>\n",
       "      <th>bulk13</th>\n",
       "      <th>bulk14</th>\n",
       "      <th>bulk15</th>\n",
       "    </tr>\n",
       "  </thead>\n",
       "  <tbody>\n",
       "    <tr>\n",
       "      <th>0</th>\n",
       "      <td>1</td>\n",
       "      <td>0.0</td>\n",
       "      <td>0.0</td>\n",
       "      <td>0.0</td>\n",
       "      <td>43.0</td>\n",
       "      <td>0.0</td>\n",
       "      <td>0.0</td>\n",
       "      <td>0.0</td>\n",
       "      <td>0.0</td>\n",
       "      <td>0.0</td>\n",
       "      <td>0.0</td>\n",
       "      <td>0.0</td>\n",
       "      <td>206.0</td>\n",
       "      <td>0.0</td>\n",
       "      <td>150.0</td>\n",
       "      <td>154.0</td>\n",
       "    </tr>\n",
       "    <tr>\n",
       "      <th>1</th>\n",
       "      <td>2</td>\n",
       "      <td>0.0</td>\n",
       "      <td>0.0</td>\n",
       "      <td>0.0</td>\n",
       "      <td>73.0</td>\n",
       "      <td>0.0</td>\n",
       "      <td>0.0</td>\n",
       "      <td>0.0</td>\n",
       "      <td>0.0</td>\n",
       "      <td>0.0</td>\n",
       "      <td>0.0</td>\n",
       "      <td>0.0</td>\n",
       "      <td>206.0</td>\n",
       "      <td>0.0</td>\n",
       "      <td>149.0</td>\n",
       "      <td>154.0</td>\n",
       "    </tr>\n",
       "    <tr>\n",
       "      <th>2</th>\n",
       "      <td>3</td>\n",
       "      <td>0.0</td>\n",
       "      <td>0.0</td>\n",
       "      <td>0.0</td>\n",
       "      <td>34.0</td>\n",
       "      <td>0.0</td>\n",
       "      <td>0.0</td>\n",
       "      <td>0.0</td>\n",
       "      <td>0.0</td>\n",
       "      <td>0.0</td>\n",
       "      <td>0.0</td>\n",
       "      <td>0.0</td>\n",
       "      <td>205.0</td>\n",
       "      <td>0.0</td>\n",
       "      <td>152.0</td>\n",
       "      <td>153.0</td>\n",
       "    </tr>\n",
       "    <tr>\n",
       "      <th>3</th>\n",
       "      <td>4</td>\n",
       "      <td>0.0</td>\n",
       "      <td>0.0</td>\n",
       "      <td>0.0</td>\n",
       "      <td>81.0</td>\n",
       "      <td>0.0</td>\n",
       "      <td>0.0</td>\n",
       "      <td>0.0</td>\n",
       "      <td>0.0</td>\n",
       "      <td>0.0</td>\n",
       "      <td>0.0</td>\n",
       "      <td>0.0</td>\n",
       "      <td>207.0</td>\n",
       "      <td>0.0</td>\n",
       "      <td>153.0</td>\n",
       "      <td>154.0</td>\n",
       "    </tr>\n",
       "    <tr>\n",
       "      <th>4</th>\n",
       "      <td>5</td>\n",
       "      <td>0.0</td>\n",
       "      <td>0.0</td>\n",
       "      <td>0.0</td>\n",
       "      <td>78.0</td>\n",
       "      <td>0.0</td>\n",
       "      <td>0.0</td>\n",
       "      <td>0.0</td>\n",
       "      <td>0.0</td>\n",
       "      <td>0.0</td>\n",
       "      <td>0.0</td>\n",
       "      <td>0.0</td>\n",
       "      <td>203.0</td>\n",
       "      <td>0.0</td>\n",
       "      <td>151.0</td>\n",
       "      <td>152.0</td>\n",
       "    </tr>\n",
       "  </tbody>\n",
       "</table>\n",
       "</div>"
      ],
      "text/plain": [
       "   key  bulk1  bulk2  bulk3  bulk4  bulk5  bulk6  bulk7  bulk8  bulk9  bulk10  \\\n",
       "0    1    0.0    0.0    0.0   43.0    0.0    0.0    0.0    0.0    0.0     0.0   \n",
       "1    2    0.0    0.0    0.0   73.0    0.0    0.0    0.0    0.0    0.0     0.0   \n",
       "2    3    0.0    0.0    0.0   34.0    0.0    0.0    0.0    0.0    0.0     0.0   \n",
       "3    4    0.0    0.0    0.0   81.0    0.0    0.0    0.0    0.0    0.0     0.0   \n",
       "4    5    0.0    0.0    0.0   78.0    0.0    0.0    0.0    0.0    0.0     0.0   \n",
       "\n",
       "   bulk11  bulk12  bulk13  bulk14  bulk15  \n",
       "0     0.0   206.0     0.0   150.0   154.0  \n",
       "1     0.0   206.0     0.0   149.0   154.0  \n",
       "2     0.0   205.0     0.0   152.0   153.0  \n",
       "3     0.0   207.0     0.0   153.0   154.0  \n",
       "4     0.0   203.0     0.0   151.0   152.0  "
      ]
     },
     "execution_count": 27,
     "metadata": {},
     "output_type": "execute_result"
    }
   ],
   "source": [
    "# filling Nan values\n",
    "df_bulk = df_bulk.fillna(0)\n",
    "\n",
    "# viewing top rows\n",
    "df_bulk.head()"
   ]
  },
  {
   "cell_type": "markdown",
   "id": "07d598ec",
   "metadata": {},
   "source": [
    "**Вывод.**\n",
    "\n",
    "В рассмотренном датасете приведены сведения об использованных в процессе легирования сталей сыпучих материалах. Данные приведены по партиям, а не по итерациям в партиях.\n",
    "\n",
    "Всего насчитывается 15 различных сыпучих материалов.\n",
    "\n",
    "В датасете очень много пропусков, которые заменены нулями. Так как отсутствие данных, вероятнее всего, говорит о том, что конкретный материал не использовался в данной партии."
   ]
  },
  {
   "cell_type": "markdown",
   "id": "ca92241c",
   "metadata": {},
   "source": [
    "### Данные о времени сыпучих материалов, таблица data_bulk_time"
   ]
  },
  {
   "cell_type": "code",
   "execution_count": 28,
   "id": "81c8cebb",
   "metadata": {},
   "outputs": [],
   "source": [
    "# loading data\n",
    "pth2 = r'/datasets/final_steel/data_bulk_time.csv'\n",
    "data_bulk_time = pd.read_csv(pth1)"
   ]
  },
  {
   "cell_type": "markdown",
   "id": "c62d1190",
   "metadata": {},
   "source": [
    "Изучим общую информацию по датасету."
   ]
  },
  {
   "cell_type": "code",
   "execution_count": 29,
   "id": "8caf4bb7",
   "metadata": {},
   "outputs": [
    {
     "name": "stdout",
     "output_type": "stream",
     "text": [
      "<class 'pandas.core.frame.DataFrame'>\n",
      "RangeIndex: 3129 entries, 0 to 3128\n",
      "Data columns (total 16 columns):\n",
      " #   Column   Non-Null Count  Dtype \n",
      "---  ------   --------------  ----- \n",
      " 0   key      3129 non-null   int64 \n",
      " 1   Bulk 1   252 non-null    object\n",
      " 2   Bulk 2   22 non-null     object\n",
      " 3   Bulk 3   1298 non-null   object\n",
      " 4   Bulk 4   1014 non-null   object\n",
      " 5   Bulk 5   77 non-null     object\n",
      " 6   Bulk 6   576 non-null    object\n",
      " 7   Bulk 7   25 non-null     object\n",
      " 8   Bulk 8   1 non-null      object\n",
      " 9   Bulk 9   19 non-null     object\n",
      " 10  Bulk 10  176 non-null    object\n",
      " 11  Bulk 11  177 non-null    object\n",
      " 12  Bulk 12  2450 non-null   object\n",
      " 13  Bulk 13  18 non-null     object\n",
      " 14  Bulk 14  2806 non-null   object\n",
      " 15  Bulk 15  2248 non-null   object\n",
      "dtypes: int64(1), object(15)\n",
      "memory usage: 391.2+ KB\n"
     ]
    }
   ],
   "source": [
    "# getting common info\n",
    "data_bulk_time.info()"
   ]
  },
  {
   "cell_type": "markdown",
   "id": "3bf55021",
   "metadata": {},
   "source": [
    "Посмотрим на несколько строк таблицы."
   ]
  },
  {
   "cell_type": "code",
   "execution_count": 30,
   "id": "5eb9d441",
   "metadata": {},
   "outputs": [
    {
     "data": {
      "text/html": [
       "<div>\n",
       "<style scoped>\n",
       "    .dataframe tbody tr th:only-of-type {\n",
       "        vertical-align: middle;\n",
       "    }\n",
       "\n",
       "    .dataframe tbody tr th {\n",
       "        vertical-align: top;\n",
       "    }\n",
       "\n",
       "    .dataframe thead th {\n",
       "        text-align: right;\n",
       "    }\n",
       "</style>\n",
       "<table border=\"1\" class=\"dataframe\">\n",
       "  <thead>\n",
       "    <tr style=\"text-align: right;\">\n",
       "      <th></th>\n",
       "      <th>key</th>\n",
       "      <th>Bulk 1</th>\n",
       "      <th>Bulk 2</th>\n",
       "      <th>Bulk 3</th>\n",
       "      <th>Bulk 4</th>\n",
       "      <th>Bulk 5</th>\n",
       "      <th>Bulk 6</th>\n",
       "      <th>Bulk 7</th>\n",
       "      <th>Bulk 8</th>\n",
       "      <th>Bulk 9</th>\n",
       "      <th>Bulk 10</th>\n",
       "      <th>Bulk 11</th>\n",
       "      <th>Bulk 12</th>\n",
       "      <th>Bulk 13</th>\n",
       "      <th>Bulk 14</th>\n",
       "      <th>Bulk 15</th>\n",
       "    </tr>\n",
       "  </thead>\n",
       "  <tbody>\n",
       "    <tr>\n",
       "      <th>0</th>\n",
       "      <td>1</td>\n",
       "      <td>NaN</td>\n",
       "      <td>NaN</td>\n",
       "      <td>NaN</td>\n",
       "      <td>2019-05-03 11:21:30</td>\n",
       "      <td>NaN</td>\n",
       "      <td>NaN</td>\n",
       "      <td>NaN</td>\n",
       "      <td>NaN</td>\n",
       "      <td>NaN</td>\n",
       "      <td>NaN</td>\n",
       "      <td>NaN</td>\n",
       "      <td>2019-05-03 11:03:52</td>\n",
       "      <td>NaN</td>\n",
       "      <td>2019-05-03 11:03:52</td>\n",
       "      <td>2019-05-03 11:03:52</td>\n",
       "    </tr>\n",
       "    <tr>\n",
       "      <th>1</th>\n",
       "      <td>2</td>\n",
       "      <td>NaN</td>\n",
       "      <td>NaN</td>\n",
       "      <td>NaN</td>\n",
       "      <td>2019-05-03 11:46:38</td>\n",
       "      <td>NaN</td>\n",
       "      <td>NaN</td>\n",
       "      <td>NaN</td>\n",
       "      <td>NaN</td>\n",
       "      <td>NaN</td>\n",
       "      <td>NaN</td>\n",
       "      <td>NaN</td>\n",
       "      <td>2019-05-03 11:40:20</td>\n",
       "      <td>NaN</td>\n",
       "      <td>2019-05-03 11:40:20</td>\n",
       "      <td>2019-05-03 11:40:20</td>\n",
       "    </tr>\n",
       "    <tr>\n",
       "      <th>2</th>\n",
       "      <td>3</td>\n",
       "      <td>NaN</td>\n",
       "      <td>NaN</td>\n",
       "      <td>NaN</td>\n",
       "      <td>2019-05-03 12:31:06</td>\n",
       "      <td>NaN</td>\n",
       "      <td>NaN</td>\n",
       "      <td>NaN</td>\n",
       "      <td>NaN</td>\n",
       "      <td>NaN</td>\n",
       "      <td>NaN</td>\n",
       "      <td>NaN</td>\n",
       "      <td>2019-05-03 12:09:40</td>\n",
       "      <td>NaN</td>\n",
       "      <td>2019-05-03 12:09:40</td>\n",
       "      <td>2019-05-03 12:09:40</td>\n",
       "    </tr>\n",
       "    <tr>\n",
       "      <th>3</th>\n",
       "      <td>4</td>\n",
       "      <td>NaN</td>\n",
       "      <td>NaN</td>\n",
       "      <td>NaN</td>\n",
       "      <td>2019-05-03 12:48:43</td>\n",
       "      <td>NaN</td>\n",
       "      <td>NaN</td>\n",
       "      <td>NaN</td>\n",
       "      <td>NaN</td>\n",
       "      <td>NaN</td>\n",
       "      <td>NaN</td>\n",
       "      <td>NaN</td>\n",
       "      <td>2019-05-03 12:41:24</td>\n",
       "      <td>NaN</td>\n",
       "      <td>2019-05-03 12:41:24</td>\n",
       "      <td>2019-05-03 12:41:24</td>\n",
       "    </tr>\n",
       "    <tr>\n",
       "      <th>4</th>\n",
       "      <td>5</td>\n",
       "      <td>NaN</td>\n",
       "      <td>NaN</td>\n",
       "      <td>NaN</td>\n",
       "      <td>2019-05-03 13:18:50</td>\n",
       "      <td>NaN</td>\n",
       "      <td>NaN</td>\n",
       "      <td>NaN</td>\n",
       "      <td>NaN</td>\n",
       "      <td>NaN</td>\n",
       "      <td>NaN</td>\n",
       "      <td>NaN</td>\n",
       "      <td>2019-05-03 13:12:56</td>\n",
       "      <td>NaN</td>\n",
       "      <td>2019-05-03 13:12:56</td>\n",
       "      <td>2019-05-03 13:12:56</td>\n",
       "    </tr>\n",
       "  </tbody>\n",
       "</table>\n",
       "</div>"
      ],
      "text/plain": [
       "   key Bulk 1 Bulk 2 Bulk 3               Bulk 4 Bulk 5 Bulk 6 Bulk 7 Bulk 8  \\\n",
       "0    1    NaN    NaN    NaN  2019-05-03 11:21:30    NaN    NaN    NaN    NaN   \n",
       "1    2    NaN    NaN    NaN  2019-05-03 11:46:38    NaN    NaN    NaN    NaN   \n",
       "2    3    NaN    NaN    NaN  2019-05-03 12:31:06    NaN    NaN    NaN    NaN   \n",
       "3    4    NaN    NaN    NaN  2019-05-03 12:48:43    NaN    NaN    NaN    NaN   \n",
       "4    5    NaN    NaN    NaN  2019-05-03 13:18:50    NaN    NaN    NaN    NaN   \n",
       "\n",
       "  Bulk 9 Bulk 10 Bulk 11              Bulk 12 Bulk 13              Bulk 14  \\\n",
       "0    NaN     NaN     NaN  2019-05-03 11:03:52     NaN  2019-05-03 11:03:52   \n",
       "1    NaN     NaN     NaN  2019-05-03 11:40:20     NaN  2019-05-03 11:40:20   \n",
       "2    NaN     NaN     NaN  2019-05-03 12:09:40     NaN  2019-05-03 12:09:40   \n",
       "3    NaN     NaN     NaN  2019-05-03 12:41:24     NaN  2019-05-03 12:41:24   \n",
       "4    NaN     NaN     NaN  2019-05-03 13:12:56     NaN  2019-05-03 13:12:56   \n",
       "\n",
       "               Bulk 15  \n",
       "0  2019-05-03 11:03:52  \n",
       "1  2019-05-03 11:40:20  \n",
       "2  2019-05-03 12:09:40  \n",
       "3  2019-05-03 12:41:24  \n",
       "4  2019-05-03 13:12:56  "
      ]
     },
     "execution_count": 30,
     "metadata": {},
     "output_type": "execute_result"
    }
   ],
   "source": [
    "# viewing top rows\n",
    "data_bulk_time.head()"
   ]
  },
  {
   "cell_type": "markdown",
   "id": "741c2f42",
   "metadata": {},
   "source": [
    "**Вывод.**\n",
    "\n",
    "Данные о времени подачи материалов не будут использованы в работе, так как в работе не рассматриваются итерации партий обработки."
   ]
  },
  {
   "cell_type": "markdown",
   "id": "0968f82a",
   "metadata": {},
   "source": [
    "### Данные о продувке газом, таблица data_gas"
   ]
  },
  {
   "cell_type": "code",
   "execution_count": 31,
   "id": "674d6139",
   "metadata": {},
   "outputs": [],
   "source": [
    "# loading data\n",
    "pth1 = r'D:\\Python\\Проекты\\Спринт18_финал\\final_steel\\data_gas.csv'\n",
    "data_gas = pd.read_csv(pth1)"
   ]
  },
  {
   "cell_type": "markdown",
   "id": "096fe832",
   "metadata": {},
   "source": [
    "Изучим общую информацию по датасету."
   ]
  },
  {
   "cell_type": "code",
   "execution_count": 32,
   "id": "db9457f2",
   "metadata": {},
   "outputs": [
    {
     "name": "stdout",
     "output_type": "stream",
     "text": [
      "<class 'pandas.core.frame.DataFrame'>\n",
      "RangeIndex: 3239 entries, 0 to 3238\n",
      "Data columns (total 2 columns):\n",
      " #   Column  Non-Null Count  Dtype  \n",
      "---  ------  --------------  -----  \n",
      " 0   key     3239 non-null   int64  \n",
      " 1   Газ 1   3239 non-null   float64\n",
      "dtypes: float64(1), int64(1)\n",
      "memory usage: 50.7 KB\n"
     ]
    }
   ],
   "source": [
    "# getting common info\n",
    "data_gas.info()"
   ]
  },
  {
   "cell_type": "markdown",
   "id": "a70ce0f7",
   "metadata": {},
   "source": [
    "Переименуем колонку и посмотрим на несколько строк таблицы."
   ]
  },
  {
   "cell_type": "code",
   "execution_count": 33,
   "id": "5eebd16f",
   "metadata": {},
   "outputs": [
    {
     "data": {
      "text/html": [
       "<div>\n",
       "<style scoped>\n",
       "    .dataframe tbody tr th:only-of-type {\n",
       "        vertical-align: middle;\n",
       "    }\n",
       "\n",
       "    .dataframe tbody tr th {\n",
       "        vertical-align: top;\n",
       "    }\n",
       "\n",
       "    .dataframe thead th {\n",
       "        text-align: right;\n",
       "    }\n",
       "</style>\n",
       "<table border=\"1\" class=\"dataframe\">\n",
       "  <thead>\n",
       "    <tr style=\"text-align: right;\">\n",
       "      <th></th>\n",
       "      <th>key</th>\n",
       "      <th>gas</th>\n",
       "    </tr>\n",
       "  </thead>\n",
       "  <tbody>\n",
       "    <tr>\n",
       "      <th>0</th>\n",
       "      <td>1</td>\n",
       "      <td>29.749986</td>\n",
       "    </tr>\n",
       "    <tr>\n",
       "      <th>1</th>\n",
       "      <td>2</td>\n",
       "      <td>12.555561</td>\n",
       "    </tr>\n",
       "    <tr>\n",
       "      <th>2</th>\n",
       "      <td>3</td>\n",
       "      <td>28.554793</td>\n",
       "    </tr>\n",
       "    <tr>\n",
       "      <th>3</th>\n",
       "      <td>4</td>\n",
       "      <td>18.841219</td>\n",
       "    </tr>\n",
       "    <tr>\n",
       "      <th>4</th>\n",
       "      <td>5</td>\n",
       "      <td>5.413692</td>\n",
       "    </tr>\n",
       "  </tbody>\n",
       "</table>\n",
       "</div>"
      ],
      "text/plain": [
       "   key        gas\n",
       "0    1  29.749986\n",
       "1    2  12.555561\n",
       "2    3  28.554793\n",
       "3    4  18.841219\n",
       "4    5   5.413692"
      ]
     },
     "execution_count": 33,
     "metadata": {},
     "output_type": "execute_result"
    }
   ],
   "source": [
    "# renaming columns\n",
    "data_gas = data_gas.rename(columns={'Газ 1': 'gas'})\n",
    "\n",
    "# viewing top rows\n",
    "data_gas.head()"
   ]
  },
  {
   "cell_type": "markdown",
   "id": "e4a0977e",
   "metadata": {},
   "source": [
    "Посмотрим на распределение значений расхода газа по партиям."
   ]
  },
  {
   "cell_type": "code",
   "execution_count": 34,
   "id": "0fbaa2f4",
   "metadata": {},
   "outputs": [
    {
     "data": {
      "text/html": [
       "<div>\n",
       "<style scoped>\n",
       "    .dataframe tbody tr th:only-of-type {\n",
       "        vertical-align: middle;\n",
       "    }\n",
       "\n",
       "    .dataframe tbody tr th {\n",
       "        vertical-align: top;\n",
       "    }\n",
       "\n",
       "    .dataframe thead th {\n",
       "        text-align: right;\n",
       "    }\n",
       "</style>\n",
       "<table border=\"1\" class=\"dataframe\">\n",
       "  <thead>\n",
       "    <tr style=\"text-align: right;\">\n",
       "      <th></th>\n",
       "      <th>key</th>\n",
       "      <th>gas</th>\n",
       "    </tr>\n",
       "  </thead>\n",
       "  <tbody>\n",
       "    <tr>\n",
       "      <th>count</th>\n",
       "      <td>3239.000000</td>\n",
       "      <td>3239.000000</td>\n",
       "    </tr>\n",
       "    <tr>\n",
       "      <th>mean</th>\n",
       "      <td>1621.861377</td>\n",
       "      <td>11.002062</td>\n",
       "    </tr>\n",
       "    <tr>\n",
       "      <th>std</th>\n",
       "      <td>935.386334</td>\n",
       "      <td>6.220327</td>\n",
       "    </tr>\n",
       "    <tr>\n",
       "      <th>min</th>\n",
       "      <td>1.000000</td>\n",
       "      <td>0.008399</td>\n",
       "    </tr>\n",
       "    <tr>\n",
       "      <th>25%</th>\n",
       "      <td>812.500000</td>\n",
       "      <td>7.043089</td>\n",
       "    </tr>\n",
       "    <tr>\n",
       "      <th>50%</th>\n",
       "      <td>1622.000000</td>\n",
       "      <td>9.836267</td>\n",
       "    </tr>\n",
       "    <tr>\n",
       "      <th>75%</th>\n",
       "      <td>2431.500000</td>\n",
       "      <td>13.769915</td>\n",
       "    </tr>\n",
       "    <tr>\n",
       "      <th>max</th>\n",
       "      <td>3241.000000</td>\n",
       "      <td>77.995040</td>\n",
       "    </tr>\n",
       "  </tbody>\n",
       "</table>\n",
       "</div>"
      ],
      "text/plain": [
       "               key          gas\n",
       "count  3239.000000  3239.000000\n",
       "mean   1621.861377    11.002062\n",
       "std     935.386334     6.220327\n",
       "min       1.000000     0.008399\n",
       "25%     812.500000     7.043089\n",
       "50%    1622.000000     9.836267\n",
       "75%    2431.500000    13.769915\n",
       "max    3241.000000    77.995040"
      ]
     },
     "execution_count": 34,
     "metadata": {},
     "output_type": "execute_result"
    }
   ],
   "source": [
    "# getting description\n",
    "data_gas.describe()"
   ]
  },
  {
   "cell_type": "code",
   "execution_count": 35,
   "id": "ab12f5c2",
   "metadata": {},
   "outputs": [
    {
     "data": {
      "image/png": "[encoded data removed]",
      "text/plain": [
       "<Figure size 864x288 with 1 Axes>"
      ]
     },
     "metadata": {
      "needs_background": "light"
     },
     "output_type": "display_data"
    }
   ],
   "source": [
    "# building a histogram \n",
    "data_gas['gas'].plot(kind='hist',\n",
    "                     bins=100,\n",
    "                     grid=True,\n",
    "                     density=True,\n",
    "                     figsize=(12, 4),\n",
    "                     title='Гистограмма распределения количества газа по партиям');\n",
    "\n",
    "# naming axes \n",
    "pl.xlabel('Расход газа');\n",
    "pl.ylabel('Доля');"
   ]
  },
  {
   "cell_type": "markdown",
   "id": "06e2226b",
   "metadata": {},
   "source": [
    "**Вывод.**\n",
    "\n",
    "Данные о расходе газа приведены для 3239 партий обработки стали.\n",
    "Распределение значений параметра не имеет аномалий. График распределения очень похож на график распределения количества потребленной электроэнергии, продолжительности партий."
   ]
  },
  {
   "cell_type": "markdown",
   "id": "5297ef3a",
   "metadata": {},
   "source": [
    "### Данные о температуре, таблица data_temp"
   ]
  },
  {
   "cell_type": "code",
   "execution_count": 36,
   "id": "1d567bff",
   "metadata": {},
   "outputs": [],
   "source": [
    "# loading data\n",
    "pth1 = r'D:\\Python\\Проекты\\Спринт18_финал\\final_steel\\data_temp.csv'\n",
    "data_temp = pd.read_csv(pth1)"
   ]
  },
  {
   "cell_type": "markdown",
   "id": "e6f72ecd",
   "metadata": {},
   "source": [
    "Изучим общую информацию по датасету."
   ]
  },
  {
   "cell_type": "code",
   "execution_count": 37,
   "id": "d644b581",
   "metadata": {},
   "outputs": [
    {
     "name": "stdout",
     "output_type": "stream",
     "text": [
      "<class 'pandas.core.frame.DataFrame'>\n",
      "RangeIndex: 15907 entries, 0 to 15906\n",
      "Data columns (total 3 columns):\n",
      " #   Column        Non-Null Count  Dtype  \n",
      "---  ------        --------------  -----  \n",
      " 0   key           15907 non-null  int64  \n",
      " 1   Время замера  15907 non-null  object \n",
      " 2   Температура   13006 non-null  float64\n",
      "dtypes: float64(1), int64(1), object(1)\n",
      "memory usage: 372.9+ KB\n"
     ]
    }
   ],
   "source": [
    "# getting common info\n",
    "data_temp.info()"
   ]
  },
  {
   "cell_type": "markdown",
   "id": "5eeec4f0",
   "metadata": {},
   "source": [
    "Приведём наименования колонок в корректный вид и посмотрим на несколько строк таблицы."
   ]
  },
  {
   "cell_type": "code",
   "execution_count": 38,
   "id": "da7cd434",
   "metadata": {},
   "outputs": [
    {
     "data": {
      "text/html": [
       "<div>\n",
       "<style scoped>\n",
       "    .dataframe tbody tr th:only-of-type {\n",
       "        vertical-align: middle;\n",
       "    }\n",
       "\n",
       "    .dataframe tbody tr th {\n",
       "        vertical-align: top;\n",
       "    }\n",
       "\n",
       "    .dataframe thead th {\n",
       "        text-align: right;\n",
       "    }\n",
       "</style>\n",
       "<table border=\"1\" class=\"dataframe\">\n",
       "  <thead>\n",
       "    <tr style=\"text-align: right;\">\n",
       "      <th></th>\n",
       "      <th>key</th>\n",
       "      <th>time</th>\n",
       "      <th>temp</th>\n",
       "    </tr>\n",
       "  </thead>\n",
       "  <tbody>\n",
       "    <tr>\n",
       "      <th>0</th>\n",
       "      <td>1</td>\n",
       "      <td>2019-05-03 11:16:18</td>\n",
       "      <td>1571.0</td>\n",
       "    </tr>\n",
       "    <tr>\n",
       "      <th>1</th>\n",
       "      <td>1</td>\n",
       "      <td>2019-05-03 11:25:53</td>\n",
       "      <td>1604.0</td>\n",
       "    </tr>\n",
       "    <tr>\n",
       "      <th>2</th>\n",
       "      <td>1</td>\n",
       "      <td>2019-05-03 11:29:11</td>\n",
       "      <td>1618.0</td>\n",
       "    </tr>\n",
       "    <tr>\n",
       "      <th>3</th>\n",
       "      <td>1</td>\n",
       "      <td>2019-05-03 11:30:01</td>\n",
       "      <td>1601.0</td>\n",
       "    </tr>\n",
       "    <tr>\n",
       "      <th>4</th>\n",
       "      <td>1</td>\n",
       "      <td>2019-05-03 11:30:39</td>\n",
       "      <td>1613.0</td>\n",
       "    </tr>\n",
       "  </tbody>\n",
       "</table>\n",
       "</div>"
      ],
      "text/plain": [
       "   key                 time    temp\n",
       "0    1  2019-05-03 11:16:18  1571.0\n",
       "1    1  2019-05-03 11:25:53  1604.0\n",
       "2    1  2019-05-03 11:29:11  1618.0\n",
       "3    1  2019-05-03 11:30:01  1601.0\n",
       "4    1  2019-05-03 11:30:39  1613.0"
      ]
     },
     "execution_count": 38,
     "metadata": {},
     "output_type": "execute_result"
    }
   ],
   "source": [
    "# renaming columns\n",
    "data_temp = data_temp.rename(columns={'Время замера': 'time', 'Температура': 'temp'})\n",
    "\n",
    "# viewing top rows\n",
    "data_temp.head()"
   ]
  },
  {
   "cell_type": "markdown",
   "id": "e4eedf01",
   "metadata": {},
   "source": [
    "Значения температур приведены для каждой итерации.\n",
    "\n",
    "Посчитаем количество партий."
   ]
  },
  {
   "cell_type": "code",
   "execution_count": 39,
   "id": "710ab503",
   "metadata": {},
   "outputs": [
    {
     "data": {
      "text/plain": [
       "3216"
      ]
     },
     "execution_count": 39,
     "metadata": {},
     "output_type": "execute_result"
    }
   ],
   "source": [
    "# counting unique values\n",
    "len(data_temp['key'].unique())"
   ]
  },
  {
   "cell_type": "markdown",
   "id": "09dba2f5",
   "metadata": {},
   "source": [
    "Удалим пропуски в столбце с температурой и снова посчитаем количество партий."
   ]
  },
  {
   "cell_type": "code",
   "execution_count": 40,
   "id": "2e335ffe",
   "metadata": {},
   "outputs": [
    {
     "data": {
      "text/plain": [
       "3216"
      ]
     },
     "execution_count": 40,
     "metadata": {},
     "output_type": "execute_result"
    }
   ],
   "source": [
    "# dropping Nan values\n",
    "data_temp = data_temp.dropna()\n",
    "\n",
    "# counting unique values\n",
    "len(data_temp['key'].unique())"
   ]
  },
  {
   "cell_type": "markdown",
   "id": "f7ea94f4",
   "metadata": {},
   "source": [
    "Количество партий не изменилось, выведем на экран общую информацию для проверки корректности удаления пропусков."
   ]
  },
  {
   "cell_type": "code",
   "execution_count": 41,
   "id": "406e6b78",
   "metadata": {},
   "outputs": [
    {
     "name": "stdout",
     "output_type": "stream",
     "text": [
      "<class 'pandas.core.frame.DataFrame'>\n",
      "Int64Index: 13006 entries, 0 to 15902\n",
      "Data columns (total 3 columns):\n",
      " #   Column  Non-Null Count  Dtype  \n",
      "---  ------  --------------  -----  \n",
      " 0   key     13006 non-null  int64  \n",
      " 1   time    13006 non-null  object \n",
      " 2   temp    13006 non-null  float64\n",
      "dtypes: float64(1), int64(1), object(1)\n",
      "memory usage: 406.4+ KB\n"
     ]
    }
   ],
   "source": [
    "# getting common info\n",
    "data_temp.info()"
   ]
  },
  {
   "cell_type": "markdown",
   "id": "6ce56be6",
   "metadata": {},
   "source": [
    "Пропуски удалились корректно.\n",
    "\n",
    "Создадим сводную таблицу партий со сведениями о температурах нагрева стали в начале и конце процесса обработки."
   ]
  },
  {
   "cell_type": "code",
   "execution_count": 42,
   "id": "49bdbf2b",
   "metadata": {},
   "outputs": [
    {
     "data": {
      "text/html": [
       "<div>\n",
       "<style scoped>\n",
       "    .dataframe tbody tr th:only-of-type {\n",
       "        vertical-align: middle;\n",
       "    }\n",
       "\n",
       "    .dataframe tbody tr th {\n",
       "        vertical-align: top;\n",
       "    }\n",
       "\n",
       "    .dataframe thead th {\n",
       "        text-align: right;\n",
       "    }\n",
       "</style>\n",
       "<table border=\"1\" class=\"dataframe\">\n",
       "  <thead>\n",
       "    <tr style=\"text-align: right;\">\n",
       "      <th></th>\n",
       "      <th>key</th>\n",
       "      <th>start</th>\n",
       "      <th>end</th>\n",
       "      <th>count</th>\n",
       "    </tr>\n",
       "  </thead>\n",
       "  <tbody>\n",
       "    <tr>\n",
       "      <th>0</th>\n",
       "      <td>1</td>\n",
       "      <td>1571.0</td>\n",
       "      <td>1613.0</td>\n",
       "      <td>5</td>\n",
       "    </tr>\n",
       "    <tr>\n",
       "      <th>1</th>\n",
       "      <td>2</td>\n",
       "      <td>1581.0</td>\n",
       "      <td>1602.0</td>\n",
       "      <td>6</td>\n",
       "    </tr>\n",
       "    <tr>\n",
       "      <th>2</th>\n",
       "      <td>3</td>\n",
       "      <td>1596.0</td>\n",
       "      <td>1599.0</td>\n",
       "      <td>5</td>\n",
       "    </tr>\n",
       "    <tr>\n",
       "      <th>3</th>\n",
       "      <td>4</td>\n",
       "      <td>1601.0</td>\n",
       "      <td>1625.0</td>\n",
       "      <td>3</td>\n",
       "    </tr>\n",
       "    <tr>\n",
       "      <th>4</th>\n",
       "      <td>5</td>\n",
       "      <td>1576.0</td>\n",
       "      <td>1602.0</td>\n",
       "      <td>2</td>\n",
       "    </tr>\n",
       "  </tbody>\n",
       "</table>\n",
       "</div>"
      ],
      "text/plain": [
       "   key   start     end  count\n",
       "0    1  1571.0  1613.0      5\n",
       "1    2  1581.0  1602.0      6\n",
       "2    3  1596.0  1599.0      5\n",
       "3    4  1601.0  1625.0      3\n",
       "4    5  1576.0  1602.0      2"
      ]
     },
     "execution_count": 42,
     "metadata": {},
     "output_type": "execute_result"
    }
   ],
   "source": [
    "# creating pivot table\n",
    "key_temp = pd.pivot_table(data_temp, index='key', values='temp', aggfunc=['first', 'last', 'count'])\n",
    "\n",
    "# renaming columns\n",
    "key_temp.columns = ['start', 'end', 'count']\n",
    "\n",
    "# renaming indexes\n",
    "key_temp['key'] = key_temp.index\n",
    "\n",
    "# dropping indexes\n",
    "key_temp = key_temp.reset_index(drop=True)\n",
    "\n",
    "# dropping columns\n",
    "key_temp = key_temp[['key', 'start', 'end', 'count']]\n",
    "\n",
    "# viewing top rows\n",
    "key_temp.head()"
   ]
  },
  {
   "cell_type": "markdown",
   "id": "11655333",
   "metadata": {},
   "source": [
    "Создадим столбец с разностью температур."
   ]
  },
  {
   "cell_type": "code",
   "execution_count": 43,
   "id": "1021c32c",
   "metadata": {},
   "outputs": [
    {
     "data": {
      "text/html": [
       "<div>\n",
       "<style scoped>\n",
       "    .dataframe tbody tr th:only-of-type {\n",
       "        vertical-align: middle;\n",
       "    }\n",
       "\n",
       "    .dataframe tbody tr th {\n",
       "        vertical-align: top;\n",
       "    }\n",
       "\n",
       "    .dataframe thead th {\n",
       "        text-align: right;\n",
       "    }\n",
       "</style>\n",
       "<table border=\"1\" class=\"dataframe\">\n",
       "  <thead>\n",
       "    <tr style=\"text-align: right;\">\n",
       "      <th></th>\n",
       "      <th>key</th>\n",
       "      <th>start</th>\n",
       "      <th>end</th>\n",
       "      <th>count</th>\n",
       "      <th>dif</th>\n",
       "    </tr>\n",
       "  </thead>\n",
       "  <tbody>\n",
       "    <tr>\n",
       "      <th>0</th>\n",
       "      <td>1</td>\n",
       "      <td>1571.0</td>\n",
       "      <td>1613.0</td>\n",
       "      <td>5</td>\n",
       "      <td>42.0</td>\n",
       "    </tr>\n",
       "    <tr>\n",
       "      <th>1</th>\n",
       "      <td>2</td>\n",
       "      <td>1581.0</td>\n",
       "      <td>1602.0</td>\n",
       "      <td>6</td>\n",
       "      <td>21.0</td>\n",
       "    </tr>\n",
       "    <tr>\n",
       "      <th>2</th>\n",
       "      <td>3</td>\n",
       "      <td>1596.0</td>\n",
       "      <td>1599.0</td>\n",
       "      <td>5</td>\n",
       "      <td>3.0</td>\n",
       "    </tr>\n",
       "    <tr>\n",
       "      <th>3</th>\n",
       "      <td>4</td>\n",
       "      <td>1601.0</td>\n",
       "      <td>1625.0</td>\n",
       "      <td>3</td>\n",
       "      <td>24.0</td>\n",
       "    </tr>\n",
       "    <tr>\n",
       "      <th>4</th>\n",
       "      <td>5</td>\n",
       "      <td>1576.0</td>\n",
       "      <td>1602.0</td>\n",
       "      <td>2</td>\n",
       "      <td>26.0</td>\n",
       "    </tr>\n",
       "  </tbody>\n",
       "</table>\n",
       "</div>"
      ],
      "text/plain": [
       "   key   start     end  count   dif\n",
       "0    1  1571.0  1613.0      5  42.0\n",
       "1    2  1581.0  1602.0      6  21.0\n",
       "2    3  1596.0  1599.0      5   3.0\n",
       "3    4  1601.0  1625.0      3  24.0\n",
       "4    5  1576.0  1602.0      2  26.0"
      ]
     },
     "execution_count": 43,
     "metadata": {},
     "output_type": "execute_result"
    }
   ],
   "source": [
    "# creating new column\n",
    "key_temp['dif'] = key_temp['end'] - key_temp['start']\n",
    "\n",
    "# viewing top rows\n",
    "key_temp.head()"
   ]
  },
  {
   "cell_type": "markdown",
   "id": "37a58582",
   "metadata": {},
   "source": [
    "Проверим размер созданной таблицы."
   ]
  },
  {
   "cell_type": "code",
   "execution_count": 44,
   "id": "6f4dc08c",
   "metadata": {},
   "outputs": [
    {
     "data": {
      "text/plain": [
       "(3216, 5)"
      ]
     },
     "execution_count": 44,
     "metadata": {},
     "output_type": "execute_result"
    }
   ],
   "source": [
    "# getting shape of table\n",
    "key_temp.shape"
   ]
  },
  {
   "cell_type": "markdown",
   "id": "1463f2d7",
   "metadata": {},
   "source": [
    "Посчитаем количество партий, в которых указана только одна температура."
   ]
  },
  {
   "cell_type": "code",
   "execution_count": 45,
   "id": "f3c711f2",
   "metadata": {},
   "outputs": [
    {
     "data": {
      "text/plain": [
       "741"
      ]
     },
     "execution_count": 45,
     "metadata": {},
     "output_type": "execute_result"
    }
   ],
   "source": [
    "# counting unique values\n",
    "len(key_temp[key_temp['count'] == 1])"
   ]
  },
  {
   "cell_type": "markdown",
   "id": "bcce8c41",
   "metadata": {},
   "source": [
    "Выведем на экран несколько таких партий."
   ]
  },
  {
   "cell_type": "code",
   "execution_count": 46,
   "id": "8f50f4e3",
   "metadata": {},
   "outputs": [
    {
     "data": {
      "text/html": [
       "<div>\n",
       "<style scoped>\n",
       "    .dataframe tbody tr th:only-of-type {\n",
       "        vertical-align: middle;\n",
       "    }\n",
       "\n",
       "    .dataframe tbody tr th {\n",
       "        vertical-align: top;\n",
       "    }\n",
       "\n",
       "    .dataframe thead th {\n",
       "        text-align: right;\n",
       "    }\n",
       "</style>\n",
       "<table border=\"1\" class=\"dataframe\">\n",
       "  <thead>\n",
       "    <tr style=\"text-align: right;\">\n",
       "      <th></th>\n",
       "      <th>key</th>\n",
       "      <th>start</th>\n",
       "      <th>end</th>\n",
       "      <th>count</th>\n",
       "      <th>dif</th>\n",
       "    </tr>\n",
       "  </thead>\n",
       "  <tbody>\n",
       "    <tr>\n",
       "      <th>192</th>\n",
       "      <td>195</td>\n",
       "      <td>1583.0</td>\n",
       "      <td>1583.0</td>\n",
       "      <td>1</td>\n",
       "      <td>0.0</td>\n",
       "    </tr>\n",
       "    <tr>\n",
       "      <th>276</th>\n",
       "      <td>279</td>\n",
       "      <td>1603.0</td>\n",
       "      <td>1603.0</td>\n",
       "      <td>1</td>\n",
       "      <td>0.0</td>\n",
       "    </tr>\n",
       "    <tr>\n",
       "      <th>2477</th>\n",
       "      <td>2500</td>\n",
       "      <td>1539.0</td>\n",
       "      <td>1539.0</td>\n",
       "      <td>1</td>\n",
       "      <td>0.0</td>\n",
       "    </tr>\n",
       "    <tr>\n",
       "      <th>2478</th>\n",
       "      <td>2501</td>\n",
       "      <td>1587.0</td>\n",
       "      <td>1587.0</td>\n",
       "      <td>1</td>\n",
       "      <td>0.0</td>\n",
       "    </tr>\n",
       "    <tr>\n",
       "      <th>2479</th>\n",
       "      <td>2502</td>\n",
       "      <td>1583.0</td>\n",
       "      <td>1583.0</td>\n",
       "      <td>1</td>\n",
       "      <td>0.0</td>\n",
       "    </tr>\n",
       "  </tbody>\n",
       "</table>\n",
       "</div>"
      ],
      "text/plain": [
       "       key   start     end  count  dif\n",
       "192    195  1583.0  1583.0      1  0.0\n",
       "276    279  1603.0  1603.0      1  0.0\n",
       "2477  2500  1539.0  1539.0      1  0.0\n",
       "2478  2501  1587.0  1587.0      1  0.0\n",
       "2479  2502  1583.0  1583.0      1  0.0"
      ]
     },
     "execution_count": 46,
     "metadata": {},
     "output_type": "execute_result"
    }
   ],
   "source": [
    "# viewing top rows\n",
    "key_temp[key_temp['count'] == 1].head()"
   ]
  },
  {
   "cell_type": "markdown",
   "id": "352a9b15",
   "metadata": {},
   "source": [
    "Имеется 741 таких партий.\n",
    "\n",
    "Такие партии являются неинформативными, удалим их из таблицы."
   ]
  },
  {
   "cell_type": "code",
   "execution_count": 47,
   "id": "6347e346",
   "metadata": {},
   "outputs": [],
   "source": [
    "# dropping rows\n",
    "key_temp = key_temp[key_temp['count'] != 1]"
   ]
  },
  {
   "cell_type": "markdown",
   "id": "dda2a6e2",
   "metadata": {},
   "source": [
    "Посмотрим на распределение значений таблицы `key_temp`."
   ]
  },
  {
   "cell_type": "code",
   "execution_count": 48,
   "id": "39799ea7",
   "metadata": {},
   "outputs": [
    {
     "data": {
      "text/html": [
       "<div>\n",
       "<style scoped>\n",
       "    .dataframe tbody tr th:only-of-type {\n",
       "        vertical-align: middle;\n",
       "    }\n",
       "\n",
       "    .dataframe tbody tr th {\n",
       "        vertical-align: top;\n",
       "    }\n",
       "\n",
       "    .dataframe thead th {\n",
       "        text-align: right;\n",
       "    }\n",
       "</style>\n",
       "<table border=\"1\" class=\"dataframe\">\n",
       "  <thead>\n",
       "    <tr style=\"text-align: right;\">\n",
       "      <th></th>\n",
       "      <th>key</th>\n",
       "      <th>start</th>\n",
       "      <th>end</th>\n",
       "      <th>count</th>\n",
       "      <th>dif</th>\n",
       "    </tr>\n",
       "  </thead>\n",
       "  <tbody>\n",
       "    <tr>\n",
       "      <th>count</th>\n",
       "      <td>2475.000000</td>\n",
       "      <td>2475.000000</td>\n",
       "      <td>2475.000000</td>\n",
       "      <td>2475.000000</td>\n",
       "      <td>2475.000000</td>\n",
       "    </tr>\n",
       "    <tr>\n",
       "      <th>mean</th>\n",
       "      <td>1250.787071</td>\n",
       "      <td>1588.402020</td>\n",
       "      <td>1595.336162</td>\n",
       "      <td>4.955556</td>\n",
       "      <td>6.934141</td>\n",
       "    </tr>\n",
       "    <tr>\n",
       "      <th>std</th>\n",
       "      <td>719.787271</td>\n",
       "      <td>29.243044</td>\n",
       "      <td>16.023153</td>\n",
       "      <td>1.807323</td>\n",
       "      <td>27.549120</td>\n",
       "    </tr>\n",
       "    <tr>\n",
       "      <th>min</th>\n",
       "      <td>1.000000</td>\n",
       "      <td>1191.000000</td>\n",
       "      <td>1541.000000</td>\n",
       "      <td>2.000000</td>\n",
       "      <td>-98.000000</td>\n",
       "    </tr>\n",
       "    <tr>\n",
       "      <th>25%</th>\n",
       "      <td>629.500000</td>\n",
       "      <td>1572.000000</td>\n",
       "      <td>1587.000000</td>\n",
       "      <td>4.000000</td>\n",
       "      <td>-8.000000</td>\n",
       "    </tr>\n",
       "    <tr>\n",
       "      <th>50%</th>\n",
       "      <td>1252.000000</td>\n",
       "      <td>1588.000000</td>\n",
       "      <td>1593.000000</td>\n",
       "      <td>5.000000</td>\n",
       "      <td>7.000000</td>\n",
       "    </tr>\n",
       "    <tr>\n",
       "      <th>75%</th>\n",
       "      <td>1872.500000</td>\n",
       "      <td>1605.000000</td>\n",
       "      <td>1599.000000</td>\n",
       "      <td>6.000000</td>\n",
       "      <td>22.000000</td>\n",
       "    </tr>\n",
       "    <tr>\n",
       "      <th>max</th>\n",
       "      <td>2499.000000</td>\n",
       "      <td>1679.000000</td>\n",
       "      <td>1700.000000</td>\n",
       "      <td>16.000000</td>\n",
       "      <td>408.000000</td>\n",
       "    </tr>\n",
       "  </tbody>\n",
       "</table>\n",
       "</div>"
      ],
      "text/plain": [
       "               key        start          end        count          dif\n",
       "count  2475.000000  2475.000000  2475.000000  2475.000000  2475.000000\n",
       "mean   1250.787071  1588.402020  1595.336162     4.955556     6.934141\n",
       "std     719.787271    29.243044    16.023153     1.807323    27.549120\n",
       "min       1.000000  1191.000000  1541.000000     2.000000   -98.000000\n",
       "25%     629.500000  1572.000000  1587.000000     4.000000    -8.000000\n",
       "50%    1252.000000  1588.000000  1593.000000     5.000000     7.000000\n",
       "75%    1872.500000  1605.000000  1599.000000     6.000000    22.000000\n",
       "max    2499.000000  1679.000000  1700.000000    16.000000   408.000000"
      ]
     },
     "execution_count": 48,
     "metadata": {},
     "output_type": "execute_result"
    }
   ],
   "source": [
    "# getting description\n",
    "key_temp.describe()"
   ]
  },
  {
   "cell_type": "markdown",
   "id": "2d73df66",
   "metadata": {},
   "source": [
    "Построим гистограмму распределения начальной и конечной температур."
   ]
  },
  {
   "cell_type": "code",
   "execution_count": 49,
   "id": "6c0d6872",
   "metadata": {},
   "outputs": [
    {
     "data": {
      "image/png": "[encoded data removed]",
      "text/plain": [
       "<Figure size 864x288 with 1 Axes>"
      ]
     },
     "metadata": {
      "needs_background": "light"
     },
     "output_type": "display_data"
    }
   ],
   "source": [
    "# building a histogram\n",
    "key_temp[['start', 'end']].plot(kind='hist', \n",
    "                                bins=200, \n",
    "                                grid=True,\n",
    "                                range=(1500, 1700),\n",
    "                                alpha=.5,\n",
    "                                title='Распределение температур процесса обработки стали',\n",
    "                                figsize=(12,4));\n",
    "\n",
    "# naming axes\n",
    "pl.xlabel('Температура');\n",
    "pl.ylabel('Частота');"
   ]
  },
  {
   "cell_type": "markdown",
   "id": "b7408e77",
   "metadata": {},
   "source": [
    "Посмотрим на гистограмму распределения разности температур."
   ]
  },
  {
   "cell_type": "code",
   "execution_count": 50,
   "id": "4beff675",
   "metadata": {},
   "outputs": [
    {
     "data": {
      "image/png": "[encoded data removed]",
      "text/plain": [
       "<Figure size 864x288 with 1 Axes>"
      ]
     },
     "metadata": {
      "needs_background": "light"
     },
     "output_type": "display_data"
    }
   ],
   "source": [
    "# building a histogram\n",
    "key_temp['dif'].plot(kind='hist',\n",
    "                     bins=100,\n",
    "                     grid=True,\n",
    "                     figsize=(12, 4),\n",
    "                     title='Гистограмма распределения разности температур по партиям');\n",
    "\n",
    "# naming axes\n",
    "pl.xlabel('Разность температур');\n",
    "pl.ylabel('Частота');"
   ]
  },
  {
   "cell_type": "markdown",
   "id": "0eff0462",
   "metadata": {},
   "source": [
    "**Вывод.**\n",
    "\n",
    "В исходном датасете сведения о температуре приведены для всех итераций партий обработки стали. При этом в данных имелось около 2000 пропусков в столбце с температурами. Эти объекты были удалены.\n",
    "\n",
    "Сведения о температуре сплавов стали приведены для 3216 партий обработки. При этом начальное и конечное значения температур имеются только для 2475 партий.\n",
    "\n",
    "В ходе анализа данных построена сводная таблица со значениями начальной и конечной температуры сплава стали для каждой  партии, разности температур.\n",
    "\n",
    "Распределение значений начальной температуры имеет большую дисперсию. Среднее значение температуры обработки стали - примерно 1600 градусов Цельсия.\n",
    "\n",
    "Примерно 35-40% партий имеют конечную температуру ниже начальной температуры. Это означает, что в процессе легирования в таких партиях сплавы стали остывают, а не нагреваются. Гистограмма разности температур имеет нормальное распределение с небольшим количеством выбросов."
   ]
  },
  {
   "cell_type": "markdown",
   "id": "6e995f29",
   "metadata": {},
   "source": [
    "### Данные об объёме проволочных материалах, таблица data_wire"
   ]
  },
  {
   "cell_type": "code",
   "execution_count": 51,
   "id": "fbb6a494",
   "metadata": {},
   "outputs": [],
   "source": [
    "# loading data\n",
    "pth1 = r'D:\\Python\\Проекты\\Спринт18_финал\\final_steel\\data_wire.csv'\n",
    "pth2 = r'/datasets/final_steel/data_wire.csv'\n",
    "\n",
    "if os.path.exists(pth1):\n",
    "    data_wire = pd.read_csv(pth1)\n",
    "elif os.path.exists(pth2):\n",
    "    data_wire = pd.read_csv(pth2)\n",
    "else:\n",
    "    print('Something is wrong')"
   ]
  },
  {
   "cell_type": "markdown",
   "id": "c46dd82f",
   "metadata": {},
   "source": [
    "Изучим общую информацию по датасету."
   ]
  },
  {
   "cell_type": "code",
   "execution_count": 52,
   "id": "603d05e4",
   "metadata": {},
   "outputs": [
    {
     "name": "stdout",
     "output_type": "stream",
     "text": [
      "<class 'pandas.core.frame.DataFrame'>\n",
      "RangeIndex: 3081 entries, 0 to 3080\n",
      "Data columns (total 10 columns):\n",
      " #   Column  Non-Null Count  Dtype  \n",
      "---  ------  --------------  -----  \n",
      " 0   key     3081 non-null   int64  \n",
      " 1   Wire 1  3055 non-null   float64\n",
      " 2   Wire 2  1079 non-null   float64\n",
      " 3   Wire 3  63 non-null     float64\n",
      " 4   Wire 4  14 non-null     float64\n",
      " 5   Wire 5  1 non-null      float64\n",
      " 6   Wire 6  73 non-null     float64\n",
      " 7   Wire 7  11 non-null     float64\n",
      " 8   Wire 8  19 non-null     float64\n",
      " 9   Wire 9  29 non-null     float64\n",
      "dtypes: float64(9), int64(1)\n",
      "memory usage: 240.8 KB\n"
     ]
    }
   ],
   "source": [
    "# getting common info\n",
    "data_wire.info()"
   ]
  },
  {
   "cell_type": "markdown",
   "id": "7239d831",
   "metadata": {},
   "source": [
    "Приведём названия колонок в корректный вид и посмотрим на несколько срток датасета."
   ]
  },
  {
   "cell_type": "code",
   "execution_count": 53,
   "id": "0f0130d8",
   "metadata": {
    "scrolled": true
   },
   "outputs": [
    {
     "data": {
      "text/html": [
       "<div>\n",
       "<style scoped>\n",
       "    .dataframe tbody tr th:only-of-type {\n",
       "        vertical-align: middle;\n",
       "    }\n",
       "\n",
       "    .dataframe tbody tr th {\n",
       "        vertical-align: top;\n",
       "    }\n",
       "\n",
       "    .dataframe thead th {\n",
       "        text-align: right;\n",
       "    }\n",
       "</style>\n",
       "<table border=\"1\" class=\"dataframe\">\n",
       "  <thead>\n",
       "    <tr style=\"text-align: right;\">\n",
       "      <th></th>\n",
       "      <th>key</th>\n",
       "      <th>wire1</th>\n",
       "      <th>wire2</th>\n",
       "      <th>wire3</th>\n",
       "      <th>wire4</th>\n",
       "      <th>wire5</th>\n",
       "      <th>wire6</th>\n",
       "      <th>wire7</th>\n",
       "      <th>wire8</th>\n",
       "      <th>wire9</th>\n",
       "    </tr>\n",
       "  </thead>\n",
       "  <tbody>\n",
       "    <tr>\n",
       "      <th>0</th>\n",
       "      <td>1</td>\n",
       "      <td>60.059998</td>\n",
       "      <td>NaN</td>\n",
       "      <td>NaN</td>\n",
       "      <td>NaN</td>\n",
       "      <td>NaN</td>\n",
       "      <td>NaN</td>\n",
       "      <td>NaN</td>\n",
       "      <td>NaN</td>\n",
       "      <td>NaN</td>\n",
       "    </tr>\n",
       "    <tr>\n",
       "      <th>1</th>\n",
       "      <td>2</td>\n",
       "      <td>96.052315</td>\n",
       "      <td>NaN</td>\n",
       "      <td>NaN</td>\n",
       "      <td>NaN</td>\n",
       "      <td>NaN</td>\n",
       "      <td>NaN</td>\n",
       "      <td>NaN</td>\n",
       "      <td>NaN</td>\n",
       "      <td>NaN</td>\n",
       "    </tr>\n",
       "    <tr>\n",
       "      <th>2</th>\n",
       "      <td>3</td>\n",
       "      <td>91.160157</td>\n",
       "      <td>NaN</td>\n",
       "      <td>NaN</td>\n",
       "      <td>NaN</td>\n",
       "      <td>NaN</td>\n",
       "      <td>NaN</td>\n",
       "      <td>NaN</td>\n",
       "      <td>NaN</td>\n",
       "      <td>NaN</td>\n",
       "    </tr>\n",
       "    <tr>\n",
       "      <th>3</th>\n",
       "      <td>4</td>\n",
       "      <td>89.063515</td>\n",
       "      <td>NaN</td>\n",
       "      <td>NaN</td>\n",
       "      <td>NaN</td>\n",
       "      <td>NaN</td>\n",
       "      <td>NaN</td>\n",
       "      <td>NaN</td>\n",
       "      <td>NaN</td>\n",
       "      <td>NaN</td>\n",
       "    </tr>\n",
       "    <tr>\n",
       "      <th>4</th>\n",
       "      <td>5</td>\n",
       "      <td>89.238236</td>\n",
       "      <td>9.11456</td>\n",
       "      <td>NaN</td>\n",
       "      <td>NaN</td>\n",
       "      <td>NaN</td>\n",
       "      <td>NaN</td>\n",
       "      <td>NaN</td>\n",
       "      <td>NaN</td>\n",
       "      <td>NaN</td>\n",
       "    </tr>\n",
       "  </tbody>\n",
       "</table>\n",
       "</div>"
      ],
      "text/plain": [
       "   key      wire1    wire2  wire3  wire4  wire5  wire6  wire7  wire8  wire9\n",
       "0    1  60.059998      NaN    NaN    NaN    NaN    NaN    NaN    NaN    NaN\n",
       "1    2  96.052315      NaN    NaN    NaN    NaN    NaN    NaN    NaN    NaN\n",
       "2    3  91.160157      NaN    NaN    NaN    NaN    NaN    NaN    NaN    NaN\n",
       "3    4  89.063515      NaN    NaN    NaN    NaN    NaN    NaN    NaN    NaN\n",
       "4    5  89.238236  9.11456    NaN    NaN    NaN    NaN    NaN    NaN    NaN"
      ]
     },
     "execution_count": 53,
     "metadata": {},
     "output_type": "execute_result"
    }
   ],
   "source": [
    "# creating a list with column names\n",
    "bulk_list = list(pd.Series(list(data_wire.columns)).str.lower())\n",
    "\n",
    "# creating an empty list\n",
    "bulks = []\n",
    "\n",
    "# filling a list with cleaned column names\n",
    "for i in range(0, 10):\n",
    "    bulk_name = re.sub(r'[^a-z0-9]', '', bulk_list[i])\n",
    "    bulks.append(bulk_name)\n",
    "\n",
    "# renaming columns\n",
    "data_wire.columns = bulks\n",
    "\n",
    "#viewing top rows\n",
    "data_wire.head()"
   ]
  },
  {
   "cell_type": "markdown",
   "id": "e3672a17",
   "metadata": {},
   "source": [
    "Посмотрим на количество партий."
   ]
  },
  {
   "cell_type": "code",
   "execution_count": 54,
   "id": "7d51b142",
   "metadata": {},
   "outputs": [
    {
     "data": {
      "text/plain": [
       "3081"
      ]
     },
     "execution_count": 54,
     "metadata": {},
     "output_type": "execute_result"
    }
   ],
   "source": [
    "# counting unique values\n",
    "len(data_wire['key'].unique())"
   ]
  },
  {
   "cell_type": "markdown",
   "id": "c3191289",
   "metadata": {},
   "source": [
    "Проверим распределение значений в таблице `data_wire`."
   ]
  },
  {
   "cell_type": "code",
   "execution_count": 55,
   "id": "48b87ce9",
   "metadata": {},
   "outputs": [
    {
     "data": {
      "text/html": [
       "<div>\n",
       "<style scoped>\n",
       "    .dataframe tbody tr th:only-of-type {\n",
       "        vertical-align: middle;\n",
       "    }\n",
       "\n",
       "    .dataframe tbody tr th {\n",
       "        vertical-align: top;\n",
       "    }\n",
       "\n",
       "    .dataframe thead th {\n",
       "        text-align: right;\n",
       "    }\n",
       "</style>\n",
       "<table border=\"1\" class=\"dataframe\">\n",
       "  <thead>\n",
       "    <tr style=\"text-align: right;\">\n",
       "      <th></th>\n",
       "      <th>key</th>\n",
       "      <th>wire1</th>\n",
       "      <th>wire2</th>\n",
       "      <th>wire3</th>\n",
       "      <th>wire4</th>\n",
       "      <th>wire5</th>\n",
       "      <th>wire6</th>\n",
       "      <th>wire7</th>\n",
       "      <th>wire8</th>\n",
       "      <th>wire9</th>\n",
       "    </tr>\n",
       "  </thead>\n",
       "  <tbody>\n",
       "    <tr>\n",
       "      <th>count</th>\n",
       "      <td>3081.000000</td>\n",
       "      <td>3055.000000</td>\n",
       "      <td>1079.000000</td>\n",
       "      <td>63.000000</td>\n",
       "      <td>14.000000</td>\n",
       "      <td>1.000</td>\n",
       "      <td>73.000000</td>\n",
       "      <td>11.000000</td>\n",
       "      <td>19.000000</td>\n",
       "      <td>29.000000</td>\n",
       "    </tr>\n",
       "    <tr>\n",
       "      <th>mean</th>\n",
       "      <td>1623.426485</td>\n",
       "      <td>100.895853</td>\n",
       "      <td>50.577323</td>\n",
       "      <td>189.482681</td>\n",
       "      <td>57.442841</td>\n",
       "      <td>15.132</td>\n",
       "      <td>48.016974</td>\n",
       "      <td>10.039007</td>\n",
       "      <td>53.625193</td>\n",
       "      <td>34.155752</td>\n",
       "    </tr>\n",
       "    <tr>\n",
       "      <th>std</th>\n",
       "      <td>932.996726</td>\n",
       "      <td>42.012518</td>\n",
       "      <td>39.320216</td>\n",
       "      <td>99.513444</td>\n",
       "      <td>28.824667</td>\n",
       "      <td>NaN</td>\n",
       "      <td>33.919845</td>\n",
       "      <td>8.610584</td>\n",
       "      <td>16.881728</td>\n",
       "      <td>19.931616</td>\n",
       "    </tr>\n",
       "    <tr>\n",
       "      <th>min</th>\n",
       "      <td>1.000000</td>\n",
       "      <td>1.918800</td>\n",
       "      <td>0.030160</td>\n",
       "      <td>0.144144</td>\n",
       "      <td>24.148801</td>\n",
       "      <td>15.132</td>\n",
       "      <td>0.034320</td>\n",
       "      <td>0.234208</td>\n",
       "      <td>45.076721</td>\n",
       "      <td>4.622800</td>\n",
       "    </tr>\n",
       "    <tr>\n",
       "      <th>25%</th>\n",
       "      <td>823.000000</td>\n",
       "      <td>72.115684</td>\n",
       "      <td>20.193680</td>\n",
       "      <td>95.135044</td>\n",
       "      <td>40.807002</td>\n",
       "      <td>15.132</td>\n",
       "      <td>25.053600</td>\n",
       "      <td>6.762756</td>\n",
       "      <td>46.094879</td>\n",
       "      <td>22.058401</td>\n",
       "    </tr>\n",
       "    <tr>\n",
       "      <th>50%</th>\n",
       "      <td>1619.000000</td>\n",
       "      <td>100.158234</td>\n",
       "      <td>40.142956</td>\n",
       "      <td>235.194977</td>\n",
       "      <td>45.234282</td>\n",
       "      <td>15.132</td>\n",
       "      <td>42.076324</td>\n",
       "      <td>9.017009</td>\n",
       "      <td>46.279999</td>\n",
       "      <td>30.066399</td>\n",
       "    </tr>\n",
       "    <tr>\n",
       "      <th>75%</th>\n",
       "      <td>2434.000000</td>\n",
       "      <td>126.060483</td>\n",
       "      <td>70.227558</td>\n",
       "      <td>276.252014</td>\n",
       "      <td>76.124619</td>\n",
       "      <td>15.132</td>\n",
       "      <td>64.212723</td>\n",
       "      <td>11.886057</td>\n",
       "      <td>48.089603</td>\n",
       "      <td>43.862003</td>\n",
       "    </tr>\n",
       "    <tr>\n",
       "      <th>max</th>\n",
       "      <td>3241.000000</td>\n",
       "      <td>330.314424</td>\n",
       "      <td>282.780152</td>\n",
       "      <td>385.008668</td>\n",
       "      <td>113.231044</td>\n",
       "      <td>15.132</td>\n",
       "      <td>180.454575</td>\n",
       "      <td>32.847674</td>\n",
       "      <td>102.762401</td>\n",
       "      <td>90.053604</td>\n",
       "    </tr>\n",
       "  </tbody>\n",
       "</table>\n",
       "</div>"
      ],
      "text/plain": [
       "               key        wire1        wire2       wire3       wire4   wire5  \\\n",
       "count  3081.000000  3055.000000  1079.000000   63.000000   14.000000   1.000   \n",
       "mean   1623.426485   100.895853    50.577323  189.482681   57.442841  15.132   \n",
       "std     932.996726    42.012518    39.320216   99.513444   28.824667     NaN   \n",
       "min       1.000000     1.918800     0.030160    0.144144   24.148801  15.132   \n",
       "25%     823.000000    72.115684    20.193680   95.135044   40.807002  15.132   \n",
       "50%    1619.000000   100.158234    40.142956  235.194977   45.234282  15.132   \n",
       "75%    2434.000000   126.060483    70.227558  276.252014   76.124619  15.132   \n",
       "max    3241.000000   330.314424   282.780152  385.008668  113.231044  15.132   \n",
       "\n",
       "            wire6      wire7       wire8      wire9  \n",
       "count   73.000000  11.000000   19.000000  29.000000  \n",
       "mean    48.016974  10.039007   53.625193  34.155752  \n",
       "std     33.919845   8.610584   16.881728  19.931616  \n",
       "min      0.034320   0.234208   45.076721   4.622800  \n",
       "25%     25.053600   6.762756   46.094879  22.058401  \n",
       "50%     42.076324   9.017009   46.279999  30.066399  \n",
       "75%     64.212723  11.886057   48.089603  43.862003  \n",
       "max    180.454575  32.847674  102.762401  90.053604  "
      ]
     },
     "execution_count": 55,
     "metadata": {},
     "output_type": "execute_result"
    }
   ],
   "source": [
    "# getting description\n",
    "data_wire.describe()"
   ]
  },
  {
   "cell_type": "markdown",
   "id": "3a65a198",
   "metadata": {},
   "source": [
    "Заменим пропуски в таблице нулями."
   ]
  },
  {
   "cell_type": "code",
   "execution_count": 56,
   "id": "b8f18c4a",
   "metadata": {},
   "outputs": [],
   "source": [
    "# filling Nan values\n",
    "data_wire = data_wire.fillna(0)"
   ]
  },
  {
   "cell_type": "markdown",
   "id": "0371250f",
   "metadata": {},
   "source": [
    "Проверим результат."
   ]
  },
  {
   "cell_type": "code",
   "execution_count": 57,
   "id": "8bdb085d",
   "metadata": {},
   "outputs": [
    {
     "data": {
      "text/html": [
       "<div>\n",
       "<style scoped>\n",
       "    .dataframe tbody tr th:only-of-type {\n",
       "        vertical-align: middle;\n",
       "    }\n",
       "\n",
       "    .dataframe tbody tr th {\n",
       "        vertical-align: top;\n",
       "    }\n",
       "\n",
       "    .dataframe thead th {\n",
       "        text-align: right;\n",
       "    }\n",
       "</style>\n",
       "<table border=\"1\" class=\"dataframe\">\n",
       "  <thead>\n",
       "    <tr style=\"text-align: right;\">\n",
       "      <th></th>\n",
       "      <th>key</th>\n",
       "      <th>wire1</th>\n",
       "      <th>wire2</th>\n",
       "      <th>wire3</th>\n",
       "      <th>wire4</th>\n",
       "      <th>wire5</th>\n",
       "      <th>wire6</th>\n",
       "      <th>wire7</th>\n",
       "      <th>wire8</th>\n",
       "      <th>wire9</th>\n",
       "    </tr>\n",
       "  </thead>\n",
       "  <tbody>\n",
       "    <tr>\n",
       "      <th>0</th>\n",
       "      <td>1</td>\n",
       "      <td>60.059998</td>\n",
       "      <td>0.00000</td>\n",
       "      <td>0.0</td>\n",
       "      <td>0.0</td>\n",
       "      <td>0.0</td>\n",
       "      <td>0.0</td>\n",
       "      <td>0.0</td>\n",
       "      <td>0.0</td>\n",
       "      <td>0.0</td>\n",
       "    </tr>\n",
       "    <tr>\n",
       "      <th>1</th>\n",
       "      <td>2</td>\n",
       "      <td>96.052315</td>\n",
       "      <td>0.00000</td>\n",
       "      <td>0.0</td>\n",
       "      <td>0.0</td>\n",
       "      <td>0.0</td>\n",
       "      <td>0.0</td>\n",
       "      <td>0.0</td>\n",
       "      <td>0.0</td>\n",
       "      <td>0.0</td>\n",
       "    </tr>\n",
       "    <tr>\n",
       "      <th>2</th>\n",
       "      <td>3</td>\n",
       "      <td>91.160157</td>\n",
       "      <td>0.00000</td>\n",
       "      <td>0.0</td>\n",
       "      <td>0.0</td>\n",
       "      <td>0.0</td>\n",
       "      <td>0.0</td>\n",
       "      <td>0.0</td>\n",
       "      <td>0.0</td>\n",
       "      <td>0.0</td>\n",
       "    </tr>\n",
       "    <tr>\n",
       "      <th>3</th>\n",
       "      <td>4</td>\n",
       "      <td>89.063515</td>\n",
       "      <td>0.00000</td>\n",
       "      <td>0.0</td>\n",
       "      <td>0.0</td>\n",
       "      <td>0.0</td>\n",
       "      <td>0.0</td>\n",
       "      <td>0.0</td>\n",
       "      <td>0.0</td>\n",
       "      <td>0.0</td>\n",
       "    </tr>\n",
       "    <tr>\n",
       "      <th>4</th>\n",
       "      <td>5</td>\n",
       "      <td>89.238236</td>\n",
       "      <td>9.11456</td>\n",
       "      <td>0.0</td>\n",
       "      <td>0.0</td>\n",
       "      <td>0.0</td>\n",
       "      <td>0.0</td>\n",
       "      <td>0.0</td>\n",
       "      <td>0.0</td>\n",
       "      <td>0.0</td>\n",
       "    </tr>\n",
       "  </tbody>\n",
       "</table>\n",
       "</div>"
      ],
      "text/plain": [
       "   key      wire1    wire2  wire3  wire4  wire5  wire6  wire7  wire8  wire9\n",
       "0    1  60.059998  0.00000    0.0    0.0    0.0    0.0    0.0    0.0    0.0\n",
       "1    2  96.052315  0.00000    0.0    0.0    0.0    0.0    0.0    0.0    0.0\n",
       "2    3  91.160157  0.00000    0.0    0.0    0.0    0.0    0.0    0.0    0.0\n",
       "3    4  89.063515  0.00000    0.0    0.0    0.0    0.0    0.0    0.0    0.0\n",
       "4    5  89.238236  9.11456    0.0    0.0    0.0    0.0    0.0    0.0    0.0"
      ]
     },
     "execution_count": 57,
     "metadata": {},
     "output_type": "execute_result"
    }
   ],
   "source": [
    "# viewing top rows\n",
    "data_wire.head()"
   ]
  },
  {
   "cell_type": "markdown",
   "id": "d0473ec3",
   "metadata": {},
   "source": [
    "**Вывод.**\n",
    "\n",
    "В рассмотренном датасете приведены сведения об использованных в процессе легирования сталей проволочных материалах. Данные приведены по партиям, а не по итерациям в партиях. Количество партий в датасете - 3081.\n",
    "\n",
    "Всего насчитывается 9 различных проволочных материалов.\n",
    "\n",
    "В датасете очень много пропусков, которые заменены нулями. Так как отсутствие данных, вероятнее всего, говорит о том, что конкретный материал не использовался в данной партии."
   ]
  },
  {
   "cell_type": "markdown",
   "id": "6afb0a62",
   "metadata": {},
   "source": [
    "### Данные о времени проволочных материалов, таблица data_wire_time"
   ]
  },
  {
   "cell_type": "code",
   "execution_count": 58,
   "id": "147ec093",
   "metadata": {},
   "outputs": [],
   "source": [
    "# loading data\n",
    "pth1 = r'D:\\Python\\Проекты\\Спринт18_финал\\final_steel\\data_wire_time.csv'\n",
    "data_wire_time = pd.read_csv(pth1)"
   ]
  },
  {
   "cell_type": "markdown",
   "id": "138cccd1",
   "metadata": {},
   "source": [
    "Изучим общую информацию по датасету."
   ]
  },
  {
   "cell_type": "code",
   "execution_count": 59,
   "id": "616b4078",
   "metadata": {},
   "outputs": [
    {
     "name": "stdout",
     "output_type": "stream",
     "text": [
      "<class 'pandas.core.frame.DataFrame'>\n",
      "RangeIndex: 3081 entries, 0 to 3080\n",
      "Data columns (total 10 columns):\n",
      " #   Column  Non-Null Count  Dtype \n",
      "---  ------  --------------  ----- \n",
      " 0   key     3081 non-null   int64 \n",
      " 1   Wire 1  3055 non-null   object\n",
      " 2   Wire 2  1079 non-null   object\n",
      " 3   Wire 3  63 non-null     object\n",
      " 4   Wire 4  14 non-null     object\n",
      " 5   Wire 5  1 non-null      object\n",
      " 6   Wire 6  73 non-null     object\n",
      " 7   Wire 7  11 non-null     object\n",
      " 8   Wire 8  19 non-null     object\n",
      " 9   Wire 9  29 non-null     object\n",
      "dtypes: int64(1), object(9)\n",
      "memory usage: 240.8+ KB\n"
     ]
    }
   ],
   "source": [
    "# getting common info\n",
    "data_wire_time.info()"
   ]
  },
  {
   "cell_type": "code",
   "execution_count": 60,
   "id": "ea57491e",
   "metadata": {},
   "outputs": [
    {
     "data": {
      "text/plain": [
       "3081"
      ]
     },
     "execution_count": 60,
     "metadata": {},
     "output_type": "execute_result"
    }
   ],
   "source": [
    "# counting unique values\n",
    "len(data_wire_time['key'].unique())"
   ]
  },
  {
   "cell_type": "markdown",
   "id": "fba595f5",
   "metadata": {},
   "source": [
    "Посмотрим на несколько строк таблицы."
   ]
  },
  {
   "cell_type": "code",
   "execution_count": 61,
   "id": "abc39851",
   "metadata": {},
   "outputs": [
    {
     "data": {
      "text/html": [
       "<div>\n",
       "<style scoped>\n",
       "    .dataframe tbody tr th:only-of-type {\n",
       "        vertical-align: middle;\n",
       "    }\n",
       "\n",
       "    .dataframe tbody tr th {\n",
       "        vertical-align: top;\n",
       "    }\n",
       "\n",
       "    .dataframe thead th {\n",
       "        text-align: right;\n",
       "    }\n",
       "</style>\n",
       "<table border=\"1\" class=\"dataframe\">\n",
       "  <thead>\n",
       "    <tr style=\"text-align: right;\">\n",
       "      <th></th>\n",
       "      <th>key</th>\n",
       "      <th>Wire 1</th>\n",
       "      <th>Wire 2</th>\n",
       "      <th>Wire 3</th>\n",
       "      <th>Wire 4</th>\n",
       "      <th>Wire 5</th>\n",
       "      <th>Wire 6</th>\n",
       "      <th>Wire 7</th>\n",
       "      <th>Wire 8</th>\n",
       "      <th>Wire 9</th>\n",
       "    </tr>\n",
       "  </thead>\n",
       "  <tbody>\n",
       "    <tr>\n",
       "      <th>0</th>\n",
       "      <td>1</td>\n",
       "      <td>2019-05-03 11:11:41</td>\n",
       "      <td>NaN</td>\n",
       "      <td>NaN</td>\n",
       "      <td>NaN</td>\n",
       "      <td>NaN</td>\n",
       "      <td>NaN</td>\n",
       "      <td>NaN</td>\n",
       "      <td>NaN</td>\n",
       "      <td>NaN</td>\n",
       "    </tr>\n",
       "    <tr>\n",
       "      <th>1</th>\n",
       "      <td>2</td>\n",
       "      <td>2019-05-03 11:46:10</td>\n",
       "      <td>NaN</td>\n",
       "      <td>NaN</td>\n",
       "      <td>NaN</td>\n",
       "      <td>NaN</td>\n",
       "      <td>NaN</td>\n",
       "      <td>NaN</td>\n",
       "      <td>NaN</td>\n",
       "      <td>NaN</td>\n",
       "    </tr>\n",
       "    <tr>\n",
       "      <th>2</th>\n",
       "      <td>3</td>\n",
       "      <td>2019-05-03 12:13:47</td>\n",
       "      <td>NaN</td>\n",
       "      <td>NaN</td>\n",
       "      <td>NaN</td>\n",
       "      <td>NaN</td>\n",
       "      <td>NaN</td>\n",
       "      <td>NaN</td>\n",
       "      <td>NaN</td>\n",
       "      <td>NaN</td>\n",
       "    </tr>\n",
       "    <tr>\n",
       "      <th>3</th>\n",
       "      <td>4</td>\n",
       "      <td>2019-05-03 12:48:05</td>\n",
       "      <td>NaN</td>\n",
       "      <td>NaN</td>\n",
       "      <td>NaN</td>\n",
       "      <td>NaN</td>\n",
       "      <td>NaN</td>\n",
       "      <td>NaN</td>\n",
       "      <td>NaN</td>\n",
       "      <td>NaN</td>\n",
       "    </tr>\n",
       "    <tr>\n",
       "      <th>4</th>\n",
       "      <td>5</td>\n",
       "      <td>2019-05-03 13:18:15</td>\n",
       "      <td>2019-05-03 13:32:06</td>\n",
       "      <td>NaN</td>\n",
       "      <td>NaN</td>\n",
       "      <td>NaN</td>\n",
       "      <td>NaN</td>\n",
       "      <td>NaN</td>\n",
       "      <td>NaN</td>\n",
       "      <td>NaN</td>\n",
       "    </tr>\n",
       "  </tbody>\n",
       "</table>\n",
       "</div>"
      ],
      "text/plain": [
       "   key               Wire 1               Wire 2 Wire 3 Wire 4 Wire 5 Wire 6  \\\n",
       "0    1  2019-05-03 11:11:41                  NaN    NaN    NaN    NaN    NaN   \n",
       "1    2  2019-05-03 11:46:10                  NaN    NaN    NaN    NaN    NaN   \n",
       "2    3  2019-05-03 12:13:47                  NaN    NaN    NaN    NaN    NaN   \n",
       "3    4  2019-05-03 12:48:05                  NaN    NaN    NaN    NaN    NaN   \n",
       "4    5  2019-05-03 13:18:15  2019-05-03 13:32:06    NaN    NaN    NaN    NaN   \n",
       "\n",
       "  Wire 7 Wire 8 Wire 9  \n",
       "0    NaN    NaN    NaN  \n",
       "1    NaN    NaN    NaN  \n",
       "2    NaN    NaN    NaN  \n",
       "3    NaN    NaN    NaN  \n",
       "4    NaN    NaN    NaN  "
      ]
     },
     "execution_count": 61,
     "metadata": {},
     "output_type": "execute_result"
    }
   ],
   "source": [
    "# viewing top rows\n",
    "data_wire_time.head()"
   ]
  },
  {
   "cell_type": "markdown",
   "id": "c53844db",
   "metadata": {},
   "source": [
    "**Вывод.**\n",
    "\n",
    "Данные о времени подачи материалов не будут использованы в работе, так как в работе не рассматриваются итерации партий обработки."
   ]
  },
  {
   "cell_type": "markdown",
   "id": "9ac65eb6",
   "metadata": {},
   "source": [
    "### Вывод"
   ]
  },
  {
   "cell_type": "markdown",
   "id": "3d0fe61b",
   "metadata": {},
   "source": [
    "Выполнен исследовательский анализ исходных данных.\n",
    "\n",
    "Исходные данные представлены семью датасетами, в которых приведены сведения о количестве потребляемой электроэнергии, объёме легирующих материалов, расходе инертных газов, температурах процессов обработки стали.\n",
    "\n",
    "В ходе анализа данных были созданы новые параметры:\n",
    "\n",
    "* полная потребляемая электрическая мощность;\n",
    "* продолжительность процесса обработки стали;\n",
    "* начальная и конечная температуры процесса обработки.\n",
    "\n",
    "Те партии обработки стали, для которых отсутствуют значения начальной и конечной температуры обработки, были удалены из датасета.\n",
    "\n",
    "Пропуски в таблицах с расходом легирующих материалов были заменены нулями. Так как отсутствие данных, вероятнее всего, говорит о том, что конкретный материал не использовался в партии.\n",
    "\n",
    "Таблицы с временем подачи легирующих материалов не будут использованы в работе, так как в работе не рассматриваются итерации партий обработки.\n",
    "\n",
    "Для обучения моделей в качестве признаков будут использованы следующие параметры процесса обработки:\n",
    "\n",
    "* полная потребляемая электрическая мощность;\n",
    "* продолжительность процесса обработки стали;\n",
    "* начальная и конечная температуры процесса обработки;\n",
    "* расходы легирующих материалов;\n",
    "* расход инертного газа.\n",
    "\n",
    "Переходим к следующему этапу."
   ]
  },
  {
   "cell_type": "markdown",
   "id": "1b9c78db",
   "metadata": {},
   "source": [
    "## Предобработка данных"
   ]
  },
  {
   "cell_type": "markdown",
   "id": "e98efa0e",
   "metadata": {},
   "source": [
    "### Объединение таблиц"
   ]
  },
  {
   "cell_type": "markdown",
   "id": "3aff3047",
   "metadata": {},
   "source": [
    "Объединение таблиц будем выполнять с помощью метода *merge()* библиотеки *pandas*. Ключом объединения будет номер партии.\n",
    "\n",
    "Учитывая то, что при обучении моделей должны использоваться только те партии, для которых имеются данные во всех исходных датафреймах, в методе *merge()* будем использовать тип объединения по умолчанию *inner*.\n",
    "\n",
    "Сохраним объединённую таблицу в переменную `df`."
   ]
  },
  {
   "cell_type": "code",
   "execution_count": 62,
   "id": "7cd9634b",
   "metadata": {},
   "outputs": [
    {
     "name": "stdout",
     "output_type": "stream",
     "text": [
      "2475\n"
     ]
    },
    {
     "data": {
      "text/html": [
       "<div>\n",
       "<style scoped>\n",
       "    .dataframe tbody tr th:only-of-type {\n",
       "        vertical-align: middle;\n",
       "    }\n",
       "\n",
       "    .dataframe tbody tr th {\n",
       "        vertical-align: top;\n",
       "    }\n",
       "\n",
       "    .dataframe thead th {\n",
       "        text-align: right;\n",
       "    }\n",
       "</style>\n",
       "<table border=\"1\" class=\"dataframe\">\n",
       "  <thead>\n",
       "    <tr style=\"text-align: right;\">\n",
       "      <th></th>\n",
       "      <th>key</th>\n",
       "      <th>iter</th>\n",
       "      <th>power</th>\n",
       "      <th>seconds</th>\n",
       "      <th>start</th>\n",
       "      <th>end</th>\n",
       "    </tr>\n",
       "  </thead>\n",
       "  <tbody>\n",
       "    <tr>\n",
       "      <th>0</th>\n",
       "      <td>1</td>\n",
       "      <td>5</td>\n",
       "      <td>5.826395</td>\n",
       "      <td>1098</td>\n",
       "      <td>1571.0</td>\n",
       "      <td>1613.0</td>\n",
       "    </tr>\n",
       "    <tr>\n",
       "      <th>1</th>\n",
       "      <td>2</td>\n",
       "      <td>4</td>\n",
       "      <td>3.649216</td>\n",
       "      <td>811</td>\n",
       "      <td>1581.0</td>\n",
       "      <td>1602.0</td>\n",
       "    </tr>\n",
       "    <tr>\n",
       "      <th>2</th>\n",
       "      <td>3</td>\n",
       "      <td>5</td>\n",
       "      <td>2.989534</td>\n",
       "      <td>655</td>\n",
       "      <td>1596.0</td>\n",
       "      <td>1599.0</td>\n",
       "    </tr>\n",
       "    <tr>\n",
       "      <th>3</th>\n",
       "      <td>4</td>\n",
       "      <td>4</td>\n",
       "      <td>3.814962</td>\n",
       "      <td>741</td>\n",
       "      <td>1601.0</td>\n",
       "      <td>1625.0</td>\n",
       "    </tr>\n",
       "    <tr>\n",
       "      <th>4</th>\n",
       "      <td>5</td>\n",
       "      <td>4</td>\n",
       "      <td>4.035758</td>\n",
       "      <td>869</td>\n",
       "      <td>1576.0</td>\n",
       "      <td>1602.0</td>\n",
       "    </tr>\n",
       "  </tbody>\n",
       "</table>\n",
       "</div>"
      ],
      "text/plain": [
       "   key  iter     power  seconds   start     end\n",
       "0    1     5  5.826395     1098  1571.0  1613.0\n",
       "1    2     4  3.649216      811  1581.0  1602.0\n",
       "2    3     5  2.989534      655  1596.0  1599.0\n",
       "3    4     4  3.814962      741  1601.0  1625.0\n",
       "4    5     4  4.035758      869  1576.0  1602.0"
      ]
     },
     "metadata": {},
     "output_type": "display_data"
    }
   ],
   "source": [
    "# joining tables\n",
    "df = arc_key.merge(key_temp[['start', 'end', 'key']], on='key')\n",
    "\n",
    "# printing rows number\n",
    "print(len(df))\n",
    "\n",
    "# viewing top rows\n",
    "display(df.head())"
   ]
  },
  {
   "cell_type": "code",
   "execution_count": 63,
   "id": "818fc63e",
   "metadata": {},
   "outputs": [
    {
     "name": "stdout",
     "output_type": "stream",
     "text": [
      "2473\n"
     ]
    },
    {
     "data": {
      "text/html": [
       "<div>\n",
       "<style scoped>\n",
       "    .dataframe tbody tr th:only-of-type {\n",
       "        vertical-align: middle;\n",
       "    }\n",
       "\n",
       "    .dataframe tbody tr th {\n",
       "        vertical-align: top;\n",
       "    }\n",
       "\n",
       "    .dataframe thead th {\n",
       "        text-align: right;\n",
       "    }\n",
       "</style>\n",
       "<table border=\"1\" class=\"dataframe\">\n",
       "  <thead>\n",
       "    <tr style=\"text-align: right;\">\n",
       "      <th></th>\n",
       "      <th>key</th>\n",
       "      <th>iter</th>\n",
       "      <th>power</th>\n",
       "      <th>seconds</th>\n",
       "      <th>start</th>\n",
       "      <th>end</th>\n",
       "      <th>gas</th>\n",
       "    </tr>\n",
       "  </thead>\n",
       "  <tbody>\n",
       "    <tr>\n",
       "      <th>0</th>\n",
       "      <td>1</td>\n",
       "      <td>5</td>\n",
       "      <td>5.826395</td>\n",
       "      <td>1098</td>\n",
       "      <td>1571.0</td>\n",
       "      <td>1613.0</td>\n",
       "      <td>29.749986</td>\n",
       "    </tr>\n",
       "    <tr>\n",
       "      <th>1</th>\n",
       "      <td>2</td>\n",
       "      <td>4</td>\n",
       "      <td>3.649216</td>\n",
       "      <td>811</td>\n",
       "      <td>1581.0</td>\n",
       "      <td>1602.0</td>\n",
       "      <td>12.555561</td>\n",
       "    </tr>\n",
       "    <tr>\n",
       "      <th>2</th>\n",
       "      <td>3</td>\n",
       "      <td>5</td>\n",
       "      <td>2.989534</td>\n",
       "      <td>655</td>\n",
       "      <td>1596.0</td>\n",
       "      <td>1599.0</td>\n",
       "      <td>28.554793</td>\n",
       "    </tr>\n",
       "    <tr>\n",
       "      <th>3</th>\n",
       "      <td>4</td>\n",
       "      <td>4</td>\n",
       "      <td>3.814962</td>\n",
       "      <td>741</td>\n",
       "      <td>1601.0</td>\n",
       "      <td>1625.0</td>\n",
       "      <td>18.841219</td>\n",
       "    </tr>\n",
       "    <tr>\n",
       "      <th>4</th>\n",
       "      <td>5</td>\n",
       "      <td>4</td>\n",
       "      <td>4.035758</td>\n",
       "      <td>869</td>\n",
       "      <td>1576.0</td>\n",
       "      <td>1602.0</td>\n",
       "      <td>5.413692</td>\n",
       "    </tr>\n",
       "  </tbody>\n",
       "</table>\n",
       "</div>"
      ],
      "text/plain": [
       "   key  iter     power  seconds   start     end        gas\n",
       "0    1     5  5.826395     1098  1571.0  1613.0  29.749986\n",
       "1    2     4  3.649216      811  1581.0  1602.0  12.555561\n",
       "2    3     5  2.989534      655  1596.0  1599.0  28.554793\n",
       "3    4     4  3.814962      741  1601.0  1625.0  18.841219\n",
       "4    5     4  4.035758      869  1576.0  1602.0   5.413692"
      ]
     },
     "metadata": {},
     "output_type": "display_data"
    }
   ],
   "source": [
    "# joining tables\n",
    "df = df.merge(data_gas, on='key')\n",
    "\n",
    "# printing rows number\n",
    "print(len(df))\n",
    "\n",
    "# viewing top rows\n",
    "display(df.head())"
   ]
  },
  {
   "cell_type": "code",
   "execution_count": 64,
   "id": "595653b7",
   "metadata": {},
   "outputs": [
    {
     "name": "stdout",
     "output_type": "stream",
     "text": [
      "2405\n"
     ]
    },
    {
     "data": {
      "text/html": [
       "<div>\n",
       "<style scoped>\n",
       "    .dataframe tbody tr th:only-of-type {\n",
       "        vertical-align: middle;\n",
       "    }\n",
       "\n",
       "    .dataframe tbody tr th {\n",
       "        vertical-align: top;\n",
       "    }\n",
       "\n",
       "    .dataframe thead th {\n",
       "        text-align: right;\n",
       "    }\n",
       "</style>\n",
       "<table border=\"1\" class=\"dataframe\">\n",
       "  <thead>\n",
       "    <tr style=\"text-align: right;\">\n",
       "      <th></th>\n",
       "      <th>key</th>\n",
       "      <th>iter</th>\n",
       "      <th>power</th>\n",
       "      <th>seconds</th>\n",
       "      <th>start</th>\n",
       "      <th>end</th>\n",
       "      <th>gas</th>\n",
       "      <th>bulk1</th>\n",
       "      <th>bulk2</th>\n",
       "      <th>bulk3</th>\n",
       "      <th>...</th>\n",
       "      <th>bulk6</th>\n",
       "      <th>bulk7</th>\n",
       "      <th>bulk8</th>\n",
       "      <th>bulk9</th>\n",
       "      <th>bulk10</th>\n",
       "      <th>bulk11</th>\n",
       "      <th>bulk12</th>\n",
       "      <th>bulk13</th>\n",
       "      <th>bulk14</th>\n",
       "      <th>bulk15</th>\n",
       "    </tr>\n",
       "  </thead>\n",
       "  <tbody>\n",
       "    <tr>\n",
       "      <th>0</th>\n",
       "      <td>1</td>\n",
       "      <td>5</td>\n",
       "      <td>5.826395</td>\n",
       "      <td>1098</td>\n",
       "      <td>1571.0</td>\n",
       "      <td>1613.0</td>\n",
       "      <td>29.749986</td>\n",
       "      <td>0.0</td>\n",
       "      <td>0.0</td>\n",
       "      <td>0.0</td>\n",
       "      <td>...</td>\n",
       "      <td>0.0</td>\n",
       "      <td>0.0</td>\n",
       "      <td>0.0</td>\n",
       "      <td>0.0</td>\n",
       "      <td>0.0</td>\n",
       "      <td>0.0</td>\n",
       "      <td>206.0</td>\n",
       "      <td>0.0</td>\n",
       "      <td>150.0</td>\n",
       "      <td>154.0</td>\n",
       "    </tr>\n",
       "    <tr>\n",
       "      <th>1</th>\n",
       "      <td>2</td>\n",
       "      <td>4</td>\n",
       "      <td>3.649216</td>\n",
       "      <td>811</td>\n",
       "      <td>1581.0</td>\n",
       "      <td>1602.0</td>\n",
       "      <td>12.555561</td>\n",
       "      <td>0.0</td>\n",
       "      <td>0.0</td>\n",
       "      <td>0.0</td>\n",
       "      <td>...</td>\n",
       "      <td>0.0</td>\n",
       "      <td>0.0</td>\n",
       "      <td>0.0</td>\n",
       "      <td>0.0</td>\n",
       "      <td>0.0</td>\n",
       "      <td>0.0</td>\n",
       "      <td>206.0</td>\n",
       "      <td>0.0</td>\n",
       "      <td>149.0</td>\n",
       "      <td>154.0</td>\n",
       "    </tr>\n",
       "    <tr>\n",
       "      <th>2</th>\n",
       "      <td>3</td>\n",
       "      <td>5</td>\n",
       "      <td>2.989534</td>\n",
       "      <td>655</td>\n",
       "      <td>1596.0</td>\n",
       "      <td>1599.0</td>\n",
       "      <td>28.554793</td>\n",
       "      <td>0.0</td>\n",
       "      <td>0.0</td>\n",
       "      <td>0.0</td>\n",
       "      <td>...</td>\n",
       "      <td>0.0</td>\n",
       "      <td>0.0</td>\n",
       "      <td>0.0</td>\n",
       "      <td>0.0</td>\n",
       "      <td>0.0</td>\n",
       "      <td>0.0</td>\n",
       "      <td>205.0</td>\n",
       "      <td>0.0</td>\n",
       "      <td>152.0</td>\n",
       "      <td>153.0</td>\n",
       "    </tr>\n",
       "    <tr>\n",
       "      <th>3</th>\n",
       "      <td>4</td>\n",
       "      <td>4</td>\n",
       "      <td>3.814962</td>\n",
       "      <td>741</td>\n",
       "      <td>1601.0</td>\n",
       "      <td>1625.0</td>\n",
       "      <td>18.841219</td>\n",
       "      <td>0.0</td>\n",
       "      <td>0.0</td>\n",
       "      <td>0.0</td>\n",
       "      <td>...</td>\n",
       "      <td>0.0</td>\n",
       "      <td>0.0</td>\n",
       "      <td>0.0</td>\n",
       "      <td>0.0</td>\n",
       "      <td>0.0</td>\n",
       "      <td>0.0</td>\n",
       "      <td>207.0</td>\n",
       "      <td>0.0</td>\n",
       "      <td>153.0</td>\n",
       "      <td>154.0</td>\n",
       "    </tr>\n",
       "    <tr>\n",
       "      <th>4</th>\n",
       "      <td>5</td>\n",
       "      <td>4</td>\n",
       "      <td>4.035758</td>\n",
       "      <td>869</td>\n",
       "      <td>1576.0</td>\n",
       "      <td>1602.0</td>\n",
       "      <td>5.413692</td>\n",
       "      <td>0.0</td>\n",
       "      <td>0.0</td>\n",
       "      <td>0.0</td>\n",
       "      <td>...</td>\n",
       "      <td>0.0</td>\n",
       "      <td>0.0</td>\n",
       "      <td>0.0</td>\n",
       "      <td>0.0</td>\n",
       "      <td>0.0</td>\n",
       "      <td>0.0</td>\n",
       "      <td>203.0</td>\n",
       "      <td>0.0</td>\n",
       "      <td>151.0</td>\n",
       "      <td>152.0</td>\n",
       "    </tr>\n",
       "  </tbody>\n",
       "</table>\n",
       "<p>5 rows × 22 columns</p>\n",
       "</div>"
      ],
      "text/plain": [
       "   key  iter     power  seconds   start     end        gas  bulk1  bulk2  \\\n",
       "0    1     5  5.826395     1098  1571.0  1613.0  29.749986    0.0    0.0   \n",
       "1    2     4  3.649216      811  1581.0  1602.0  12.555561    0.0    0.0   \n",
       "2    3     5  2.989534      655  1596.0  1599.0  28.554793    0.0    0.0   \n",
       "3    4     4  3.814962      741  1601.0  1625.0  18.841219    0.0    0.0   \n",
       "4    5     4  4.035758      869  1576.0  1602.0   5.413692    0.0    0.0   \n",
       "\n",
       "   bulk3  ...  bulk6  bulk7  bulk8  bulk9  bulk10  bulk11  bulk12  bulk13  \\\n",
       "0    0.0  ...    0.0    0.0    0.0    0.0     0.0     0.0   206.0     0.0   \n",
       "1    0.0  ...    0.0    0.0    0.0    0.0     0.0     0.0   206.0     0.0   \n",
       "2    0.0  ...    0.0    0.0    0.0    0.0     0.0     0.0   205.0     0.0   \n",
       "3    0.0  ...    0.0    0.0    0.0    0.0     0.0     0.0   207.0     0.0   \n",
       "4    0.0  ...    0.0    0.0    0.0    0.0     0.0     0.0   203.0     0.0   \n",
       "\n",
       "   bulk14  bulk15  \n",
       "0   150.0   154.0  \n",
       "1   149.0   154.0  \n",
       "2   152.0   153.0  \n",
       "3   153.0   154.0  \n",
       "4   151.0   152.0  \n",
       "\n",
       "[5 rows x 22 columns]"
      ]
     },
     "metadata": {},
     "output_type": "display_data"
    }
   ],
   "source": [
    "# joining tables\n",
    "df = df.merge(df_bulk, on='key')\n",
    "\n",
    "# printing rows number\n",
    "print(len(df))\n",
    "\n",
    "# viewing top rows\n",
    "display(df.head())"
   ]
  },
  {
   "cell_type": "code",
   "execution_count": 65,
   "id": "ad6408c6",
   "metadata": {},
   "outputs": [
    {
     "name": "stdout",
     "output_type": "stream",
     "text": [
      "2329\n"
     ]
    },
    {
     "data": {
      "text/html": [
       "<div>\n",
       "<style scoped>\n",
       "    .dataframe tbody tr th:only-of-type {\n",
       "        vertical-align: middle;\n",
       "    }\n",
       "\n",
       "    .dataframe tbody tr th {\n",
       "        vertical-align: top;\n",
       "    }\n",
       "\n",
       "    .dataframe thead th {\n",
       "        text-align: right;\n",
       "    }\n",
       "</style>\n",
       "<table border=\"1\" class=\"dataframe\">\n",
       "  <thead>\n",
       "    <tr style=\"text-align: right;\">\n",
       "      <th></th>\n",
       "      <th>key</th>\n",
       "      <th>iter</th>\n",
       "      <th>power</th>\n",
       "      <th>seconds</th>\n",
       "      <th>start</th>\n",
       "      <th>end</th>\n",
       "      <th>gas</th>\n",
       "      <th>bulk1</th>\n",
       "      <th>bulk2</th>\n",
       "      <th>bulk3</th>\n",
       "      <th>...</th>\n",
       "      <th>bulk15</th>\n",
       "      <th>wire1</th>\n",
       "      <th>wire2</th>\n",
       "      <th>wire3</th>\n",
       "      <th>wire4</th>\n",
       "      <th>wire5</th>\n",
       "      <th>wire6</th>\n",
       "      <th>wire7</th>\n",
       "      <th>wire8</th>\n",
       "      <th>wire9</th>\n",
       "    </tr>\n",
       "  </thead>\n",
       "  <tbody>\n",
       "    <tr>\n",
       "      <th>0</th>\n",
       "      <td>1</td>\n",
       "      <td>5</td>\n",
       "      <td>5.826395</td>\n",
       "      <td>1098</td>\n",
       "      <td>1571.0</td>\n",
       "      <td>1613.0</td>\n",
       "      <td>29.749986</td>\n",
       "      <td>0.0</td>\n",
       "      <td>0.0</td>\n",
       "      <td>0.0</td>\n",
       "      <td>...</td>\n",
       "      <td>154.0</td>\n",
       "      <td>60.059998</td>\n",
       "      <td>0.00000</td>\n",
       "      <td>0.0</td>\n",
       "      <td>0.0</td>\n",
       "      <td>0.0</td>\n",
       "      <td>0.0</td>\n",
       "      <td>0.0</td>\n",
       "      <td>0.0</td>\n",
       "      <td>0.0</td>\n",
       "    </tr>\n",
       "    <tr>\n",
       "      <th>1</th>\n",
       "      <td>2</td>\n",
       "      <td>4</td>\n",
       "      <td>3.649216</td>\n",
       "      <td>811</td>\n",
       "      <td>1581.0</td>\n",
       "      <td>1602.0</td>\n",
       "      <td>12.555561</td>\n",
       "      <td>0.0</td>\n",
       "      <td>0.0</td>\n",
       "      <td>0.0</td>\n",
       "      <td>...</td>\n",
       "      <td>154.0</td>\n",
       "      <td>96.052315</td>\n",
       "      <td>0.00000</td>\n",
       "      <td>0.0</td>\n",
       "      <td>0.0</td>\n",
       "      <td>0.0</td>\n",
       "      <td>0.0</td>\n",
       "      <td>0.0</td>\n",
       "      <td>0.0</td>\n",
       "      <td>0.0</td>\n",
       "    </tr>\n",
       "    <tr>\n",
       "      <th>2</th>\n",
       "      <td>3</td>\n",
       "      <td>5</td>\n",
       "      <td>2.989534</td>\n",
       "      <td>655</td>\n",
       "      <td>1596.0</td>\n",
       "      <td>1599.0</td>\n",
       "      <td>28.554793</td>\n",
       "      <td>0.0</td>\n",
       "      <td>0.0</td>\n",
       "      <td>0.0</td>\n",
       "      <td>...</td>\n",
       "      <td>153.0</td>\n",
       "      <td>91.160157</td>\n",
       "      <td>0.00000</td>\n",
       "      <td>0.0</td>\n",
       "      <td>0.0</td>\n",
       "      <td>0.0</td>\n",
       "      <td>0.0</td>\n",
       "      <td>0.0</td>\n",
       "      <td>0.0</td>\n",
       "      <td>0.0</td>\n",
       "    </tr>\n",
       "    <tr>\n",
       "      <th>3</th>\n",
       "      <td>4</td>\n",
       "      <td>4</td>\n",
       "      <td>3.814962</td>\n",
       "      <td>741</td>\n",
       "      <td>1601.0</td>\n",
       "      <td>1625.0</td>\n",
       "      <td>18.841219</td>\n",
       "      <td>0.0</td>\n",
       "      <td>0.0</td>\n",
       "      <td>0.0</td>\n",
       "      <td>...</td>\n",
       "      <td>154.0</td>\n",
       "      <td>89.063515</td>\n",
       "      <td>0.00000</td>\n",
       "      <td>0.0</td>\n",
       "      <td>0.0</td>\n",
       "      <td>0.0</td>\n",
       "      <td>0.0</td>\n",
       "      <td>0.0</td>\n",
       "      <td>0.0</td>\n",
       "      <td>0.0</td>\n",
       "    </tr>\n",
       "    <tr>\n",
       "      <th>4</th>\n",
       "      <td>5</td>\n",
       "      <td>4</td>\n",
       "      <td>4.035758</td>\n",
       "      <td>869</td>\n",
       "      <td>1576.0</td>\n",
       "      <td>1602.0</td>\n",
       "      <td>5.413692</td>\n",
       "      <td>0.0</td>\n",
       "      <td>0.0</td>\n",
       "      <td>0.0</td>\n",
       "      <td>...</td>\n",
       "      <td>152.0</td>\n",
       "      <td>89.238236</td>\n",
       "      <td>9.11456</td>\n",
       "      <td>0.0</td>\n",
       "      <td>0.0</td>\n",
       "      <td>0.0</td>\n",
       "      <td>0.0</td>\n",
       "      <td>0.0</td>\n",
       "      <td>0.0</td>\n",
       "      <td>0.0</td>\n",
       "    </tr>\n",
       "  </tbody>\n",
       "</table>\n",
       "<p>5 rows × 31 columns</p>\n",
       "</div>"
      ],
      "text/plain": [
       "   key  iter     power  seconds   start     end        gas  bulk1  bulk2  \\\n",
       "0    1     5  5.826395     1098  1571.0  1613.0  29.749986    0.0    0.0   \n",
       "1    2     4  3.649216      811  1581.0  1602.0  12.555561    0.0    0.0   \n",
       "2    3     5  2.989534      655  1596.0  1599.0  28.554793    0.0    0.0   \n",
       "3    4     4  3.814962      741  1601.0  1625.0  18.841219    0.0    0.0   \n",
       "4    5     4  4.035758      869  1576.0  1602.0   5.413692    0.0    0.0   \n",
       "\n",
       "   bulk3  ...  bulk15      wire1    wire2  wire3  wire4  wire5  wire6  wire7  \\\n",
       "0    0.0  ...   154.0  60.059998  0.00000    0.0    0.0    0.0    0.0    0.0   \n",
       "1    0.0  ...   154.0  96.052315  0.00000    0.0    0.0    0.0    0.0    0.0   \n",
       "2    0.0  ...   153.0  91.160157  0.00000    0.0    0.0    0.0    0.0    0.0   \n",
       "3    0.0  ...   154.0  89.063515  0.00000    0.0    0.0    0.0    0.0    0.0   \n",
       "4    0.0  ...   152.0  89.238236  9.11456    0.0    0.0    0.0    0.0    0.0   \n",
       "\n",
       "   wire8  wire9  \n",
       "0    0.0    0.0  \n",
       "1    0.0    0.0  \n",
       "2    0.0    0.0  \n",
       "3    0.0    0.0  \n",
       "4    0.0    0.0  \n",
       "\n",
       "[5 rows x 31 columns]"
      ]
     },
     "metadata": {},
     "output_type": "display_data"
    }
   ],
   "source": [
    "# joining tables\n",
    "df = df.merge(data_wire, on='key')\n",
    "\n",
    "# printing rows number\n",
    "print(len(df))\n",
    "\n",
    "# viewing top rows\n",
    "display(df.head())"
   ]
  },
  {
   "cell_type": "code",
   "execution_count": 66,
   "id": "0a637378",
   "metadata": {},
   "outputs": [
    {
     "name": "stdout",
     "output_type": "stream",
     "text": [
      "<class 'pandas.core.frame.DataFrame'>\n",
      "Int64Index: 2329 entries, 0 to 2328\n",
      "Data columns (total 31 columns):\n",
      " #   Column   Non-Null Count  Dtype  \n",
      "---  ------   --------------  -----  \n",
      " 0   key      2329 non-null   int64  \n",
      " 1   iter     2329 non-null   int64  \n",
      " 2   power    2329 non-null   float64\n",
      " 3   seconds  2329 non-null   int64  \n",
      " 4   start    2329 non-null   float64\n",
      " 5   end      2329 non-null   float64\n",
      " 6   gas      2329 non-null   float64\n",
      " 7   bulk1    2329 non-null   float64\n",
      " 8   bulk2    2329 non-null   float64\n",
      " 9   bulk3    2329 non-null   float64\n",
      " 10  bulk4    2329 non-null   float64\n",
      " 11  bulk5    2329 non-null   float64\n",
      " 12  bulk6    2329 non-null   float64\n",
      " 13  bulk7    2329 non-null   float64\n",
      " 14  bulk8    2329 non-null   float64\n",
      " 15  bulk9    2329 non-null   float64\n",
      " 16  bulk10   2329 non-null   float64\n",
      " 17  bulk11   2329 non-null   float64\n",
      " 18  bulk12   2329 non-null   float64\n",
      " 19  bulk13   2329 non-null   float64\n",
      " 20  bulk14   2329 non-null   float64\n",
      " 21  bulk15   2329 non-null   float64\n",
      " 22  wire1    2329 non-null   float64\n",
      " 23  wire2    2329 non-null   float64\n",
      " 24  wire3    2329 non-null   float64\n",
      " 25  wire4    2329 non-null   float64\n",
      " 26  wire5    2329 non-null   float64\n",
      " 27  wire6    2329 non-null   float64\n",
      " 28  wire7    2329 non-null   float64\n",
      " 29  wire8    2329 non-null   float64\n",
      " 30  wire9    2329 non-null   float64\n",
      "dtypes: float64(28), int64(3)\n",
      "memory usage: 582.2 KB\n"
     ]
    }
   ],
   "source": [
    "# getting common info\n",
    "df.info()"
   ]
  },
  {
   "cell_type": "markdown",
   "id": "a8a10cdd",
   "metadata": {},
   "source": [
    "### Анализ корелляции признаков"
   ]
  },
  {
   "cell_type": "markdown",
   "id": "a7fae89f",
   "metadata": {},
   "source": [
    "Для устранения мультиколлениарности признаков выполним анализ корелляции. Построим тепловую карту коэффициентов корелляции."
   ]
  },
  {
   "cell_type": "code",
   "execution_count": 67,
   "id": "94b3011e",
   "metadata": {},
   "outputs": [
    {
     "data": {
      "image/png": "[encoded data removed]",
      "text/plain": [
       "<Figure size 432x288 with 2 Axes>"
      ]
     },
     "metadata": {
      "needs_background": "light"
     },
     "output_type": "display_data"
    }
   ],
   "source": [
    "# building a heatmap\n",
    "seaborn.heatmap(df.corr());\n",
    "\n",
    "# setting picture size\n",
    "seaborn.set(rc = {'figure.figsize':(15, 15)})"
   ]
  },
  {
   "cell_type": "markdown",
   "id": "78a7f2d0",
   "metadata": {},
   "source": [
    "Визуальный анализ тепловой карты позволяет увидеть высокую корелляцию следующих групп принзнаков:\n",
    "* 'iter', 'power', 'seconds'\n",
    "* 'bulk2', 'bulk7', 'wire4'\n",
    "* 'bulk7', 'wire4'\n",
    "* 'wire8', 'bulk9'\n",
    "* 'bulk2', 'wire6'\n",
    "* аномальные показатели для 'wire5'.\n",
    "\n",
    "Посмотрим на численное выражение коэффициентов корелляции для указанных признаков. Если значение коэффициента будет выше 0.6, удалим один из признаков из датасета, с целью исключения мультиколлениарности."
   ]
  },
  {
   "cell_type": "code",
   "execution_count": 68,
   "id": "2bc2ceb4",
   "metadata": {},
   "outputs": [
    {
     "data": {
      "text/html": [
       "<div>\n",
       "<style scoped>\n",
       "    .dataframe tbody tr th:only-of-type {\n",
       "        vertical-align: middle;\n",
       "    }\n",
       "\n",
       "    .dataframe tbody tr th {\n",
       "        vertical-align: top;\n",
       "    }\n",
       "\n",
       "    .dataframe thead th {\n",
       "        text-align: right;\n",
       "    }\n",
       "</style>\n",
       "<table border=\"1\" class=\"dataframe\">\n",
       "  <thead>\n",
       "    <tr style=\"text-align: right;\">\n",
       "      <th></th>\n",
       "      <th>iter</th>\n",
       "      <th>power</th>\n",
       "      <th>seconds</th>\n",
       "    </tr>\n",
       "  </thead>\n",
       "  <tbody>\n",
       "    <tr>\n",
       "      <th>iter</th>\n",
       "      <td>1.000000</td>\n",
       "      <td>0.765932</td>\n",
       "      <td>0.799038</td>\n",
       "    </tr>\n",
       "    <tr>\n",
       "      <th>power</th>\n",
       "      <td>0.765932</td>\n",
       "      <td>1.000000</td>\n",
       "      <td>0.982749</td>\n",
       "    </tr>\n",
       "    <tr>\n",
       "      <th>seconds</th>\n",
       "      <td>0.799038</td>\n",
       "      <td>0.982749</td>\n",
       "      <td>1.000000</td>\n",
       "    </tr>\n",
       "  </tbody>\n",
       "</table>\n",
       "</div>"
      ],
      "text/plain": [
       "             iter     power   seconds\n",
       "iter     1.000000  0.765932  0.799038\n",
       "power    0.765932  1.000000  0.982749\n",
       "seconds  0.799038  0.982749  1.000000"
      ]
     },
     "execution_count": 68,
     "metadata": {},
     "output_type": "execute_result"
    }
   ],
   "source": [
    "# creating correlation table\n",
    "df[['iter', 'power', 'seconds']].corr()"
   ]
  },
  {
   "cell_type": "code",
   "execution_count": 69,
   "id": "6d301259",
   "metadata": {},
   "outputs": [
    {
     "data": {
      "text/plain": [
       "(2329, 29)"
      ]
     },
     "execution_count": 69,
     "metadata": {},
     "output_type": "execute_result"
    }
   ],
   "source": [
    "# dropping columns\n",
    "df = df.drop(['iter', 'seconds'], axis=1)\n",
    "\n",
    "# getting shape of table\n",
    "df.shape"
   ]
  },
  {
   "cell_type": "code",
   "execution_count": 70,
   "id": "7ca99265",
   "metadata": {},
   "outputs": [
    {
     "data": {
      "text/html": [
       "<div>\n",
       "<style scoped>\n",
       "    .dataframe tbody tr th:only-of-type {\n",
       "        vertical-align: middle;\n",
       "    }\n",
       "\n",
       "    .dataframe tbody tr th {\n",
       "        vertical-align: top;\n",
       "    }\n",
       "\n",
       "    .dataframe thead th {\n",
       "        text-align: right;\n",
       "    }\n",
       "</style>\n",
       "<table border=\"1\" class=\"dataframe\">\n",
       "  <thead>\n",
       "    <tr style=\"text-align: right;\">\n",
       "      <th></th>\n",
       "      <th>bulk2</th>\n",
       "      <th>bulk7</th>\n",
       "      <th>wire4</th>\n",
       "    </tr>\n",
       "  </thead>\n",
       "  <tbody>\n",
       "    <tr>\n",
       "      <th>bulk2</th>\n",
       "      <td>1.000000</td>\n",
       "      <td>0.679356</td>\n",
       "      <td>0.699342</td>\n",
       "    </tr>\n",
       "    <tr>\n",
       "      <th>bulk7</th>\n",
       "      <td>0.679356</td>\n",
       "      <td>1.000000</td>\n",
       "      <td>0.740572</td>\n",
       "    </tr>\n",
       "    <tr>\n",
       "      <th>wire4</th>\n",
       "      <td>0.699342</td>\n",
       "      <td>0.740572</td>\n",
       "      <td>1.000000</td>\n",
       "    </tr>\n",
       "  </tbody>\n",
       "</table>\n",
       "</div>"
      ],
      "text/plain": [
       "          bulk2     bulk7     wire4\n",
       "bulk2  1.000000  0.679356  0.699342\n",
       "bulk7  0.679356  1.000000  0.740572\n",
       "wire4  0.699342  0.740572  1.000000"
      ]
     },
     "execution_count": 70,
     "metadata": {},
     "output_type": "execute_result"
    }
   ],
   "source": [
    "# creating correlation table\n",
    "df[['bulk2', 'bulk7', 'wire4']].corr()"
   ]
  },
  {
   "cell_type": "code",
   "execution_count": 71,
   "id": "c6b513df",
   "metadata": {},
   "outputs": [
    {
     "data": {
      "text/plain": [
       "(2329, 27)"
      ]
     },
     "execution_count": 71,
     "metadata": {},
     "output_type": "execute_result"
    }
   ],
   "source": [
    "# dropping columns\n",
    "df = df.drop(['bulk7', 'wire4'], axis=1)\n",
    "\n",
    "# getting shape of table\n",
    "df.shape"
   ]
  },
  {
   "cell_type": "code",
   "execution_count": 72,
   "id": "ae154994",
   "metadata": {},
   "outputs": [
    {
     "data": {
      "text/html": [
       "<div>\n",
       "<style scoped>\n",
       "    .dataframe tbody tr th:only-of-type {\n",
       "        vertical-align: middle;\n",
       "    }\n",
       "\n",
       "    .dataframe tbody tr th {\n",
       "        vertical-align: top;\n",
       "    }\n",
       "\n",
       "    .dataframe thead th {\n",
       "        text-align: right;\n",
       "    }\n",
       "</style>\n",
       "<table border=\"1\" class=\"dataframe\">\n",
       "  <thead>\n",
       "    <tr style=\"text-align: right;\">\n",
       "      <th></th>\n",
       "      <th>wire8</th>\n",
       "      <th>bulk9</th>\n",
       "    </tr>\n",
       "  </thead>\n",
       "  <tbody>\n",
       "    <tr>\n",
       "      <th>wire8</th>\n",
       "      <td>1.000000</td>\n",
       "      <td>0.974969</td>\n",
       "    </tr>\n",
       "    <tr>\n",
       "      <th>bulk9</th>\n",
       "      <td>0.974969</td>\n",
       "      <td>1.000000</td>\n",
       "    </tr>\n",
       "  </tbody>\n",
       "</table>\n",
       "</div>"
      ],
      "text/plain": [
       "          wire8     bulk9\n",
       "wire8  1.000000  0.974969\n",
       "bulk9  0.974969  1.000000"
      ]
     },
     "execution_count": 72,
     "metadata": {},
     "output_type": "execute_result"
    }
   ],
   "source": [
    "# creating correlation table\n",
    "df[['wire8', 'bulk9']].corr()"
   ]
  },
  {
   "cell_type": "code",
   "execution_count": 73,
   "id": "534408c9",
   "metadata": {},
   "outputs": [
    {
     "data": {
      "text/plain": [
       "(2329, 26)"
      ]
     },
     "execution_count": 73,
     "metadata": {},
     "output_type": "execute_result"
    }
   ],
   "source": [
    "# dropping columns\n",
    "df = df.drop(['bulk9'], axis=1)\n",
    "\n",
    "# getting shape of table\n",
    "df.shape"
   ]
  },
  {
   "cell_type": "code",
   "execution_count": 74,
   "id": "483b0871",
   "metadata": {},
   "outputs": [
    {
     "data": {
      "text/html": [
       "<div>\n",
       "<style scoped>\n",
       "    .dataframe tbody tr th:only-of-type {\n",
       "        vertical-align: middle;\n",
       "    }\n",
       "\n",
       "    .dataframe tbody tr th {\n",
       "        vertical-align: top;\n",
       "    }\n",
       "\n",
       "    .dataframe thead th {\n",
       "        text-align: right;\n",
       "    }\n",
       "</style>\n",
       "<table border=\"1\" class=\"dataframe\">\n",
       "  <thead>\n",
       "    <tr style=\"text-align: right;\">\n",
       "      <th></th>\n",
       "      <th>bulk12</th>\n",
       "      <th>bulk15</th>\n",
       "    </tr>\n",
       "  </thead>\n",
       "  <tbody>\n",
       "    <tr>\n",
       "      <th>bulk12</th>\n",
       "      <td>1.000000</td>\n",
       "      <td>0.614479</td>\n",
       "    </tr>\n",
       "    <tr>\n",
       "      <th>bulk15</th>\n",
       "      <td>0.614479</td>\n",
       "      <td>1.000000</td>\n",
       "    </tr>\n",
       "  </tbody>\n",
       "</table>\n",
       "</div>"
      ],
      "text/plain": [
       "          bulk12    bulk15\n",
       "bulk12  1.000000  0.614479\n",
       "bulk15  0.614479  1.000000"
      ]
     },
     "execution_count": 74,
     "metadata": {},
     "output_type": "execute_result"
    }
   ],
   "source": [
    "# creating correlation table\n",
    "df[['bulk12', 'bulk15']].corr()"
   ]
  },
  {
   "cell_type": "code",
   "execution_count": 75,
   "id": "99b9dbf2",
   "metadata": {},
   "outputs": [
    {
     "data": {
      "text/plain": [
       "(2329, 25)"
      ]
     },
     "execution_count": 75,
     "metadata": {},
     "output_type": "execute_result"
    }
   ],
   "source": [
    "# dropping column\n",
    "df = df.drop(['bulk15'], axis=1)\n",
    "\n",
    "# getting shape of table\n",
    "df.shape"
   ]
  },
  {
   "cell_type": "code",
   "execution_count": 76,
   "id": "d3f787c4",
   "metadata": {},
   "outputs": [
    {
     "data": {
      "text/html": [
       "<div>\n",
       "<style scoped>\n",
       "    .dataframe tbody tr th:only-of-type {\n",
       "        vertical-align: middle;\n",
       "    }\n",
       "\n",
       "    .dataframe tbody tr th {\n",
       "        vertical-align: top;\n",
       "    }\n",
       "\n",
       "    .dataframe thead th {\n",
       "        text-align: right;\n",
       "    }\n",
       "</style>\n",
       "<table border=\"1\" class=\"dataframe\">\n",
       "  <thead>\n",
       "    <tr style=\"text-align: right;\">\n",
       "      <th></th>\n",
       "      <th>bulk2</th>\n",
       "      <th>wire6</th>\n",
       "    </tr>\n",
       "  </thead>\n",
       "  <tbody>\n",
       "    <tr>\n",
       "      <th>bulk2</th>\n",
       "      <td>1.000000</td>\n",
       "      <td>0.558889</td>\n",
       "    </tr>\n",
       "    <tr>\n",
       "      <th>wire6</th>\n",
       "      <td>0.558889</td>\n",
       "      <td>1.000000</td>\n",
       "    </tr>\n",
       "  </tbody>\n",
       "</table>\n",
       "</div>"
      ],
      "text/plain": [
       "          bulk2     wire6\n",
       "bulk2  1.000000  0.558889\n",
       "wire6  0.558889  1.000000"
      ]
     },
     "execution_count": 76,
     "metadata": {},
     "output_type": "execute_result"
    }
   ],
   "source": [
    "# creating correlation table\n",
    "df[['bulk2', 'wire6']].corr()"
   ]
  },
  {
   "cell_type": "code",
   "execution_count": 77,
   "id": "507b5298",
   "metadata": {},
   "outputs": [
    {
     "data": {
      "text/html": [
       "<div>\n",
       "<style scoped>\n",
       "    .dataframe tbody tr th:only-of-type {\n",
       "        vertical-align: middle;\n",
       "    }\n",
       "\n",
       "    .dataframe tbody tr th {\n",
       "        vertical-align: top;\n",
       "    }\n",
       "\n",
       "    .dataframe thead th {\n",
       "        text-align: right;\n",
       "    }\n",
       "</style>\n",
       "<table border=\"1\" class=\"dataframe\">\n",
       "  <thead>\n",
       "    <tr style=\"text-align: right;\">\n",
       "      <th></th>\n",
       "      <th>bulk2</th>\n",
       "      <th>wire6</th>\n",
       "      <th>wire5</th>\n",
       "    </tr>\n",
       "  </thead>\n",
       "  <tbody>\n",
       "    <tr>\n",
       "      <th>bulk2</th>\n",
       "      <td>1.000000</td>\n",
       "      <td>0.558889</td>\n",
       "      <td>NaN</td>\n",
       "    </tr>\n",
       "    <tr>\n",
       "      <th>wire6</th>\n",
       "      <td>0.558889</td>\n",
       "      <td>1.000000</td>\n",
       "      <td>NaN</td>\n",
       "    </tr>\n",
       "    <tr>\n",
       "      <th>wire5</th>\n",
       "      <td>NaN</td>\n",
       "      <td>NaN</td>\n",
       "      <td>NaN</td>\n",
       "    </tr>\n",
       "  </tbody>\n",
       "</table>\n",
       "</div>"
      ],
      "text/plain": [
       "          bulk2     wire6  wire5\n",
       "bulk2  1.000000  0.558889    NaN\n",
       "wire6  0.558889  1.000000    NaN\n",
       "wire5       NaN       NaN    NaN"
      ]
     },
     "execution_count": 77,
     "metadata": {},
     "output_type": "execute_result"
    }
   ],
   "source": [
    "# creating correlation table\n",
    "df[['bulk2', 'wire6', 'wire5']].corr()"
   ]
  },
  {
   "cell_type": "markdown",
   "id": "c8d238e1",
   "metadata": {},
   "source": [
    "Из таблицы удалены признаки, сильно кореллирующие с другими. Для признака *wire5* коэффициент корелляции не обнаруживается.\n",
    "\n",
    "Посмотрим на распределение значений этого признака."
   ]
  },
  {
   "cell_type": "code",
   "execution_count": 78,
   "id": "488ec05f",
   "metadata": {},
   "outputs": [
    {
     "data": {
      "text/plain": [
       "0.0    2329\n",
       "Name: wire5, dtype: int64"
      ]
     },
     "execution_count": 78,
     "metadata": {},
     "output_type": "execute_result"
    }
   ],
   "source": [
    "# counting values\n",
    "df['wire5'].value_counts()"
   ]
  },
  {
   "cell_type": "markdown",
   "id": "6ac19ef4",
   "metadata": {},
   "source": [
    "Оказывается, что значения этого признака для всех объектов равняется 0. Удалим признак из датасета."
   ]
  },
  {
   "cell_type": "code",
   "execution_count": 79,
   "id": "bf942384",
   "metadata": {},
   "outputs": [
    {
     "data": {
      "text/plain": [
       "(2329, 24)"
      ]
     },
     "execution_count": 79,
     "metadata": {},
     "output_type": "execute_result"
    }
   ],
   "source": [
    "# dropping column\n",
    "df = df.drop(['wire5'], axis=1)\n",
    "\n",
    "# getting shape of table\n",
    "df.shape"
   ]
  },
  {
   "cell_type": "code",
   "execution_count": 80,
   "id": "a74b0b9a",
   "metadata": {},
   "outputs": [
    {
     "data": {
      "image/png": "[encoded data removed]",
      "text/plain": [
       "<Figure size 1080x864 with 2 Axes>"
      ]
     },
     "metadata": {},
     "output_type": "display_data"
    }
   ],
   "source": [
    "# building a heatmap\n",
    "seaborn.heatmap(df.corr());\n",
    "seaborn.set(rc = {'figure.figsize':(15, 12)})"
   ]
  },
  {
   "cell_type": "markdown",
   "id": "59f8cce4",
   "metadata": {},
   "source": [
    "**Вывод.**\n",
    "\n",
    "Итоговый датасет очищен от признаков, которые сильно кореллируют с другими признаками. Также в ходе анализа корелляции удалось установить, что признак *wire5* для всех объектов имеет значение 0. Этот признак также был удалён.\n",
    "\n",
    "Тепловая карта коэффициентов корелляции признаков итогового датасета заметно потемнела.\n",
    "\n",
    "Размер датасета - 2329 объектов и 24 признака."
   ]
  },
  {
   "cell_type": "markdown",
   "id": "4155ec8b",
   "metadata": {},
   "source": [
    "### Создание обучающих и тестовых данных"
   ]
  },
  {
   "cell_type": "code",
   "execution_count": 81,
   "id": "7aa3bd35",
   "metadata": {},
   "outputs": [
    {
     "data": {
      "text/plain": [
       "((2329, 22), 2329)"
      ]
     },
     "execution_count": 81,
     "metadata": {},
     "output_type": "execute_result"
    }
   ],
   "source": [
    "# creating the variable with target\n",
    "y = df['end']\n",
    "\n",
    "# creating the variable with features\n",
    "x = df.drop(['end', 'key'], axis=1)\n",
    "\n",
    "# getting shape of tables\n",
    "x.shape, len(y)"
   ]
  },
  {
   "cell_type": "code",
   "execution_count": 82,
   "id": "8d97ec4d",
   "metadata": {},
   "outputs": [
    {
     "data": {
      "text/plain": [
       "(1746, 583)"
      ]
     },
     "execution_count": 82,
     "metadata": {},
     "output_type": "execute_result"
    }
   ],
   "source": [
    "# creating train and test samples\n",
    "x_tr, x_test, y_train, y_test = train_test_split(x, y, random_state=ra)\n",
    "\n",
    "# getting shape of tables\n",
    "len(x_tr), len(x_test)"
   ]
  },
  {
   "cell_type": "markdown",
   "id": "2d22b305",
   "metadata": {},
   "source": [
    "### Перевод фичей в numpy-массив"
   ]
  },
  {
   "cell_type": "markdown",
   "id": "e75972ae",
   "metadata": {},
   "source": [
    "Для более оптимального обучения моделей переведём все обучающие данные в numpy-массив."
   ]
  },
  {
   "cell_type": "code",
   "execution_count": 83,
   "id": "3df4204e",
   "metadata": {},
   "outputs": [
    {
     "data": {
      "text/plain": [
       "(1746, 22)"
      ]
     },
     "execution_count": 83,
     "metadata": {},
     "output_type": "execute_result"
    }
   ],
   "source": [
    "# converting data to numpy\n",
    "x_train = x_tr.to_numpy()\n",
    "\n",
    "# getting shape of table\n",
    "x_train.shape"
   ]
  },
  {
   "cell_type": "code",
   "execution_count": 84,
   "id": "46d5e448",
   "metadata": {},
   "outputs": [
    {
     "data": {
      "text/plain": [
       "(583, 22)"
      ]
     },
     "execution_count": 84,
     "metadata": {},
     "output_type": "execute_result"
    }
   ],
   "source": [
    "# converting data to numpy\n",
    "x_test = x_test.to_numpy()\n",
    "\n",
    "# getting shape of table\n",
    "x_test.shape"
   ]
  },
  {
   "cell_type": "markdown",
   "id": "b8ecd867",
   "metadata": {},
   "source": [
    "## Обучение моделей"
   ]
  },
  {
   "cell_type": "markdown",
   "id": "81e13022",
   "metadata": {},
   "source": [
    "### Линейная регрессия"
   ]
  },
  {
   "cell_type": "markdown",
   "id": "8ce7f462",
   "metadata": {},
   "source": [
    "Перед обучением модели выполним масштабирование признаков."
   ]
  },
  {
   "cell_type": "code",
   "execution_count": 85,
   "id": "652551c6",
   "metadata": {},
   "outputs": [],
   "source": [
    "# creating a new object of StandardScaler and fitting it\n",
    "scaler = StandardScaler()\n",
    "scaler.fit(x_train)\n",
    "\n",
    "train_scaled = scaler.transform(x_train)\n",
    "test_scaled = scaler.transform(x_test)\n",
    "\n",
    "pd.options.mode.chained_assignment = None"
   ]
  },
  {
   "cell_type": "code",
   "execution_count": 86,
   "id": "21b852b1",
   "metadata": {},
   "outputs": [
    {
     "name": "stdout",
     "output_type": "stream",
     "text": [
      "МАЕ линейной регрессии: 6.65\n"
     ]
    }
   ],
   "source": [
    "# creating a model\n",
    "linear = LinearRegression()\n",
    "\n",
    "# printig metrics value\n",
    "print('МАЕ линейной регрессии:', \n",
    "      round(abs(np.mean(cross_val_score(linear, train_scaled, y_train, scoring='neg_mean_absolute_error'))), 2))"
   ]
  },
  {
   "cell_type": "markdown",
   "id": "68358fa7",
   "metadata": {},
   "source": [
    "Сохраним значение метрики *МАЕ* для модели линейной регрессии."
   ]
  },
  {
   "cell_type": "code",
   "execution_count": 87,
   "id": "ebd6b605",
   "metadata": {},
   "outputs": [],
   "source": [
    "mae_linear = 6.65"
   ]
  },
  {
   "cell_type": "markdown",
   "id": "ef6f03c5",
   "metadata": {},
   "source": [
    "### Случайный лес"
   ]
  },
  {
   "cell_type": "markdown",
   "id": "e523bbe9",
   "metadata": {},
   "source": [
    "Подбор гиперпараметров и кросс-валидацию модели случайного леса будем осуществлять с помощью модуля *GridSearchCV*. Данный процесс занимает много времени, поэтому код и результат выполнения ммодуля приложен к проекту в виде текста."
   ]
  },
  {
   "cell_type": "markdown",
   "id": "fa6a8689",
   "metadata": {},
   "source": [
    "**Код обучения модели случайного леса.**\n",
    "\n",
    "```python\n",
    "%%time\n",
    "\n",
    "forest = RandomForestRegressor(random_state=ra)\n",
    "parameters  = {'n_estimators': list(range(100, 300, 10)),\n",
    "               'max_depth': list(range(6, 16, 2)), \n",
    "               'min_samples_leaf': list(range(1, 3)), \n",
    "               'min_samples_split': list(range(2, 5))}\n",
    "\n",
    "grid = GridSearchCV(forest, parameters, cv=5, scoring='neg_mean_absolute_error', verbose=10)\n",
    "grid.fit(x_train, y_train)\n",
    "\n",
    "print('MAE случайного леса:', abs(grid.best_score_))\n",
    "print('Лучшая модель:', grid.best_estimator_)\n",
    "print()\n",
    "```"
   ]
  },
  {
   "cell_type": "markdown",
   "id": "0652e4d7",
   "metadata": {},
   "source": [
    "**Результат работы кода.**\n",
    "\n",
    "```\n",
    "MAE случайного леса: 6 2\n",
    "Лучшая модель: RandomForestRegressor(max_depth=10, min_samples_leaf=2, n_estimators=280,\n",
    "                      random_state=141122)\n",
    "\n",
    "CPU times: total: 36min 40s\n",
    "Wall time: 36min 40s\n",
    "```"
   ]
  },
  {
   "cell_type": "markdown",
   "id": "a2a724d9",
   "metadata": {},
   "source": [
    "Выполним ещё один процесс перебора гиперпараметров без шага в районе параметров лучшей подобранной модели."
   ]
  },
  {
   "cell_type": "markdown",
   "id": "4b5b6557",
   "metadata": {},
   "source": [
    "**Код обучения модели случайного леса во второй итерации.**\n",
    "\n",
    "```python\n",
    "%%time\n",
    "\n",
    "forest = RandomForestRegressor(random_state=ra)\n",
    "parameters  = {'n_estimators': list(range(275, 285)),\n",
    "               'max_depth': list(range(8, 12)), \n",
    "               'min_samples_leaf': list(range(1, 3)), \n",
    "               'min_samples_split': list(range(2, 4))}\n",
    "\n",
    "grid = GridSearchCV(forest, parameters, cv=5, scoring='neg_mean_absolute_error', verbose=10)\n",
    "grid.fit(x_train, y_train)\n",
    "\n",
    "print('MAE случайного леса:', abs(grid.best_score_))\n",
    "print('Лучшая модель:', grid.best_estimator_)\n",
    "print()\n",
    "```"
   ]
  },
  {
   "cell_type": "markdown",
   "id": "4be919cb",
   "metadata": {},
   "source": [
    "**Результат работы кода во второй итерации.**\n",
    "\n",
    "```\n",
    "MAE случайного леса: 6.154087500967364\n",
    "Лучшая модель: RandomForestRegressor(max_depth=11, min_samples_leaf=2, n_estimators=275,\n",
    "                      random_state=141122)\n",
    "\n",
    "CPU times: total: 17min 21s\n",
    "Wall time: 17min 21s\n",
    "```"
   ]
  },
  {
   "cell_type": "markdown",
   "id": "2e460db6",
   "metadata": {},
   "source": [
    "Сохраним значение метрики *МАЕ* для модели случайного леса."
   ]
  },
  {
   "cell_type": "code",
   "execution_count": 88,
   "id": "625a92b7",
   "metadata": {},
   "outputs": [],
   "source": [
    "mae_forest = 6.15"
   ]
  },
  {
   "cell_type": "markdown",
   "id": "d78d5588",
   "metadata": {},
   "source": [
    "### Градиентный бустинг"
   ]
  },
  {
   "cell_type": "markdown",
   "id": "77c68366",
   "metadata": {},
   "source": [
    "Модель градиентного бустинга будем строить с помощью библиотеки *LightGBM*.\n",
    "\n",
    "Подбор гиперпараметров и кросс-валидацию модели будем осуществлять с помощью модуля *GridSearchCV*. Данный процесс занимает много времени, поэтому код и результат выполнения ммодуля приложен к проекту в виде текста."
   ]
  },
  {
   "cell_type": "markdown",
   "id": "57ca9556",
   "metadata": {},
   "source": [
    "**Код обучения модели градиентного бустинга.**\n",
    "\n",
    "```python\n",
    "%time\n",
    "\n",
    "busting = LGBMRegressor(random_state=ra)\n",
    "parameters  = {'n_estimators': list(range(40, 150, 2)),\n",
    "               'max_depth': list(range(10, 20)), \n",
    "               'num_leaves': list(range(30, 100, 3)), \n",
    "               'learning_rate': list(x / 100.0 for x in range(1, 10, 5))}\n",
    "\n",
    "bust = GridSearchCV(busting, parameters, cv=5, scoring='neg_mean_absolute_error', verbose=10)\n",
    "bust.fit(x_train, y_train)\n",
    "\n",
    "print('MAE градиентного бустинга:', round(abs(bust.best_score_), 2))\n",
    "print('Модель градиентного бустинга:', bust.best_estimator_)\n",
    "print()\n",
    "\n",
    "```"
   ]
  },
  {
   "cell_type": "markdown",
   "id": "e3007f34",
   "metadata": {},
   "source": [
    "**Результат работы кода.**\n",
    "\n",
    "```\n",
    "MAE градиентного бустинга: 6.08\n",
    "Модель градиентного бустинга: LGBMRegressor(learning_rate=0.06, max_depth=12, n_estimators=64, num_leaves=30,\n",
    "              random_state=141122)\n",
    "```"
   ]
  },
  {
   "cell_type": "markdown",
   "id": "ba11bace",
   "metadata": {},
   "source": [
    "Попробуем улучшить результат, путём исключения шага в подборе гиперпараметров."
   ]
  },
  {
   "cell_type": "markdown",
   "id": "cff47e6e",
   "metadata": {},
   "source": [
    "**Код обучения модели градиентного бустинга во второй итерации.**\n",
    "\n",
    "```python\n",
    "%time\n",
    "\n",
    "busting = LGBMRegressor(random_state=ra)\n",
    "parameters  = {'n_estimators': list(range(60, 70)),\n",
    "               'max_depth': list(range(10, 15)), \n",
    "               'num_leaves': list(range(30, 35)), \n",
    "               'learning_rate': list(x / 100.0 for x in range(1, 10, 2))}\n",
    "\n",
    "bust = GridSearchCV(busting, parameters, cv=5, scoring='neg_mean_absolute_error', verbose=10)\n",
    "bust.fit(x_train, y_train)\n",
    "\n",
    "print('MAE градиентного бустинга:', round(abs(bust.best_score_), 2))\n",
    "print('Модель градиентного бустинга:', bust.best_estimator_)\n",
    "print()\n",
    "```"
   ]
  },
  {
   "cell_type": "markdown",
   "id": "9aef17e5",
   "metadata": {},
   "source": [
    "**Результат работы кода во второй итерации.**\n",
    "\n",
    "```\n",
    "MAE градиентного бустинга: 6.08\n",
    "Модель градиентного бустинга: LGBMRegressor(learning_rate=0.09, max_depth=10, n_estimators=60,\n",
    "              random_state=141122)\n",
    "```"
   ]
  },
  {
   "cell_type": "markdown",
   "id": "cd22177c",
   "metadata": {},
   "source": [
    "Сохраним значение метрики *МАЕ* для модели градиентного бустинга."
   ]
  },
  {
   "cell_type": "code",
   "execution_count": 89,
   "id": "58099a3c",
   "metadata": {},
   "outputs": [],
   "source": [
    "mae_busting = 6.08"
   ]
  },
  {
   "cell_type": "markdown",
   "id": "8b5552d5",
   "metadata": {},
   "source": [
    "### Вывод"
   ]
  },
  {
   "cell_type": "markdown",
   "id": "b47f8917",
   "metadata": {},
   "source": [
    "В ходе работы построены и обучены три модели машинного обучения: линейная регрессия, случайный лес и градиентный бустинг. Оценка качества модели выполнена с помощью кросс-валидации с пятью блоками. Подбор гиперпараметров моделей случайного леса и градиентного бустинга выполнили модулем *GridSearchCV*.\n",
    "\n",
    "Значения метрики *МАЕ* посртоенных моделей сведём в таблицу."
   ]
  },
  {
   "cell_type": "code",
   "execution_count": 90,
   "id": "ee6f7edb",
   "metadata": {},
   "outputs": [
    {
     "data": {
      "text/html": [
       "<div>\n",
       "<style scoped>\n",
       "    .dataframe tbody tr th:only-of-type {\n",
       "        vertical-align: middle;\n",
       "    }\n",
       "\n",
       "    .dataframe tbody tr th {\n",
       "        vertical-align: top;\n",
       "    }\n",
       "\n",
       "    .dataframe thead th {\n",
       "        text-align: right;\n",
       "    }\n",
       "</style>\n",
       "<table border=\"1\" class=\"dataframe\">\n",
       "  <thead>\n",
       "    <tr style=\"text-align: right;\">\n",
       "      <th></th>\n",
       "      <th>Модель</th>\n",
       "      <th>МАЕ</th>\n",
       "    </tr>\n",
       "  </thead>\n",
       "  <tbody>\n",
       "    <tr>\n",
       "      <th>0</th>\n",
       "      <td>Линейная регрессия</td>\n",
       "      <td>6.65</td>\n",
       "    </tr>\n",
       "    <tr>\n",
       "      <th>1</th>\n",
       "      <td>Случайный лес</td>\n",
       "      <td>6.15</td>\n",
       "    </tr>\n",
       "    <tr>\n",
       "      <th>2</th>\n",
       "      <td>Градиентный бустинг</td>\n",
       "      <td>6.08</td>\n",
       "    </tr>\n",
       "  </tbody>\n",
       "</table>\n",
       "</div>"
      ],
      "text/plain": [
       "                Модель   МАЕ\n",
       "0   Линейная регрессия  6.65\n",
       "1        Случайный лес  6.15\n",
       "2  Градиентный бустинг  6.08"
      ]
     },
     "execution_count": 90,
     "metadata": {},
     "output_type": "execute_result"
    }
   ],
   "source": [
    "#creating a DataFrame\n",
    "results = pd.DataFrame.from_dict({\n",
    "    'Модель': ['Линейная регрессия', \n",
    "               'Случайный лес',\n",
    "               'Градиентный бустинг'], \n",
    "    'МАЕ': [mae_linear, mae_forest, mae_busting]})\n",
    "\n",
    "# viewing a DataFrame\n",
    "results"
   ]
  },
  {
   "cell_type": "markdown",
   "id": "26685809",
   "metadata": {},
   "source": [
    "Метрика *МАЕ* всех построенных моделей на обучающих данных - меньше 6.8, удовлетворяют требованию технического задания.\n",
    "\n",
    "Лучший результат - у модели градиентного бустинга со значением *МАЕ* = 6.08. Сохраним лучшую модель в переменную `model`."
   ]
  },
  {
   "cell_type": "code",
   "execution_count": 91,
   "id": "cf37bba6",
   "metadata": {},
   "outputs": [
    {
     "data": {
      "text/plain": [
       "LGBMRegressor(learning_rate=0.09, max_depth=10, n_estimators=60,\n",
       "              random_state=141122)"
      ]
     },
     "execution_count": 91,
     "metadata": {},
     "output_type": "execute_result"
    }
   ],
   "source": [
    "model = LGBMRegressor(learning_rate=0.09, max_depth=10, n_estimators=60, random_state=ra)\n",
    "model.fit(x_train, y_train)"
   ]
  },
  {
   "cell_type": "markdown",
   "id": "f4193dc3",
   "metadata": {},
   "source": [
    "## Тестирование модели"
   ]
  },
  {
   "cell_type": "markdown",
   "id": "7fa5f61f",
   "metadata": {},
   "source": [
    "### Тестовые данные"
   ]
  },
  {
   "cell_type": "markdown",
   "id": "0e17d316",
   "metadata": {},
   "source": [
    "Выполним проверку модели на тестовых данных."
   ]
  },
  {
   "cell_type": "code",
   "execution_count": 92,
   "id": "b927810a",
   "metadata": {},
   "outputs": [
    {
     "name": "stdout",
     "output_type": "stream",
     "text": [
      "MAE модели на тестовых данных: 6.27\n"
     ]
    }
   ],
   "source": [
    "predictions = model.predict(x_test)\n",
    "score = mean_absolute_error(y_test, predictions)\n",
    "\n",
    "print('MAE модели на тестовых данных:', round(score, 2))"
   ]
  },
  {
   "cell_type": "markdown",
   "id": "ecaccb2e",
   "metadata": {},
   "source": [
    "Модель показала хорошее качество на тестовых данных. Теперь проверим её на адекватность."
   ]
  },
  {
   "cell_type": "markdown",
   "id": "4a90c26f",
   "metadata": {},
   "source": [
    "### Сравнение с примитивной моделью"
   ]
  },
  {
   "cell_type": "code",
   "execution_count": 93,
   "id": "69b00690",
   "metadata": {},
   "outputs": [
    {
     "name": "stdout",
     "output_type": "stream",
     "text": [
      "MAE примитивной модели: 8.21\n"
     ]
    }
   ],
   "source": [
    "dummy = DummyRegressor(strategy='mean')\n",
    "dummy.fit(x_train, y_train)\n",
    "dummy_predictions = dummy.predict(x_test)\n",
    "dummy_score = mean_absolute_error(y_test, dummy_predictions)\n",
    "\n",
    "print('MAE примитивной модели:', round(dummy_score, 2))"
   ]
  },
  {
   "cell_type": "markdown",
   "id": "28b820a7",
   "metadata": {},
   "source": [
    "Качество построенной модели лучше качества модели с примитивным алгоритмом."
   ]
  },
  {
   "cell_type": "markdown",
   "id": "28913868",
   "metadata": {},
   "source": [
    "### Метрика R2"
   ]
  },
  {
   "cell_type": "markdown",
   "id": "2f40057c",
   "metadata": {},
   "source": [
    "Выполним дополнительную проверку адекватности модели с помощью метрики *r2_score*, которая сравнит предсказания модели со средним значением целевого признака и в качестве метрики использует *mean_squared_error*.\n",
    "\n",
    "Качество построенной модели будет адекватным если значение метрики *r2_score* будет положительным."
   ]
  },
  {
   "cell_type": "code",
   "execution_count": 94,
   "id": "f2937d04",
   "metadata": {},
   "outputs": [
    {
     "name": "stdout",
     "output_type": "stream",
     "text": [
      "R2 модели: 0.43\n"
     ]
    }
   ],
   "source": [
    "print('R2 модели:', round(r2_score(y_test, predictions), 2))"
   ]
  },
  {
   "cell_type": "markdown",
   "id": "4bf18680",
   "metadata": {},
   "source": [
    "### Вывод"
   ]
  },
  {
   "cell_type": "markdown",
   "id": "4734ac9b",
   "metadata": {},
   "source": [
    "Качество модели удовлетворяет заданным требованиям, модель прошла проверку."
   ]
  },
  {
   "cell_type": "markdown",
   "id": "e431b9e5",
   "metadata": {},
   "source": [
    "## Вывод"
   ]
  },
  {
   "cell_type": "markdown",
   "id": "f74d52b2",
   "metadata": {},
   "source": [
    "### Анализ влияния признаков на качество модели"
   ]
  },
  {
   "cell_type": "code",
   "execution_count": 95,
   "id": "7e880081",
   "metadata": {},
   "outputs": [
    {
     "data": {
      "text/html": [
       "<div>\n",
       "<style scoped>\n",
       "    .dataframe tbody tr th:only-of-type {\n",
       "        vertical-align: middle;\n",
       "    }\n",
       "\n",
       "    .dataframe tbody tr th {\n",
       "        vertical-align: top;\n",
       "    }\n",
       "\n",
       "    .dataframe thead th {\n",
       "        text-align: right;\n",
       "    }\n",
       "</style>\n",
       "<table border=\"1\" class=\"dataframe\">\n",
       "  <thead>\n",
       "    <tr style=\"text-align: right;\">\n",
       "      <th></th>\n",
       "      <th>feature</th>\n",
       "      <th>importance</th>\n",
       "    </tr>\n",
       "  </thead>\n",
       "  <tbody>\n",
       "    <tr>\n",
       "      <th>1</th>\n",
       "      <td>start</td>\n",
       "      <td>300</td>\n",
       "    </tr>\n",
       "    <tr>\n",
       "      <th>0</th>\n",
       "      <td>power</td>\n",
       "      <td>285</td>\n",
       "    </tr>\n",
       "    <tr>\n",
       "      <th>15</th>\n",
       "      <td>wire1</td>\n",
       "      <td>175</td>\n",
       "    </tr>\n",
       "    <tr>\n",
       "      <th>2</th>\n",
       "      <td>gas</td>\n",
       "      <td>174</td>\n",
       "    </tr>\n",
       "    <tr>\n",
       "      <th>14</th>\n",
       "      <td>bulk14</td>\n",
       "      <td>152</td>\n",
       "    </tr>\n",
       "    <tr>\n",
       "      <th>12</th>\n",
       "      <td>bulk12</td>\n",
       "      <td>104</td>\n",
       "    </tr>\n",
       "    <tr>\n",
       "      <th>16</th>\n",
       "      <td>wire2</td>\n",
       "      <td>88</td>\n",
       "    </tr>\n",
       "    <tr>\n",
       "      <th>8</th>\n",
       "      <td>bulk6</td>\n",
       "      <td>76</td>\n",
       "    </tr>\n",
       "    <tr>\n",
       "      <th>5</th>\n",
       "      <td>bulk3</td>\n",
       "      <td>54</td>\n",
       "    </tr>\n",
       "    <tr>\n",
       "      <th>6</th>\n",
       "      <td>bulk4</td>\n",
       "      <td>48</td>\n",
       "    </tr>\n",
       "    <tr>\n",
       "      <th>3</th>\n",
       "      <td>bulk1</td>\n",
       "      <td>35</td>\n",
       "    </tr>\n",
       "    <tr>\n",
       "      <th>11</th>\n",
       "      <td>bulk11</td>\n",
       "      <td>14</td>\n",
       "    </tr>\n",
       "    <tr>\n",
       "      <th>10</th>\n",
       "      <td>bulk10</td>\n",
       "      <td>12</td>\n",
       "    </tr>\n",
       "    <tr>\n",
       "      <th>7</th>\n",
       "      <td>bulk5</td>\n",
       "      <td>8</td>\n",
       "    </tr>\n",
       "    <tr>\n",
       "      <th>17</th>\n",
       "      <td>wire3</td>\n",
       "      <td>7</td>\n",
       "    </tr>\n",
       "    <tr>\n",
       "      <th>18</th>\n",
       "      <td>wire6</td>\n",
       "      <td>3</td>\n",
       "    </tr>\n",
       "    <tr>\n",
       "      <th>13</th>\n",
       "      <td>bulk13</td>\n",
       "      <td>0</td>\n",
       "    </tr>\n",
       "    <tr>\n",
       "      <th>9</th>\n",
       "      <td>bulk8</td>\n",
       "      <td>0</td>\n",
       "    </tr>\n",
       "    <tr>\n",
       "      <th>4</th>\n",
       "      <td>bulk2</td>\n",
       "      <td>0</td>\n",
       "    </tr>\n",
       "    <tr>\n",
       "      <th>19</th>\n",
       "      <td>wire7</td>\n",
       "      <td>0</td>\n",
       "    </tr>\n",
       "    <tr>\n",
       "      <th>20</th>\n",
       "      <td>wire8</td>\n",
       "      <td>0</td>\n",
       "    </tr>\n",
       "    <tr>\n",
       "      <th>21</th>\n",
       "      <td>wire9</td>\n",
       "      <td>0</td>\n",
       "    </tr>\n",
       "  </tbody>\n",
       "</table>\n",
       "</div>"
      ],
      "text/plain": [
       "   feature  importance\n",
       "1    start         300\n",
       "0    power         285\n",
       "15   wire1         175\n",
       "2      gas         174\n",
       "14  bulk14         152\n",
       "12  bulk12         104\n",
       "16   wire2          88\n",
       "8    bulk6          76\n",
       "5    bulk3          54\n",
       "6    bulk4          48\n",
       "3    bulk1          35\n",
       "11  bulk11          14\n",
       "10  bulk10          12\n",
       "7    bulk5           8\n",
       "17   wire3           7\n",
       "18   wire6           3\n",
       "13  bulk13           0\n",
       "9    bulk8           0\n",
       "4    bulk2           0\n",
       "19   wire7           0\n",
       "20   wire8           0\n",
       "21   wire9           0"
      ]
     },
     "execution_count": 95,
     "metadata": {},
     "output_type": "execute_result"
    }
   ],
   "source": [
    "importances = model.feature_importances_\n",
    "feature_list = list(x_tr.columns)\n",
    "feature_results = pd.DataFrame({'feature': feature_list, 'importance': importances})\n",
    "feature_results.sort_values(by='importance', ascending=False)"
   ]
  },
  {
   "cell_type": "code",
   "execution_count": 96,
   "id": "fc877f79",
   "metadata": {},
   "outputs": [
    {
     "data": {
      "image/png": "[encoded data removed]",
      "text/plain": [
       "<Figure size 1008x360 with 1 Axes>"
      ]
     },
     "metadata": {},
     "output_type": "display_data"
    }
   ],
   "source": [
    "feature_results[feature_results['importance'] > 0].\\\n",
    "sort_values(by='importance', ascending=True).\\\n",
    "plot(kind='bar', \n",
    "     figsize=(14, 5), \n",
    "     x='feature', \n",
    "     y='importance', \n",
    "     legend=False, \n",
    "     fontsize=12,\n",
    "     colormap='Paired');\n",
    "\n",
    "pl.xlabel('Параметр процесса обработки стали', fontsize=13);\n",
    "pl.ylabel('Степень влияния на конечную температуру', fontsize=13);\n",
    "plt.title('Диаграмма влияния параметров процесса обработки стали на конечную температуру', fontsize=15);"
   ]
  },
  {
   "cell_type": "markdown",
   "id": "a40a8814",
   "metadata": {},
   "source": [
    "### Вывод"
   ]
  },
  {
   "cell_type": "markdown",
   "id": "5713b65d",
   "metadata": {},
   "source": [
    "Проект по разработке модели машинного обучения для определения конечной температуры процесса обработки стали завершён.\n",
    "\n",
    "В начале работы над проектом был разработан план, все положения которого в итоге удалось реализовать.\n",
    "\n",
    "Проект разработан на основе исходных данных от заказчика с параметрами процессов обработки стали. В исходных данных насчитывались данные чуть более 3000 партий обработки. Информация от заказчика был представлена семью файлами с разными параметрами обработки партий стали.\n",
    "\n",
    "В процессе анализа были рассчитаны дополнительные параметры: полная мощность использованной в процессе обработки электроэнергии, продолжительность партии, количество итераций в партии.\n",
    "\n",
    "В ходе предобработки данных был собран итоговый датасет для обучения моделей, в который вошли следующие признаки:\n",
    "* полная мощность использованной электроэнергии;\n",
    "* температура сплава стали в начале процесса легирования;\n",
    "* температура сплава стали в конце процесса легирования;\n",
    "* продолжительность процесса обработки партии;\n",
    "* количество итераций в партии;\n",
    "* расход инертных газов;\n",
    "* расход легирующих элементов.\n",
    "\n",
    "В итоговый датасет вошли только те партии, для которых имелись сведения во всех исходных таблицах. Получилось 2329 объектов и 30 признаков.\n",
    "\n",
    "Датасет был разделён на обучающие и тестовые данные в пропорции 3:1. При делении на выборке и далее при обучении моделей была использована фиксированная величина случайной составляющей – 141122.\n",
    "\n",
    "В ходе работы построены три разных модели машинного обучения:\n",
    "1.\tМодель линейной регрессии. Качество модели было проверено кросс-валидацией с помощью метода *cross_val_score* с пятью блоками. Значение метрики *МАЕ* на обучающих данных составило 6.65.\n",
    "2.\tМодель случайного леса. Подбор гиперпараметров и оценка качества модели была проведена с помощью модуля *GridSearchCV*.  Значение метрики *МАЕ* на обучающих данных составило 6.15.\n",
    "3.\tМодель градиентного бустинга. В качестве алгоритма использовалась библиотека *LightGBM*. Подбор гиперпараметров и оценка качества модели была проведена с помощью модуля *GridSearchCV*.  Значение метрики *МАЕ* на обучающих данных составило 6.08.\n",
    "\n",
    "В качестве итоговой модели была принята модель градиентного бустинга. Ниже приведён список и значения гиперпараметров, которые отличаются от стандартных:\n",
    "* learning_rate = 0.09,\n",
    "* max_depth=10, \n",
    "* n_estimators=60, \n",
    "* random_state=141122.\n",
    "\n",
    "Метрика *МАЕ* итоговой модели на тестовых данных составила 6.27.\n",
    "\n",
    "Модель прошла проверку на адекватность: *МАЕ* модели оказалась ниже аналогичной метрики примитивной модели, величина метрики *R2* оказалась положительной.\n",
    "\n",
    "Было проведено исследование оценки влияние признаков на значение конечной температуры процесса обработки стали. Согласно результатам исследования, наибольшее влияние на конечную температуру имеют следующие признаки:\n",
    "* температура сплава стали в начале процесса обработки;\n",
    "* полная мощность использованной электроэнергии;\n",
    "* расход инертных газов;\n",
    "* расход проволочных материалов *Wire 1* и *Wire 2*;\n",
    "* расход сыпучих материалов *Bulk 14*, *Bulk 12*, *Bulk 6*. \n",
    "\n",
    "Ряд легирующих элементов не оказывают влияние на конечную температуру процесса.\n",
    "\n",
    "На этом исследование завершается. Результатом исследования является модель машинного обучения с качеством предсказания конечной температуры обработки стали, удовлетворяющей заданному в техническом задании значению.\n"
   ]
  }
 ],
 "metadata": {
  "ExecuteTimeLog": [
   {
    "duration": 750,
    "start_time": "2022-11-18T16:45:08.513Z"
   },
   {
    "duration": 508,
    "start_time": "2022-11-18T16:45:09.266Z"
   },
   {
    "duration": 13,
    "start_time": "2022-11-18T16:45:10.364Z"
   },
   {
    "duration": 14,
    "start_time": "2022-11-18T16:45:10.687Z"
   },
   {
    "duration": 106,
    "start_time": "2022-11-18T16:45:11.143Z"
   },
   {
    "duration": 12,
    "start_time": "2022-11-18T16:45:11.555Z"
   },
   {
    "duration": 10,
    "start_time": "2022-11-18T16:45:11.813Z"
   },
   {
    "duration": 10,
    "start_time": "2022-11-18T16:45:12.190Z"
   },
   {
    "duration": 11,
    "start_time": "2022-11-18T16:45:12.882Z"
   },
   {
    "duration": 13,
    "start_time": "2022-11-18T16:45:21.101Z"
   },
   {
    "duration": 10,
    "start_time": "2022-11-18T16:45:21.523Z"
   },
   {
    "duration": 15,
    "start_time": "2022-11-18T16:45:23.660Z"
   },
   {
    "duration": 36,
    "start_time": "2022-11-18T16:45:26.764Z"
   },
   {
    "duration": 28,
    "start_time": "2022-11-18T16:45:36.272Z"
   },
   {
    "duration": 11,
    "start_time": "2022-11-18T16:45:37.469Z"
   },
   {
    "duration": 5,
    "start_time": "2022-11-18T16:45:38.775Z"
   },
   {
    "duration": 4,
    "start_time": "2022-11-18T16:45:38.987Z"
   },
   {
    "duration": 8,
    "start_time": "2022-11-18T16:45:39.219Z"
   },
   {
    "duration": 7,
    "start_time": "2022-11-18T16:45:39.504Z"
   },
   {
    "duration": 14,
    "start_time": "2022-11-18T16:45:40.026Z"
   },
   {
    "duration": 169,
    "start_time": "2022-11-18T16:45:46.856Z"
   },
   {
    "duration": 1310,
    "start_time": "2022-11-18T16:45:47.104Z"
   },
   {
    "duration": 47,
    "start_time": "2022-11-19T07:58:07.242Z"
   },
   {
    "duration": 41,
    "start_time": "2022-11-19T07:58:31.566Z"
   },
   {
    "duration": 8,
    "start_time": "2022-11-21T10:24:34.845Z"
   },
   {
    "duration": 1726,
    "start_time": "2022-11-21T10:24:34.855Z"
   },
   {
    "duration": 0,
    "start_time": "2022-11-21T10:24:36.586Z"
   },
   {
    "duration": 0,
    "start_time": "2022-11-21T10:24:36.588Z"
   },
   {
    "duration": 0,
    "start_time": "2022-11-21T10:24:36.589Z"
   },
   {
    "duration": 0,
    "start_time": "2022-11-21T10:24:36.590Z"
   },
   {
    "duration": 0,
    "start_time": "2022-11-21T10:24:36.591Z"
   },
   {
    "duration": 0,
    "start_time": "2022-11-21T10:24:36.592Z"
   },
   {
    "duration": 0,
    "start_time": "2022-11-21T10:24:36.593Z"
   },
   {
    "duration": 0,
    "start_time": "2022-11-21T10:24:36.594Z"
   },
   {
    "duration": 0,
    "start_time": "2022-11-21T10:24:36.595Z"
   },
   {
    "duration": 0,
    "start_time": "2022-11-21T10:24:36.596Z"
   },
   {
    "duration": 0,
    "start_time": "2022-11-21T10:24:36.597Z"
   },
   {
    "duration": 0,
    "start_time": "2022-11-21T10:24:36.598Z"
   },
   {
    "duration": 0,
    "start_time": "2022-11-21T10:24:36.599Z"
   },
   {
    "duration": 0,
    "start_time": "2022-11-21T10:24:36.600Z"
   },
   {
    "duration": 0,
    "start_time": "2022-11-21T10:24:36.601Z"
   },
   {
    "duration": 0,
    "start_time": "2022-11-21T10:24:36.602Z"
   },
   {
    "duration": 0,
    "start_time": "2022-11-21T10:24:36.603Z"
   },
   {
    "duration": 0,
    "start_time": "2022-11-21T10:24:36.604Z"
   },
   {
    "duration": 0,
    "start_time": "2022-11-21T10:24:36.605Z"
   },
   {
    "duration": 0,
    "start_time": "2022-11-21T10:24:36.607Z"
   },
   {
    "duration": 0,
    "start_time": "2022-11-21T10:24:36.608Z"
   },
   {
    "duration": 0,
    "start_time": "2022-11-21T10:24:36.609Z"
   },
   {
    "duration": 0,
    "start_time": "2022-11-21T10:24:36.611Z"
   },
   {
    "duration": 0,
    "start_time": "2022-11-21T10:24:36.612Z"
   },
   {
    "duration": 0,
    "start_time": "2022-11-21T10:24:36.614Z"
   },
   {
    "duration": 0,
    "start_time": "2022-11-21T10:24:36.615Z"
   },
   {
    "duration": 0,
    "start_time": "2022-11-21T10:24:36.616Z"
   },
   {
    "duration": 0,
    "start_time": "2022-11-21T10:24:36.617Z"
   },
   {
    "duration": 0,
    "start_time": "2022-11-21T10:24:36.618Z"
   },
   {
    "duration": 0,
    "start_time": "2022-11-21T10:24:36.620Z"
   },
   {
    "duration": 0,
    "start_time": "2022-11-21T10:24:36.620Z"
   },
   {
    "duration": 0,
    "start_time": "2022-11-21T10:24:36.621Z"
   },
   {
    "duration": 0,
    "start_time": "2022-11-21T10:24:36.622Z"
   },
   {
    "duration": 0,
    "start_time": "2022-11-21T10:24:36.678Z"
   },
   {
    "duration": 0,
    "start_time": "2022-11-21T10:24:36.680Z"
   },
   {
    "duration": 0,
    "start_time": "2022-11-21T10:24:36.681Z"
   },
   {
    "duration": 0,
    "start_time": "2022-11-21T10:24:36.682Z"
   },
   {
    "duration": 0,
    "start_time": "2022-11-21T10:24:36.683Z"
   },
   {
    "duration": 0,
    "start_time": "2022-11-21T10:24:36.684Z"
   },
   {
    "duration": 0,
    "start_time": "2022-11-21T10:24:36.685Z"
   },
   {
    "duration": 0,
    "start_time": "2022-11-21T10:24:36.686Z"
   },
   {
    "duration": 0,
    "start_time": "2022-11-21T10:24:36.688Z"
   },
   {
    "duration": 0,
    "start_time": "2022-11-21T10:24:36.688Z"
   },
   {
    "duration": 0,
    "start_time": "2022-11-21T10:24:36.689Z"
   },
   {
    "duration": 0,
    "start_time": "2022-11-21T10:24:36.690Z"
   },
   {
    "duration": 1,
    "start_time": "2022-11-21T10:24:36.691Z"
   },
   {
    "duration": 0,
    "start_time": "2022-11-21T10:24:36.693Z"
   },
   {
    "duration": 0,
    "start_time": "2022-11-21T10:24:36.694Z"
   },
   {
    "duration": 0,
    "start_time": "2022-11-21T10:24:36.695Z"
   },
   {
    "duration": 0,
    "start_time": "2022-11-21T10:24:36.697Z"
   },
   {
    "duration": 0,
    "start_time": "2022-11-21T10:24:36.697Z"
   },
   {
    "duration": 1,
    "start_time": "2022-11-21T10:24:36.698Z"
   },
   {
    "duration": 0,
    "start_time": "2022-11-21T10:24:36.699Z"
   },
   {
    "duration": 0,
    "start_time": "2022-11-21T10:24:36.700Z"
   },
   {
    "duration": 0,
    "start_time": "2022-11-21T10:24:36.701Z"
   },
   {
    "duration": 0,
    "start_time": "2022-11-21T10:24:36.702Z"
   },
   {
    "duration": 0,
    "start_time": "2022-11-21T10:24:36.703Z"
   },
   {
    "duration": 0,
    "start_time": "2022-11-21T10:24:36.704Z"
   },
   {
    "duration": 9,
    "start_time": "2022-11-21T10:24:58.994Z"
   },
   {
    "duration": 13746,
    "start_time": "2022-11-21T10:25:24.617Z"
   },
   {
    "duration": 3,
    "start_time": "2022-11-21T10:25:49.797Z"
   },
   {
    "duration": 719,
    "start_time": "2022-11-21T10:25:49.987Z"
   },
   {
    "duration": 235,
    "start_time": "2022-11-21T10:25:50.708Z"
   },
   {
    "duration": 16,
    "start_time": "2022-11-21T10:25:50.955Z"
   },
   {
    "duration": 15,
    "start_time": "2022-11-21T10:25:51.169Z"
   },
   {
    "duration": 69,
    "start_time": "2022-11-21T10:25:51.486Z"
   },
   {
    "duration": 13,
    "start_time": "2022-11-21T10:25:51.813Z"
   },
   {
    "duration": 12,
    "start_time": "2022-11-21T10:25:52.140Z"
   },
   {
    "duration": 13,
    "start_time": "2022-11-21T10:25:52.484Z"
   },
   {
    "duration": 13,
    "start_time": "2022-11-21T10:25:52.820Z"
   },
   {
    "duration": 27,
    "start_time": "2022-11-21T10:25:53.173Z"
   },
   {
    "duration": 12,
    "start_time": "2022-11-21T10:25:53.536Z"
   },
   {
    "duration": 6,
    "start_time": "2022-11-21T10:25:53.907Z"
   },
   {
    "duration": 4,
    "start_time": "2022-11-21T10:25:54.287Z"
   },
   {
    "duration": 84,
    "start_time": "2022-11-21T10:25:54.673Z"
   },
   {
    "duration": 20,
    "start_time": "2022-11-21T10:25:55.057Z"
   },
   {
    "duration": 317,
    "start_time": "2022-11-21T10:25:55.484Z"
   },
   {
    "duration": 270,
    "start_time": "2022-11-21T10:25:55.936Z"
   },
   {
    "duration": 262,
    "start_time": "2022-11-21T10:25:56.797Z"
   },
   {
    "duration": 11,
    "start_time": "2022-11-21T10:25:57.124Z"
   },
   {
    "duration": 134,
    "start_time": "2022-11-21T10:25:57.998Z"
   },
   {
    "duration": 12,
    "start_time": "2022-11-21T10:25:58.336Z"
   },
   {
    "duration": 17,
    "start_time": "2022-11-21T10:25:58.689Z"
   },
   {
    "duration": 4,
    "start_time": "2022-11-21T10:25:59.016Z"
   },
   {
    "duration": 52,
    "start_time": "2022-11-21T10:25:59.349Z"
   },
   {
    "duration": 23,
    "start_time": "2022-11-21T10:25:59.705Z"
   },
   {
    "duration": 168,
    "start_time": "2022-11-21T10:26:00.406Z"
   },
   {
    "duration": 12,
    "start_time": "2022-11-21T10:26:00.757Z"
   },
   {
    "duration": 14,
    "start_time": "2022-11-21T10:26:01.090Z"
   },
   {
    "duration": 132,
    "start_time": "2022-11-21T10:26:01.779Z"
   },
   {
    "duration": 9,
    "start_time": "2022-11-21T10:26:02.124Z"
   },
   {
    "duration": 8,
    "start_time": "2022-11-21T10:26:02.478Z"
   },
   {
    "duration": 15,
    "start_time": "2022-11-21T10:26:02.853Z"
   },
   {
    "duration": 827,
    "start_time": "2022-11-21T10:26:03.031Z"
   },
   {
    "duration": 187,
    "start_time": "2022-11-21T10:26:03.861Z"
   },
   {
    "duration": 11,
    "start_time": "2022-11-21T10:26:04.094Z"
   },
   {
    "duration": 10,
    "start_time": "2022-11-21T10:26:04.446Z"
   },
   {
    "duration": 4,
    "start_time": "2022-11-21T10:26:04.791Z"
   },
   {
    "duration": 9,
    "start_time": "2022-11-21T10:26:05.171Z"
   },
   {
    "duration": 11,
    "start_time": "2022-11-21T10:26:05.552Z"
   },
   {
    "duration": 28,
    "start_time": "2022-11-21T10:26:05.931Z"
   },
   {
    "duration": 12,
    "start_time": "2022-11-21T10:26:06.313Z"
   },
   {
    "duration": 3,
    "start_time": "2022-11-21T10:26:06.923Z"
   },
   {
    "duration": 6,
    "start_time": "2022-11-21T10:26:07.090Z"
   },
   {
    "duration": 10,
    "start_time": "2022-11-21T10:26:07.454Z"
   },
   {
    "duration": 5,
    "start_time": "2022-11-21T10:26:08.885Z"
   },
   {
    "duration": 123,
    "start_time": "2022-11-21T10:26:09.243Z"
   },
   {
    "duration": 951,
    "start_time": "2022-11-21T10:26:09.645Z"
   },
   {
    "duration": 280,
    "start_time": "2022-11-21T10:26:10.598Z"
   },
   {
    "duration": 102,
    "start_time": "2022-11-21T10:26:10.880Z"
   },
   {
    "duration": 13,
    "start_time": "2022-11-21T10:26:11.347Z"
   },
   {
    "duration": 17,
    "start_time": "2022-11-21T10:26:12.184Z"
   },
   {
    "duration": 6,
    "start_time": "2022-11-21T10:26:12.926Z"
   },
   {
    "duration": 37,
    "start_time": "2022-11-21T10:26:13.451Z"
   },
   {
    "duration": 4,
    "start_time": "2022-11-21T10:26:13.814Z"
   },
   {
    "duration": 13,
    "start_time": "2022-11-21T10:26:14.185Z"
   },
   {
    "duration": 106,
    "start_time": "2022-11-21T10:26:15.280Z"
   },
   {
    "duration": 11,
    "start_time": "2022-11-21T10:26:15.679Z"
   },
   {
    "duration": 5,
    "start_time": "2022-11-21T10:26:15.866Z"
   },
   {
    "duration": 12,
    "start_time": "2022-11-21T10:26:16.236Z"
   },
   {
    "duration": 14,
    "start_time": "2022-11-21T10:26:20.571Z"
   },
   {
    "duration": 15,
    "start_time": "2022-11-21T10:26:24.038Z"
   },
   {
    "duration": 28,
    "start_time": "2022-11-21T10:26:46.607Z"
   },
   {
    "duration": 29,
    "start_time": "2022-11-21T10:26:47.185Z"
   },
   {
    "duration": 15,
    "start_time": "2022-11-21T10:28:10.751Z"
   },
   {
    "duration": 9,
    "start_time": "2022-11-21T10:28:12.245Z"
   },
   {
    "duration": 7,
    "start_time": "2022-11-21T10:28:15.069Z"
   },
   {
    "duration": 4,
    "start_time": "2022-11-21T10:28:42.410Z"
   },
   {
    "duration": 5,
    "start_time": "2022-11-21T10:28:42.622Z"
   },
   {
    "duration": 179,
    "start_time": "2022-11-21T10:28:59.605Z"
   },
   {
    "duration": 426,
    "start_time": "2022-11-21T10:33:13.958Z"
   },
   {
    "duration": 23,
    "start_time": "2022-11-21T10:33:16.785Z"
   },
   {
    "duration": 5,
    "start_time": "2022-11-21T10:33:20.536Z"
   },
   {
    "duration": 5,
    "start_time": "2022-11-21T10:33:23.893Z"
   }
  ],
  "kernelspec": {
   "display_name": "Python 3 (ipykernel)",
   "language": "python",
   "name": "python3"
  },
  "language_info": {
   "codemirror_mode": {
    "name": "ipython",
    "version": 3
   },
   "file_extension": ".py",
   "mimetype": "text/x-python",
   "name": "python",
   "nbconvert_exporter": "python",
   "pygments_lexer": "ipython3",
   "version": "3.9.12"
  },
  "toc": {
   "base_numbering": 1,
   "nav_menu": {},
   "number_sections": true,
   "sideBar": true,
   "skip_h1_title": true,
   "title_cell": "Содержание",
   "title_sidebar": "Contents",
   "toc_cell": true,
   "toc_position": {
    "height": "calc(100% - 180px)",
    "left": "10px",
    "top": "150px",
    "width": "384px"
   },
   "toc_section_display": true,
   "toc_window_display": true
  }
 },
 "nbformat": 4,
 "nbformat_minor": 5
}
