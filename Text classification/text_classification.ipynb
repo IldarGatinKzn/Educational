{
 "cells": [
  {
   "cell_type": "markdown",
   "id": "15d90507",
   "metadata": {
    "toc": true
   },
   "source": [
    "<h1>Содержание<span class=\"tocSkip\"></span></h1>\n",
    "<div class=\"toc\"><ul class=\"toc-item\"><li><span><a href=\"#Описание-проекта\" data-toc-modified-id=\"Описание-проекта-1\"><span class=\"toc-item-num\">1&nbsp;&nbsp;</span>Описание проекта</a></span><ul class=\"toc-item\"><li><span><a href=\"#Цель-проекта\" data-toc-modified-id=\"Цель-проекта-1.1\"><span class=\"toc-item-num\">1.1&nbsp;&nbsp;</span>Цель проекта</a></span></li><li><span><a href=\"#План-проекта\" data-toc-modified-id=\"План-проекта-1.2\"><span class=\"toc-item-num\">1.2&nbsp;&nbsp;</span>План проекта</a></span></li></ul></li><li><span><a href=\"#Подготовка-данных\" data-toc-modified-id=\"Подготовка-данных-2\"><span class=\"toc-item-num\">2&nbsp;&nbsp;</span>Подготовка данных</a></span><ul class=\"toc-item\"><li><span><a href=\"#Импорт-библиотек\" data-toc-modified-id=\"Импорт-библиотек-2.1\"><span class=\"toc-item-num\">2.1&nbsp;&nbsp;</span>Импорт библиотек</a></span></li><li><span><a href=\"#Загрузка-данных\" data-toc-modified-id=\"Загрузка-данных-2.2\"><span class=\"toc-item-num\">2.2&nbsp;&nbsp;</span>Загрузка данных</a></span></li><li><span><a href=\"#Обзор-данных\" data-toc-modified-id=\"Обзор-данных-2.3\"><span class=\"toc-item-num\">2.3&nbsp;&nbsp;</span>Обзор данных</a></span></li><li><span><a href=\"#Очистка-данных\" data-toc-modified-id=\"Очистка-данных-2.4\"><span class=\"toc-item-num\">2.4&nbsp;&nbsp;</span>Очистка данных</a></span></li><li><span><a href=\"#Вывод\" data-toc-modified-id=\"Вывод-2.5\"><span class=\"toc-item-num\">2.5&nbsp;&nbsp;</span>Вывод</a></span></li></ul></li><li><span><a href=\"#Создание-признаков-для-обучения\" data-toc-modified-id=\"Создание-признаков-для-обучения-3\"><span class=\"toc-item-num\">3&nbsp;&nbsp;</span>Создание признаков для обучения</a></span><ul class=\"toc-item\"><li><span><a href=\"#Создание-выборок\" data-toc-modified-id=\"Создание-выборок-3.1\"><span class=\"toc-item-num\">3.1&nbsp;&nbsp;</span>Создание выборок</a></span></li><li><span><a href=\"#Векторизация-текстов\" data-toc-modified-id=\"Векторизация-текстов-3.2\"><span class=\"toc-item-num\">3.2&nbsp;&nbsp;</span>Векторизация текстов</a></span></li><li><span><a href=\"#Вывод\" data-toc-modified-id=\"Вывод-3.3\"><span class=\"toc-item-num\">3.3&nbsp;&nbsp;</span>Вывод</a></span></li></ul></li><li><span><a href=\"#Построение-моделей-со-взвешиванием-классов\" data-toc-modified-id=\"Построение-моделей-со-взвешиванием-классов-4\"><span class=\"toc-item-num\">4&nbsp;&nbsp;</span>Построение моделей со взвешиванием классов</a></span><ul class=\"toc-item\"><li><span><a href=\"#Логистическая-регрессия\" data-toc-modified-id=\"Логистическая-регрессия-4.1\"><span class=\"toc-item-num\">4.1&nbsp;&nbsp;</span>Логистическая регрессия</a></span></li><li><span><a href=\"#Дерево-решений\" data-toc-modified-id=\"Дерево-решений-4.2\"><span class=\"toc-item-num\">4.2&nbsp;&nbsp;</span>Дерево решений</a></span></li></ul></li><li><span><a href=\"#Построение-моделей-с-изменением-порога-классификации\" data-toc-modified-id=\"Построение-моделей-с-изменением-порога-классификации-5\"><span class=\"toc-item-num\">5&nbsp;&nbsp;</span>Построение моделей с изменением порога классификации</a></span></li><li><span><a href=\"#Проверка-модели-на-тестовых-данных\" data-toc-modified-id=\"Проверка-модели-на-тестовых-данных-6\"><span class=\"toc-item-num\">6&nbsp;&nbsp;</span>Проверка модели на тестовых данных</a></span></li><li><span><a href=\"#Вывод\" data-toc-modified-id=\"Вывод-7\"><span class=\"toc-item-num\">7&nbsp;&nbsp;</span>Вывод</a></span></li></ul></div>"
   ]
  },
  {
   "cell_type": "markdown",
   "id": "61bdd0bf",
   "metadata": {},
   "source": [
    "# Проект для «Викишоп»"
   ]
  },
  {
   "cell_type": "markdown",
   "id": "e272d53a",
   "metadata": {},
   "source": [
    "## Описание проекта"
   ]
  },
  {
   "cell_type": "markdown",
   "id": "96f0f12a",
   "metadata": {},
   "source": [
    "### Цель проекта"
   ]
  },
  {
   "cell_type": "markdown",
   "id": "d54aa9c1",
   "metadata": {},
   "source": [
    "Заказчиком проекта является интернет-магазин «Викишоп», который запускает новый сервис.\n",
    "\n",
    "Теперь пользователи могут редактировать и дополнять описания товаров, как в вики-сообществах. То есть клиенты предлагают свои правки и комментируют изменения других. Магазину нужен инструмент, который будет искать токсичные комментарии и отправлять их на модерацию.\n",
    "\n",
    "Целью проекта является построение модели машинного обучения, которая сможет классифицировать комментарии на позитивные и негативные. В качестве исходных данных имеется набор данных с разметкой о токсичности правок.\n",
    "\n",
    "Согласно техническому заданию метрика качества модели F1 должна быть не меньше 0.75."
   ]
  },
  {
   "cell_type": "markdown",
   "id": "ea868d7b",
   "metadata": {},
   "source": [
    "### План проекта"
   ]
  },
  {
   "cell_type": "markdown",
   "id": "8f3c5657",
   "metadata": {},
   "source": [
    "Решение поставленной задачи начнём со знакомства с исходными данными. Выполним предобработку данных, подготовим их к обучению.\n",
    "\n",
    "Лемматизацию текста выполним с помощью пакета *spacy*. Признаки для обучения моделей получим с помощью метода векторизации текстов *TF-IDF*.\n",
    "\n",
    "Далее построим несколько моделей. Качество моделей будет оценивать с помощью метрики *F1-мера* библиотеки *sklearn*.\n",
    "\n",
    "В качестве итоговой модели примем наиболее подходящую под запрос заказчика."
   ]
  },
  {
   "cell_type": "markdown",
   "id": "4f200d9d",
   "metadata": {},
   "source": [
    "## Подготовка данных"
   ]
  },
  {
   "cell_type": "markdown",
   "id": "8cf1221d",
   "metadata": {},
   "source": [
    "### Импорт библиотек"
   ]
  },
  {
   "cell_type": "code",
   "execution_count": 1,
   "id": "5f59b6d6",
   "metadata": {},
   "outputs": [],
   "source": [
    "import os\n",
    "\n",
    "import numpy as np\n",
    "import pandas as pd\n",
    "\n",
    "from tqdm import tqdm\n",
    "\n",
    "from sklearn.model_selection import train_test_split\n",
    "from sklearn.tree import DecisionTreeClassifier\n",
    "from sklearn.ensemble import RandomForestClassifier\n",
    "from sklearn.linear_model import LogisticRegression\n",
    "from sklearn.metrics import f1_score\n",
    "from sklearn.feature_extraction.text import TfidfVectorizer\n",
    "\n",
    "import re\n",
    "\n",
    "import spacy"
   ]
  },
  {
   "cell_type": "markdown",
   "id": "7c229a08",
   "metadata": {},
   "source": [
    "### Загрузка данных"
   ]
  },
  {
   "cell_type": "code",
   "execution_count": 2,
   "id": "71a200d2",
   "metadata": {},
   "outputs": [
    {
     "name": "stdout",
     "output_type": "stream",
     "text": [
      "<class 'pandas.core.frame.DataFrame'>\n",
      "Int64Index: 159292 entries, 0 to 159450\n",
      "Data columns (total 2 columns):\n",
      " #   Column  Non-Null Count   Dtype \n",
      "---  ------  --------------   ----- \n",
      " 0   text    159292 non-null  object\n",
      " 1   toxic   159292 non-null  int64 \n",
      "dtypes: int64(1), object(1)\n",
      "memory usage: 3.6+ MB\n"
     ]
    }
   ],
   "source": [
    "# loading data\n",
    "pth1 = r'D:\\Python\\Проекты\\Спринт16_текст\\toxic_comments.csv'\n",
    "df = pd.read_csv(pth1, index_col=0)\n",
    "\n",
    "# getting info about df\n",
    "df.info()"
   ]
  },
  {
   "cell_type": "markdown",
   "id": "a5864472",
   "metadata": {},
   "source": [
    "### Обзор данных"
   ]
  },
  {
   "cell_type": "code",
   "execution_count": 3,
   "id": "1b2d7b72",
   "metadata": {},
   "outputs": [
    {
     "data": {
      "text/html": [
       "<div>\n",
       "<style scoped>\n",
       "    .dataframe tbody tr th:only-of-type {\n",
       "        vertical-align: middle;\n",
       "    }\n",
       "\n",
       "    .dataframe tbody tr th {\n",
       "        vertical-align: top;\n",
       "    }\n",
       "\n",
       "    .dataframe thead th {\n",
       "        text-align: right;\n",
       "    }\n",
       "</style>\n",
       "<table border=\"1\" class=\"dataframe\">\n",
       "  <thead>\n",
       "    <tr style=\"text-align: right;\">\n",
       "      <th></th>\n",
       "      <th>text</th>\n",
       "      <th>toxic</th>\n",
       "    </tr>\n",
       "  </thead>\n",
       "  <tbody>\n",
       "    <tr>\n",
       "      <th>0</th>\n",
       "      <td>Explanation\\nWhy the edits made under my usern...</td>\n",
       "      <td>0</td>\n",
       "    </tr>\n",
       "    <tr>\n",
       "      <th>1</th>\n",
       "      <td>D'aww! He matches this background colour I'm s...</td>\n",
       "      <td>0</td>\n",
       "    </tr>\n",
       "    <tr>\n",
       "      <th>2</th>\n",
       "      <td>Hey man, I'm really not trying to edit war. It...</td>\n",
       "      <td>0</td>\n",
       "    </tr>\n",
       "    <tr>\n",
       "      <th>3</th>\n",
       "      <td>\"\\nMore\\nI can't make any real suggestions on ...</td>\n",
       "      <td>0</td>\n",
       "    </tr>\n",
       "    <tr>\n",
       "      <th>4</th>\n",
       "      <td>You, sir, are my hero. Any chance you remember...</td>\n",
       "      <td>0</td>\n",
       "    </tr>\n",
       "  </tbody>\n",
       "</table>\n",
       "</div>"
      ],
      "text/plain": [
       "                                                text  toxic\n",
       "0  Explanation\\nWhy the edits made under my usern...      0\n",
       "1  D'aww! He matches this background colour I'm s...      0\n",
       "2  Hey man, I'm really not trying to edit war. It...      0\n",
       "3  \"\\nMore\\nI can't make any real suggestions on ...      0\n",
       "4  You, sir, are my hero. Any chance you remember...      0"
      ]
     },
     "execution_count": 3,
     "metadata": {},
     "output_type": "execute_result"
    }
   ],
   "source": [
    "# viewing the top rows\n",
    "df.head()"
   ]
  },
  {
   "cell_type": "code",
   "execution_count": 4,
   "id": "b1ab2818",
   "metadata": {},
   "outputs": [
    {
     "data": {
      "text/html": [
       "<div>\n",
       "<style scoped>\n",
       "    .dataframe tbody tr th:only-of-type {\n",
       "        vertical-align: middle;\n",
       "    }\n",
       "\n",
       "    .dataframe tbody tr th {\n",
       "        vertical-align: top;\n",
       "    }\n",
       "\n",
       "    .dataframe thead th {\n",
       "        text-align: right;\n",
       "    }\n",
       "</style>\n",
       "<table border=\"1\" class=\"dataframe\">\n",
       "  <thead>\n",
       "    <tr style=\"text-align: right;\">\n",
       "      <th></th>\n",
       "      <th>text</th>\n",
       "      <th>toxic</th>\n",
       "    </tr>\n",
       "  </thead>\n",
       "  <tbody>\n",
       "    <tr>\n",
       "      <th>159446</th>\n",
       "      <td>\":::::And for the second time of asking, when ...</td>\n",
       "      <td>0</td>\n",
       "    </tr>\n",
       "    <tr>\n",
       "      <th>159447</th>\n",
       "      <td>You should be ashamed of yourself \\n\\nThat is ...</td>\n",
       "      <td>0</td>\n",
       "    </tr>\n",
       "    <tr>\n",
       "      <th>159448</th>\n",
       "      <td>Spitzer \\n\\nUmm, theres no actual article for ...</td>\n",
       "      <td>0</td>\n",
       "    </tr>\n",
       "    <tr>\n",
       "      <th>159449</th>\n",
       "      <td>And it looks like it was actually you who put ...</td>\n",
       "      <td>0</td>\n",
       "    </tr>\n",
       "    <tr>\n",
       "      <th>159450</th>\n",
       "      <td>\"\\nAnd ... I really don't think you understand...</td>\n",
       "      <td>0</td>\n",
       "    </tr>\n",
       "  </tbody>\n",
       "</table>\n",
       "</div>"
      ],
      "text/plain": [
       "                                                     text  toxic\n",
       "159446  \":::::And for the second time of asking, when ...      0\n",
       "159447  You should be ashamed of yourself \\n\\nThat is ...      0\n",
       "159448  Spitzer \\n\\nUmm, theres no actual article for ...      0\n",
       "159449  And it looks like it was actually you who put ...      0\n",
       "159450  \"\\nAnd ... I really don't think you understand...      0"
      ]
     },
     "execution_count": 4,
     "metadata": {},
     "output_type": "execute_result"
    }
   ],
   "source": [
    "# viewing the last rows\n",
    "df.tail()"
   ]
  },
  {
   "cell_type": "markdown",
   "id": "9720546a",
   "metadata": {},
   "source": [
    "Исследуем баланс классов."
   ]
  },
  {
   "cell_type": "code",
   "execution_count": 5,
   "id": "0fe773f4",
   "metadata": {},
   "outputs": [
    {
     "data": {
      "text/plain": [
       "0    143106\n",
       "1     16186\n",
       "Name: toxic, dtype: int64"
      ]
     },
     "execution_count": 5,
     "metadata": {},
     "output_type": "execute_result"
    }
   ],
   "source": [
    "# counting values\n",
    "df['toxic'].value_counts()"
   ]
  },
  {
   "cell_type": "markdown",
   "id": "290bea25",
   "metadata": {},
   "source": [
    "Наблюдается очевидный дисбаланс классов."
   ]
  },
  {
   "cell_type": "markdown",
   "id": "63ada9d0",
   "metadata": {},
   "source": [
    "### Очистка данных"
   ]
  },
  {
   "cell_type": "markdown",
   "id": "dd36db33",
   "metadata": {},
   "source": [
    "Создадим класс для лемматизации."
   ]
  },
  {
   "cell_type": "code",
   "execution_count": 6,
   "id": "cb7aa9bc",
   "metadata": {},
   "outputs": [],
   "source": [
    "# Initializing spacy model\n",
    "nlp = spacy.load('en_core_web_sm', disable=['parser', 'ner'])"
   ]
  },
  {
   "cell_type": "markdown",
   "id": "9dbe0023",
   "metadata": {},
   "source": [
    "Напишем функцию, которая сначала с помощью регулярного выражения очистит текст от лишних символов, затем вернёт лемму каждого слова и объединит элементы получившего списка слов, разделив их пробелом."
   ]
  },
  {
   "cell_type": "code",
   "execution_count": 7,
   "id": "ad77c235",
   "metadata": {},
   "outputs": [],
   "source": [
    "# building a function\n",
    "def prepare(row):\n",
    "    \n",
    "    # cleaning text\n",
    "    row = re.sub(r'[^a-zA-Z\\']', ' ', row)\n",
    "    \n",
    "    # parsing the sentences\n",
    "    doc = nlp(row)\n",
    "    \n",
    "    # joining words\n",
    "    return ' '.join(token.lemma_ for token in doc)"
   ]
  },
  {
   "cell_type": "markdown",
   "id": "e9eb66d8",
   "metadata": {},
   "source": [
    "Применим функцию к датасету и проверим результат."
   ]
  },
  {
   "cell_type": "code",
   "execution_count": 8,
   "id": "3f36ccda",
   "metadata": {},
   "outputs": [
    {
     "name": "stdout",
     "output_type": "stream",
     "text": [
      "CPU times: total: 10min 56s\n",
      "Wall time: 10min 56s\n"
     ]
    },
    {
     "data": {
      "text/html": [
       "<div>\n",
       "<style scoped>\n",
       "    .dataframe tbody tr th:only-of-type {\n",
       "        vertical-align: middle;\n",
       "    }\n",
       "\n",
       "    .dataframe tbody tr th {\n",
       "        vertical-align: top;\n",
       "    }\n",
       "\n",
       "    .dataframe thead th {\n",
       "        text-align: right;\n",
       "    }\n",
       "</style>\n",
       "<table border=\"1\" class=\"dataframe\">\n",
       "  <thead>\n",
       "    <tr style=\"text-align: right;\">\n",
       "      <th></th>\n",
       "      <th>text</th>\n",
       "      <th>toxic</th>\n",
       "      <th>lemtext</th>\n",
       "    </tr>\n",
       "  </thead>\n",
       "  <tbody>\n",
       "    <tr>\n",
       "      <th>0</th>\n",
       "      <td>Explanation\\nWhy the edits made under my usern...</td>\n",
       "      <td>0</td>\n",
       "      <td>Explanation why the edit make under my usernam...</td>\n",
       "    </tr>\n",
       "    <tr>\n",
       "      <th>1</th>\n",
       "      <td>D'aww! He matches this background colour I'm s...</td>\n",
       "      <td>0</td>\n",
       "      <td>D'aww   he match this background colour I be s...</td>\n",
       "    </tr>\n",
       "    <tr>\n",
       "      <th>2</th>\n",
       "      <td>Hey man, I'm really not trying to edit war. It...</td>\n",
       "      <td>0</td>\n",
       "      <td>hey man   I be really not try to edit war   it...</td>\n",
       "    </tr>\n",
       "    <tr>\n",
       "      <th>3</th>\n",
       "      <td>\"\\nMore\\nI can't make any real suggestions on ...</td>\n",
       "      <td>0</td>\n",
       "      <td>More I can not make any real suggestion on ...</td>\n",
       "    </tr>\n",
       "    <tr>\n",
       "      <th>4</th>\n",
       "      <td>You, sir, are my hero. Any chance you remember...</td>\n",
       "      <td>0</td>\n",
       "      <td>you   sir   be my hero   any chance you rememb...</td>\n",
       "    </tr>\n",
       "  </tbody>\n",
       "</table>\n",
       "</div>"
      ],
      "text/plain": [
       "                                                text  toxic  \\\n",
       "0  Explanation\\nWhy the edits made under my usern...      0   \n",
       "1  D'aww! He matches this background colour I'm s...      0   \n",
       "2  Hey man, I'm really not trying to edit war. It...      0   \n",
       "3  \"\\nMore\\nI can't make any real suggestions on ...      0   \n",
       "4  You, sir, are my hero. Any chance you remember...      0   \n",
       "\n",
       "                                             lemtext  \n",
       "0  Explanation why the edit make under my usernam...  \n",
       "1  D'aww   he match this background colour I be s...  \n",
       "2  hey man   I be really not try to edit war   it...  \n",
       "3     More I can not make any real suggestion on ...  \n",
       "4  you   sir   be my hero   any chance you rememb...  "
      ]
     },
     "execution_count": 8,
     "metadata": {},
     "output_type": "execute_result"
    }
   ],
   "source": [
    "%%time\n",
    "\n",
    "# creating new column using function\n",
    "df['lemtext'] = df['text'].apply(prepare)\n",
    "\n",
    "# viewing the top rows\n",
    "df.head()"
   ]
  },
  {
   "cell_type": "markdown",
   "id": "dcc9a060",
   "metadata": {},
   "source": [
    "Выведем полностью исходный текст первой строки."
   ]
  },
  {
   "cell_type": "code",
   "execution_count": 9,
   "id": "b1f71f81",
   "metadata": {},
   "outputs": [
    {
     "data": {
      "text/plain": [
       "\"Explanation\\nWhy the edits made under my username Hardcore Metallica Fan were reverted? They weren't vandalisms, just closure on some GAs after I voted at New York Dolls FAC. And please don't remove the template from the talk page since I'm retired now.89.205.38.27\""
      ]
     },
     "execution_count": 9,
     "metadata": {},
     "output_type": "execute_result"
    }
   ],
   "source": [
    "df['text'][0]"
   ]
  },
  {
   "cell_type": "markdown",
   "id": "56fd0166",
   "metadata": {},
   "source": [
    "Для сравнения выведем полностью преобразованный текст первой строки."
   ]
  },
  {
   "cell_type": "code",
   "execution_count": 10,
   "id": "a7ffa891",
   "metadata": {},
   "outputs": [
    {
     "data": {
      "text/plain": [
       "'Explanation why the edit make under my username Hardcore Metallica Fan be revert   they be not vandalism   just closure on some gas after I vote at New York Dolls FAC   and please do not remove the template from the talk page since I be retire now             '"
      ]
     },
     "execution_count": 10,
     "metadata": {},
     "output_type": "execute_result"
    }
   ],
   "source": [
    "df['lemtext'][0]"
   ]
  },
  {
   "cell_type": "markdown",
   "id": "0ed8372b",
   "metadata": {},
   "source": [
    "Лемматизация выполнена корректно."
   ]
  },
  {
   "cell_type": "markdown",
   "id": "e8d917cb",
   "metadata": {},
   "source": [
    "### Вывод"
   ]
  },
  {
   "cell_type": "markdown",
   "id": "89ef06ce",
   "metadata": {},
   "source": [
    "В качестве исходных данных имеется корпус англоязычных текстов с разметкой. Количество строк - более 150 тысяч.\n",
    "\n",
    "Целевой признак - `toxic`, который размечает тексты на положительный и отрицательный тон.\n",
    "\n",
    "В данных имеется сильный дисбаланс: отрицательных классов примерно в 10 раз меньше чем положительных.\n",
    "\n",
    "В ходе подготовки данных выполнена очистка текстов от лишних символов и лемматизация."
   ]
  },
  {
   "cell_type": "markdown",
   "id": "9a0d6a8b",
   "metadata": {},
   "source": [
    "## Создание признаков для обучения"
   ]
  },
  {
   "cell_type": "markdown",
   "id": "468dbeee",
   "metadata": {},
   "source": [
    "### Создание выборок"
   ]
  },
  {
   "cell_type": "code",
   "execution_count": 11,
   "id": "621db352",
   "metadata": {},
   "outputs": [],
   "source": [
    "# creating the variable with features\n",
    "features = df['lemtext']\n",
    "\n",
    "# creating the variable with target\n",
    "target = df['toxic']"
   ]
  },
  {
   "cell_type": "code",
   "execution_count": 12,
   "id": "dff4c480",
   "metadata": {},
   "outputs": [],
   "source": [
    "# creating train and test samples\n",
    "features_train, features_test, y_train, y_test = train_test_split(\n",
    "    features, target, test_size=.2, random_state=12345)\n",
    "\n",
    "# creating train and validation samples\n",
    "features_train, features_valid, y_train, y_valid = train_test_split(\n",
    "    features_train, y_train, test_size=.2, random_state=12345)"
   ]
  },
  {
   "cell_type": "markdown",
   "id": "1489705a",
   "metadata": {},
   "source": [
    "### Векторизация текстов"
   ]
  },
  {
   "cell_type": "markdown",
   "id": "8b12c143",
   "metadata": {},
   "source": [
    "Получим признаки для обучения модели с помощью векторизации текста.\n",
    "\n",
    "Векторизацию текста выполним с помощью TF-IDF, используем для этого класс *TfidfVectorizer()* из библиотеки *sklearn*.\n",
    "\n",
    "Для начала создадим счётчик, указав в нём стоп-слова."
   ]
  },
  {
   "cell_type": "code",
   "execution_count": 13,
   "id": "dea9b795",
   "metadata": {},
   "outputs": [],
   "source": [
    "count_tf_idf = TfidfVectorizer(stop_words={'english'}, sublinear_tf=True, min_df=15, ngram_range=(1, 2))"
   ]
  },
  {
   "cell_type": "markdown",
   "id": "68535328",
   "metadata": {},
   "source": [
    "Обучим векторайзер на тренировочных данных."
   ]
  },
  {
   "cell_type": "code",
   "execution_count": 14,
   "id": "6b1dcfdf",
   "metadata": {},
   "outputs": [],
   "source": [
    "vectorizer = count_tf_idf.fit(features_train)"
   ]
  },
  {
   "cell_type": "markdown",
   "id": "5f970c96",
   "metadata": {},
   "source": [
    "Применим векторайзер к валидационным и тестовым данным и выведем на экран размеры обучающих данных для всех выборок."
   ]
  },
  {
   "cell_type": "code",
   "execution_count": 15,
   "id": "51c34d12",
   "metadata": {},
   "outputs": [
    {
     "data": {
      "text/plain": [
       "((101946, 50991), (25487, 50991), (31859, 50991))"
      ]
     },
     "execution_count": 15,
     "metadata": {},
     "output_type": "execute_result"
    }
   ],
   "source": [
    "x_train = vectorizer.transform(features_train)\n",
    "x_valid = vectorizer.transform(features_valid)\n",
    "x_test = vectorizer.transform(features_test)\n",
    "\n",
    "x_train.shape, x_valid.shape, x_test.shape"
   ]
  },
  {
   "cell_type": "markdown",
   "id": "1bd69488",
   "metadata": {},
   "source": [
    "### Вывод"
   ]
  },
  {
   "cell_type": "markdown",
   "id": "4ebff8fa",
   "metadata": {},
   "source": [
    "Признаки для обучения моделей созданы с помощью метода *TF-IDF*.\n",
    "\n",
    "Для обучения моделей подготовлены тренировочная, валидационная и тестовая выборки."
   ]
  },
  {
   "cell_type": "markdown",
   "id": "c5b1799a",
   "metadata": {},
   "source": [
    "## Построение моделей со взвешиванием классов"
   ]
  },
  {
   "cell_type": "markdown",
   "id": "519eb8e9",
   "metadata": {},
   "source": [
    "### Логистическая регрессия"
   ]
  },
  {
   "cell_type": "code",
   "execution_count": 16,
   "id": "6cc0c7f2",
   "metadata": {},
   "outputs": [
    {
     "name": "stdout",
     "output_type": "stream",
     "text": [
      "F1-мера логистической регрессии на валидационных данных: 0.7530099759201927\n"
     ]
    }
   ],
   "source": [
    "model_log = LogisticRegression(random_state=12345, max_iter=1000, class_weight='balanced')\n",
    "model_log.fit(x_train, y_train)\n",
    "predictions_log = model_log.predict(x_valid)\n",
    "result_log = f1_score(y_valid, predictions_log)\n",
    "\n",
    "print(\"F1-мера логистической регрессии на валидационных данных:\", result_log)"
   ]
  },
  {
   "cell_type": "markdown",
   "id": "877cc967",
   "metadata": {},
   "source": [
    "### Дерево решений"
   ]
  },
  {
   "cell_type": "code",
   "execution_count": 17,
   "id": "3029a470",
   "metadata": {},
   "outputs": [
    {
     "name": "stdout",
     "output_type": "stream",
     "text": [
      "F1-мера, посчитанная на валидационных данных: 0.49229821318545913\n"
     ]
    }
   ],
   "source": [
    "model_tree = DecisionTreeClassifier(random_state=12345, max_depth=10, class_weight='balanced')\n",
    "model_tree.fit(x_train, y_train)\n",
    "predictions_tree = model_tree.predict(x_valid)\n",
    "result_tree = f1_score(y_valid, predictions_tree)\n",
    "\n",
    "print(\"F1-мера, посчитанная на валидационных данных:\", result_tree)"
   ]
  },
  {
   "cell_type": "markdown",
   "id": "53342ed3",
   "metadata": {},
   "source": [
    "Качество моделей - неудовлетворительное."
   ]
  },
  {
   "cell_type": "markdown",
   "id": "52293467",
   "metadata": {},
   "source": [
    "## Построение моделей с изменением порога классификации"
   ]
  },
  {
   "cell_type": "markdown",
   "id": "126afb23",
   "metadata": {},
   "source": [
    "Определим с помощью цикла оптимальное значение порога классификации."
   ]
  },
  {
   "cell_type": "code",
   "execution_count": 18,
   "id": "42ab5e64",
   "metadata": {},
   "outputs": [
    {
     "name": "stdout",
     "output_type": "stream",
     "text": [
      "F1-мера логистической регрессии на валидационных данных: 0.7800471327572662\n",
      "Значение порога вероятности классов лучшей модели: 0.23999999999999994\n"
     ]
    }
   ],
   "source": [
    "model_log = LogisticRegression(random_state=12345, max_iter=1000)\n",
    "model_log.fit(x_train, y_train)\n",
    "predictions_log = model_log.predict_proba(x_valid)\n",
    "proba_log = predictions_log[:, 1]\n",
    "\n",
    "result_log_threshold = 0\n",
    "log_threshold = 0\n",
    "\n",
    "for threshold in np.arange(0.1, 0.43, 0.01):\n",
    "    predict_log = proba_log > threshold\n",
    "    result_log = f1_score(y_valid, predict_log)\n",
    "    if result_log > result_log_threshold:\n",
    "        result_log_threshold = result_log\n",
    "        log_threshold = threshold\n",
    "    \n",
    "\n",
    "print(\"F1-мера логистической регрессии на валидационных данных:\", result_log_threshold)\n",
    "print(\"Значение порога вероятности классов лучшей модели:\", log_threshold)"
   ]
  },
  {
   "cell_type": "markdown",
   "id": "3587520b",
   "metadata": {},
   "source": [
    "Проверим качество построенной модели логистической регрессии на валидационных данных."
   ]
  },
  {
   "cell_type": "code",
   "execution_count": 21,
   "id": "9a50f672",
   "metadata": {},
   "outputs": [
    {
     "name": "stdout",
     "output_type": "stream",
     "text": [
      "F1-мера логистической регрессии на валидационных данных: 0.7800471327572662\n"
     ]
    }
   ],
   "source": [
    "model_log = LogisticRegression(random_state=12345, max_iter=1000)\n",
    "model_log.fit(x_train, y_train)\n",
    "predictions_log = model_log.predict_proba(x_valid)\n",
    "proba_log = predictions_log[:, 1]\n",
    "\n",
    "predict_log = proba_log > 0.24\n",
    "result_log = f1_score(y_valid, predict_log)\n",
    "\n",
    "print(\"F1-мера логистической регрессии на валидационных данных:\", result_log)"
   ]
  },
  {
   "cell_type": "markdown",
   "id": "08e6eb2b",
   "metadata": {},
   "source": [
    "**Вывод**.\n",
    "\n",
    "Модель логистической регрессии с порогом классификации 0.24 имеет качество предсказаний выше заданного."
   ]
  },
  {
   "cell_type": "markdown",
   "id": "2b7f62c7",
   "metadata": {},
   "source": [
    "## Проверка модели на тестовых данных"
   ]
  },
  {
   "cell_type": "code",
   "execution_count": 22,
   "id": "e45db61e",
   "metadata": {},
   "outputs": [
    {
     "name": "stdout",
     "output_type": "stream",
     "text": [
      "F1-мера логистической регрессии на тестовых данных: 0.7883507241862638\n"
     ]
    }
   ],
   "source": [
    "predictions_log = model_log.predict_proba(x_test)\n",
    "proba_log = predictions_log[:, 1]\n",
    "\n",
    "predict_log = proba_log > 0.24\n",
    "result_log = f1_score(y_test, predict_log)\n",
    "\n",
    "print(\"F1-мера логистической регрессии на тестовых данных:\", result_log)"
   ]
  },
  {
   "cell_type": "markdown",
   "id": "cf095b23",
   "metadata": {},
   "source": [
    "## Вывод"
   ]
  },
  {
   "cell_type": "markdown",
   "id": "4b021209",
   "metadata": {},
   "source": [
    "Здачей проекта была бинарная классификация текста, полученного из комментариев интернет-магазина заказчика.\n",
    "\n",
    "Для выполнения задачи исходный текст был закодирован или векторизован, т.е. преобразован в цифры.\n",
    "\n",
    "Сначала текст был очищен от лишних символов с помощью регулярного выражения. Далее была выполнена лемматизация и последующее объединение списка слов.\n",
    "\n",
    "Векторизация текста была выполнена на основе оценки важности слов *TF-IDF*. После этого данные были поделены на обучающий и тестовый наборы.\n",
    "\n",
    "Решения поставленной задачи выполнено с помощью модели логистической регрессии с порогом классификации 0.24.\n",
    "\n",
    "Значение метрики *F1-мера* построенной модели на валидационных и тестовых данных превышает 0.75."
   ]
  }
 ],
 "metadata": {
  "kernelspec": {
   "display_name": "Python 3 (ipykernel)",
   "language": "python",
   "name": "python3"
  },
  "language_info": {
   "codemirror_mode": {
    "name": "ipython",
    "version": 3
   },
   "file_extension": ".py",
   "mimetype": "text/x-python",
   "name": "python",
   "nbconvert_exporter": "python",
   "pygments_lexer": "ipython3",
   "version": "3.9.12"
  },
  "toc": {
   "base_numbering": 1,
   "nav_menu": {},
   "number_sections": true,
   "sideBar": true,
   "skip_h1_title": true,
   "title_cell": "Содержание",
   "title_sidebar": "Contents",
   "toc_cell": true,
   "toc_position": {
    "height": "calc(100% - 180px)",
    "left": "10px",
    "top": "150px",
    "width": "384px"
   },
   "toc_section_display": true,
   "toc_window_display": true
  }
 },
 "nbformat": 4,
 "nbformat_minor": 5
}
