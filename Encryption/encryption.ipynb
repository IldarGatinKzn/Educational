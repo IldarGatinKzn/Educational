{
 "cells": [
  {
   "cell_type": "markdown",
   "id": "33b2ae3c",
   "metadata": {
    "toc": true
   },
   "source": [
    "<h1>Содержание<span class=\"tocSkip\"></span></h1>\n",
    "<div class=\"toc\"><ul class=\"toc-item\"><li><span><a href=\"#Описание-проекта\" data-toc-modified-id=\"Описание-проекта-1\"><span class=\"toc-item-num\">1&nbsp;&nbsp;</span>Описание проекта</a></span></li><li><span><a href=\"#Анализ-исходных-данных\" data-toc-modified-id=\"Анализ-исходных-данных-2\"><span class=\"toc-item-num\">2&nbsp;&nbsp;</span>Анализ исходных данных</a></span><ul class=\"toc-item\"><li><span><a href=\"#Импорт-библиотек\" data-toc-modified-id=\"Импорт-библиотек-2.1\"><span class=\"toc-item-num\">2.1&nbsp;&nbsp;</span>Импорт библиотек</a></span></li><li><span><a href=\"#Обзор-данных\" data-toc-modified-id=\"Обзор-данных-2.2\"><span class=\"toc-item-num\">2.2&nbsp;&nbsp;</span>Обзор данных</a></span></li><li><span><a href=\"#Подготовка-данных\" data-toc-modified-id=\"Подготовка-данных-2.3\"><span class=\"toc-item-num\">2.3&nbsp;&nbsp;</span>Подготовка данных</a></span></li><li><span><a href=\"#Изучение-данных\" data-toc-modified-id=\"Изучение-данных-2.4\"><span class=\"toc-item-num\">2.4&nbsp;&nbsp;</span>Изучение данных</a></span></li><li><span><a href=\"#Вывод\" data-toc-modified-id=\"Вывод-2.5\"><span class=\"toc-item-num\">2.5&nbsp;&nbsp;</span>Вывод</a></span></li></ul></li><li><span><a href=\"#Анализ-изменения-качества-линейной-регрессии-при-умножении-признаков-на-обратимую-матрицу\" data-toc-modified-id=\"Анализ-изменения-качества-линейной-регрессии-при-умножении-признаков-на-обратимую-матрицу-3\"><span class=\"toc-item-num\">3&nbsp;&nbsp;</span>Анализ изменения качества линейной регрессии при умножении признаков на обратимую матрицу</a></span><ul class=\"toc-item\"><li><span><a href=\"#Формулы-вычисления-предсказаний-линейной-регрессии\" data-toc-modified-id=\"Формулы-вычисления-предсказаний-линейной-регрессии-3.1\"><span class=\"toc-item-num\">3.1&nbsp;&nbsp;</span>Формулы вычисления предсказаний линейной регрессии</a></span></li><li><span><a href=\"#Алгоритм-преобразования-данных\" data-toc-modified-id=\"Алгоритм-преобразования-данных-3.2\"><span class=\"toc-item-num\">3.2&nbsp;&nbsp;</span>Алгоритм преобразования данных</a></span></li></ul></li><li><span><a href=\"#Проверка-алгоритма-преобразования-данных\" data-toc-modified-id=\"Проверка-алгоритма-преобразования-данных-4\"><span class=\"toc-item-num\">4&nbsp;&nbsp;</span>Проверка алгоритма преобразования данных</a></span><ul class=\"toc-item\"><li><span><a href=\"#Создание-класса-модели-линейной-регрессии\" data-toc-modified-id=\"Создание-класса-модели-линейной-регрессии-4.1\"><span class=\"toc-item-num\">4.1&nbsp;&nbsp;</span>Создание класса модели линейной регрессии</a></span></li><li><span><a href=\"#Построение-модели-на-исходных-данных\" data-toc-modified-id=\"Построение-модели-на-исходных-данных-4.2\"><span class=\"toc-item-num\">4.2&nbsp;&nbsp;</span>Построение модели на исходных данных</a></span></li><li><span><a href=\"#Построение-модели-на-преобразованных-данных\" data-toc-modified-id=\"Построение-модели-на-преобразованных-данных-4.3\"><span class=\"toc-item-num\">4.3&nbsp;&nbsp;</span>Построение модели на преобразованных данных</a></span></li><li><span><a href=\"#Вывод\" data-toc-modified-id=\"Вывод-4.4\"><span class=\"toc-item-num\">4.4&nbsp;&nbsp;</span>Вывод</a></span></li></ul></li><li><span><a href=\"#Функция-для-автоматического-преобразования-данных\" data-toc-modified-id=\"Функция-для-автоматического-преобразования-данных-5\"><span class=\"toc-item-num\">5&nbsp;&nbsp;</span>Функция для автоматического преобразования данных</a></span><ul class=\"toc-item\"><li><span><a href=\"#Создание-функции\" data-toc-modified-id=\"Создание-функции-5.1\"><span class=\"toc-item-num\">5.1&nbsp;&nbsp;</span>Создание функции</a></span></li><li><span><a href=\"#Проверка-функции\" data-toc-modified-id=\"Проверка-функции-5.2\"><span class=\"toc-item-num\">5.2&nbsp;&nbsp;</span>Проверка функции</a></span></li></ul></li><li><span><a href=\"#Вывод\" data-toc-modified-id=\"Вывод-6\"><span class=\"toc-item-num\">6&nbsp;&nbsp;</span>Вывод</a></span></li></ul></div>"
   ]
  },
  {
   "cell_type": "markdown",
   "id": "796e2f0f",
   "metadata": {},
   "source": [
    "# Защита персональных данных клиентов"
   ]
  },
  {
   "cell_type": "markdown",
   "id": "aa045dee",
   "metadata": {},
   "source": [
    "## Описание проекта"
   ]
  },
  {
   "cell_type": "markdown",
   "id": "f36dab06",
   "metadata": {},
   "source": [
    "Заказчиком проекта является страховая компания \"Хоть потоп\".\n",
    "\n",
    "Цель проекта - разработать метод преобразования персональных данных, по которому будет сложно восстановить персональную информацию. Качество моделей машинного обучения при этом не должно измениться.\n",
    "\n",
    "В качестве исходных данных предоставлена таблица с набором данных клиентов компании.\n",
    "\n",
    "Перейдём к знакомству с ними."
   ]
  },
  {
   "cell_type": "markdown",
   "id": "f99fb348",
   "metadata": {},
   "source": [
    "## Анализ исходных данных"
   ]
  },
  {
   "cell_type": "markdown",
   "id": "08da5084",
   "metadata": {},
   "source": [
    "### Импорт библиотек"
   ]
  },
  {
   "cell_type": "code",
   "execution_count": 1,
   "id": "7bb688fe",
   "metadata": {},
   "outputs": [],
   "source": [
    "import os\n",
    "\n",
    "import pandas as pd\n",
    "import numpy as np\n",
    "\n",
    "import pylab as pl\n",
    "import seaborn\n",
    "\n",
    "import random\n",
    "\n",
    "from sklearn.linear_model import LinearRegression\n",
    "from sklearn.metrics import r2_score\n",
    "from sklearn.model_selection import train_test_split"
   ]
  },
  {
   "cell_type": "markdown",
   "id": "245a610a",
   "metadata": {},
   "source": [
    "### Обзор данных"
   ]
  },
  {
   "cell_type": "markdown",
   "id": "d6908683",
   "metadata": {},
   "source": [
    "Загрузим в проект исходные данные."
   ]
  },
  {
   "cell_type": "code",
   "execution_count": 2,
   "id": "f42134ca",
   "metadata": {},
   "outputs": [],
   "source": [
    "# loading data\n",
    "pth1 = 'D:\\Python\\Проекты\\Спринт13_линал\\insurance.csv'\n",
    "df = pd.read_csv(pth1)"
   ]
  },
  {
   "cell_type": "markdown",
   "id": "6d4fbf74",
   "metadata": {},
   "source": [
    "Исходные данные успешно загружены.\n",
    "\n",
    "Выведем на экран информацию по датасету."
   ]
  },
  {
   "cell_type": "code",
   "execution_count": 3,
   "id": "24ea0ecc",
   "metadata": {},
   "outputs": [
    {
     "name": "stdout",
     "output_type": "stream",
     "text": [
      "<class 'pandas.core.frame.DataFrame'>\n",
      "RangeIndex: 5000 entries, 0 to 4999\n",
      "Data columns (total 5 columns):\n",
      " #   Column             Non-Null Count  Dtype  \n",
      "---  ------             --------------  -----  \n",
      " 0   Пол                5000 non-null   int64  \n",
      " 1   Возраст            5000 non-null   float64\n",
      " 2   Зарплата           5000 non-null   float64\n",
      " 3   Члены семьи        5000 non-null   int64  \n",
      " 4   Страховые выплаты  5000 non-null   int64  \n",
      "dtypes: float64(2), int64(3)\n",
      "memory usage: 195.4 KB\n"
     ]
    }
   ],
   "source": [
    "# getting info about Dataframe\n",
    "df.info()"
   ]
  },
  {
   "cell_type": "markdown",
   "id": "4e418a72",
   "metadata": {},
   "source": [
    "Посмотрим на несколько строчек таблицы."
   ]
  },
  {
   "cell_type": "code",
   "execution_count": 4,
   "id": "5b2a7b86",
   "metadata": {},
   "outputs": [
    {
     "data": {
      "text/html": [
       "<div>\n",
       "<style scoped>\n",
       "    .dataframe tbody tr th:only-of-type {\n",
       "        vertical-align: middle;\n",
       "    }\n",
       "\n",
       "    .dataframe tbody tr th {\n",
       "        vertical-align: top;\n",
       "    }\n",
       "\n",
       "    .dataframe thead th {\n",
       "        text-align: right;\n",
       "    }\n",
       "</style>\n",
       "<table border=\"1\" class=\"dataframe\">\n",
       "  <thead>\n",
       "    <tr style=\"text-align: right;\">\n",
       "      <th></th>\n",
       "      <th>Пол</th>\n",
       "      <th>Возраст</th>\n",
       "      <th>Зарплата</th>\n",
       "      <th>Члены семьи</th>\n",
       "      <th>Страховые выплаты</th>\n",
       "    </tr>\n",
       "  </thead>\n",
       "  <tbody>\n",
       "    <tr>\n",
       "      <th>0</th>\n",
       "      <td>1</td>\n",
       "      <td>41.0</td>\n",
       "      <td>49600.0</td>\n",
       "      <td>1</td>\n",
       "      <td>0</td>\n",
       "    </tr>\n",
       "    <tr>\n",
       "      <th>1</th>\n",
       "      <td>0</td>\n",
       "      <td>46.0</td>\n",
       "      <td>38000.0</td>\n",
       "      <td>1</td>\n",
       "      <td>1</td>\n",
       "    </tr>\n",
       "    <tr>\n",
       "      <th>2</th>\n",
       "      <td>0</td>\n",
       "      <td>29.0</td>\n",
       "      <td>21000.0</td>\n",
       "      <td>0</td>\n",
       "      <td>0</td>\n",
       "    </tr>\n",
       "    <tr>\n",
       "      <th>3</th>\n",
       "      <td>0</td>\n",
       "      <td>21.0</td>\n",
       "      <td>41700.0</td>\n",
       "      <td>2</td>\n",
       "      <td>0</td>\n",
       "    </tr>\n",
       "    <tr>\n",
       "      <th>4</th>\n",
       "      <td>1</td>\n",
       "      <td>28.0</td>\n",
       "      <td>26100.0</td>\n",
       "      <td>0</td>\n",
       "      <td>0</td>\n",
       "    </tr>\n",
       "  </tbody>\n",
       "</table>\n",
       "</div>"
      ],
      "text/plain": [
       "   Пол  Возраст  Зарплата  Члены семьи  Страховые выплаты\n",
       "0    1     41.0   49600.0            1                  0\n",
       "1    0     46.0   38000.0            1                  1\n",
       "2    0     29.0   21000.0            0                  0\n",
       "3    0     21.0   41700.0            2                  0\n",
       "4    1     28.0   26100.0            0                  0"
      ]
     },
     "execution_count": 4,
     "metadata": {},
     "output_type": "execute_result"
    }
   ],
   "source": [
    "# viewing the top rows\n",
    "df.head()"
   ]
  },
  {
   "cell_type": "code",
   "execution_count": 5,
   "id": "6f32b0ce",
   "metadata": {},
   "outputs": [
    {
     "data": {
      "text/html": [
       "<div>\n",
       "<style scoped>\n",
       "    .dataframe tbody tr th:only-of-type {\n",
       "        vertical-align: middle;\n",
       "    }\n",
       "\n",
       "    .dataframe tbody tr th {\n",
       "        vertical-align: top;\n",
       "    }\n",
       "\n",
       "    .dataframe thead th {\n",
       "        text-align: right;\n",
       "    }\n",
       "</style>\n",
       "<table border=\"1\" class=\"dataframe\">\n",
       "  <thead>\n",
       "    <tr style=\"text-align: right;\">\n",
       "      <th></th>\n",
       "      <th>Пол</th>\n",
       "      <th>Возраст</th>\n",
       "      <th>Зарплата</th>\n",
       "      <th>Члены семьи</th>\n",
       "      <th>Страховые выплаты</th>\n",
       "    </tr>\n",
       "  </thead>\n",
       "  <tbody>\n",
       "    <tr>\n",
       "      <th>count</th>\n",
       "      <td>5000.000000</td>\n",
       "      <td>5000.000000</td>\n",
       "      <td>5000.000000</td>\n",
       "      <td>5000.000000</td>\n",
       "      <td>5000.000000</td>\n",
       "    </tr>\n",
       "    <tr>\n",
       "      <th>mean</th>\n",
       "      <td>0.499000</td>\n",
       "      <td>30.952800</td>\n",
       "      <td>39916.360000</td>\n",
       "      <td>1.194200</td>\n",
       "      <td>0.148000</td>\n",
       "    </tr>\n",
       "    <tr>\n",
       "      <th>std</th>\n",
       "      <td>0.500049</td>\n",
       "      <td>8.440807</td>\n",
       "      <td>9900.083569</td>\n",
       "      <td>1.091387</td>\n",
       "      <td>0.463183</td>\n",
       "    </tr>\n",
       "    <tr>\n",
       "      <th>min</th>\n",
       "      <td>0.000000</td>\n",
       "      <td>18.000000</td>\n",
       "      <td>5300.000000</td>\n",
       "      <td>0.000000</td>\n",
       "      <td>0.000000</td>\n",
       "    </tr>\n",
       "    <tr>\n",
       "      <th>25%</th>\n",
       "      <td>0.000000</td>\n",
       "      <td>24.000000</td>\n",
       "      <td>33300.000000</td>\n",
       "      <td>0.000000</td>\n",
       "      <td>0.000000</td>\n",
       "    </tr>\n",
       "    <tr>\n",
       "      <th>50%</th>\n",
       "      <td>0.000000</td>\n",
       "      <td>30.000000</td>\n",
       "      <td>40200.000000</td>\n",
       "      <td>1.000000</td>\n",
       "      <td>0.000000</td>\n",
       "    </tr>\n",
       "    <tr>\n",
       "      <th>75%</th>\n",
       "      <td>1.000000</td>\n",
       "      <td>37.000000</td>\n",
       "      <td>46600.000000</td>\n",
       "      <td>2.000000</td>\n",
       "      <td>0.000000</td>\n",
       "    </tr>\n",
       "    <tr>\n",
       "      <th>max</th>\n",
       "      <td>1.000000</td>\n",
       "      <td>65.000000</td>\n",
       "      <td>79000.000000</td>\n",
       "      <td>6.000000</td>\n",
       "      <td>5.000000</td>\n",
       "    </tr>\n",
       "  </tbody>\n",
       "</table>\n",
       "</div>"
      ],
      "text/plain": [
       "               Пол      Возраст      Зарплата  Члены семьи  Страховые выплаты\n",
       "count  5000.000000  5000.000000   5000.000000  5000.000000        5000.000000\n",
       "mean      0.499000    30.952800  39916.360000     1.194200           0.148000\n",
       "std       0.500049     8.440807   9900.083569     1.091387           0.463183\n",
       "min       0.000000    18.000000   5300.000000     0.000000           0.000000\n",
       "25%       0.000000    24.000000  33300.000000     0.000000           0.000000\n",
       "50%       0.000000    30.000000  40200.000000     1.000000           0.000000\n",
       "75%       1.000000    37.000000  46600.000000     2.000000           0.000000\n",
       "max       1.000000    65.000000  79000.000000     6.000000           5.000000"
      ]
     },
     "execution_count": 5,
     "metadata": {},
     "output_type": "execute_result"
    }
   ],
   "source": [
    "# getting description\n",
    "df.describe()"
   ]
  },
  {
   "cell_type": "markdown",
   "id": "3488879f",
   "metadata": {},
   "source": [
    "Исходный датасет представляет из себя таблицу размером 4847 строк и 5 столбцов. В таблице содержится персональная информация клиентов страховой компании.\n",
    "\n",
    "Пропусков в данных нет, тип данных - корректный.\n",
    "\n",
    "**Целевым признаком является количество страховых выплат.**"
   ]
  },
  {
   "cell_type": "markdown",
   "id": "06808a03",
   "metadata": {},
   "source": [
    "### Подготовка данных"
   ]
  },
  {
   "cell_type": "markdown",
   "id": "efc84284",
   "metadata": {},
   "source": [
    "Приведём названия призанков в корректный вид."
   ]
  },
  {
   "cell_type": "code",
   "execution_count": 6,
   "id": "705fef8f",
   "metadata": {},
   "outputs": [
    {
     "data": {
      "text/html": [
       "<div>\n",
       "<style scoped>\n",
       "    .dataframe tbody tr th:only-of-type {\n",
       "        vertical-align: middle;\n",
       "    }\n",
       "\n",
       "    .dataframe tbody tr th {\n",
       "        vertical-align: top;\n",
       "    }\n",
       "\n",
       "    .dataframe thead th {\n",
       "        text-align: right;\n",
       "    }\n",
       "</style>\n",
       "<table border=\"1\" class=\"dataframe\">\n",
       "  <thead>\n",
       "    <tr style=\"text-align: right;\">\n",
       "      <th></th>\n",
       "      <th>gender</th>\n",
       "      <th>age</th>\n",
       "      <th>salary</th>\n",
       "      <th>family</th>\n",
       "      <th>insurance</th>\n",
       "    </tr>\n",
       "  </thead>\n",
       "  <tbody>\n",
       "    <tr>\n",
       "      <th>0</th>\n",
       "      <td>1</td>\n",
       "      <td>41.0</td>\n",
       "      <td>49600.0</td>\n",
       "      <td>1</td>\n",
       "      <td>0</td>\n",
       "    </tr>\n",
       "    <tr>\n",
       "      <th>1</th>\n",
       "      <td>0</td>\n",
       "      <td>46.0</td>\n",
       "      <td>38000.0</td>\n",
       "      <td>1</td>\n",
       "      <td>1</td>\n",
       "    </tr>\n",
       "    <tr>\n",
       "      <th>2</th>\n",
       "      <td>0</td>\n",
       "      <td>29.0</td>\n",
       "      <td>21000.0</td>\n",
       "      <td>0</td>\n",
       "      <td>0</td>\n",
       "    </tr>\n",
       "    <tr>\n",
       "      <th>3</th>\n",
       "      <td>0</td>\n",
       "      <td>21.0</td>\n",
       "      <td>41700.0</td>\n",
       "      <td>2</td>\n",
       "      <td>0</td>\n",
       "    </tr>\n",
       "    <tr>\n",
       "      <th>4</th>\n",
       "      <td>1</td>\n",
       "      <td>28.0</td>\n",
       "      <td>26100.0</td>\n",
       "      <td>0</td>\n",
       "      <td>0</td>\n",
       "    </tr>\n",
       "  </tbody>\n",
       "</table>\n",
       "</div>"
      ],
      "text/plain": [
       "   gender   age   salary  family  insurance\n",
       "0       1  41.0  49600.0       1          0\n",
       "1       0  46.0  38000.0       1          1\n",
       "2       0  29.0  21000.0       0          0\n",
       "3       0  21.0  41700.0       2          0\n",
       "4       1  28.0  26100.0       0          0"
      ]
     },
     "execution_count": 6,
     "metadata": {},
     "output_type": "execute_result"
    }
   ],
   "source": [
    "# renaming columns\n",
    "df.columns = ['gender', 'age', 'salary', 'family', 'insurance']\n",
    "\n",
    "# viewing the top rows\n",
    "df.head()"
   ]
  },
  {
   "cell_type": "markdown",
   "id": "31ed1764",
   "metadata": {},
   "source": [
    "Проверим наличие в таблице дубликатов."
   ]
  },
  {
   "cell_type": "code",
   "execution_count": 7,
   "id": "3b4cc41a",
   "metadata": {},
   "outputs": [
    {
     "data": {
      "text/plain": [
       "153"
      ]
     },
     "execution_count": 7,
     "metadata": {},
     "output_type": "execute_result"
    }
   ],
   "source": [
    "df.duplicated().sum()"
   ]
  },
  {
   "cell_type": "markdown",
   "id": "c12fb811",
   "metadata": {},
   "source": [
    "Дубликаты есть, удалим их."
   ]
  },
  {
   "cell_type": "code",
   "execution_count": 8,
   "id": "d71d0183",
   "metadata": {},
   "outputs": [
    {
     "data": {
      "text/plain": [
       "0"
      ]
     },
     "execution_count": 8,
     "metadata": {},
     "output_type": "execute_result"
    }
   ],
   "source": [
    "df = df.drop_duplicates().reset_index(drop=True)\n",
    "df.duplicated().sum()"
   ]
  },
  {
   "cell_type": "markdown",
   "id": "f7879329",
   "metadata": {},
   "source": [
    "Дубликатов в таблице больше нет."
   ]
  },
  {
   "cell_type": "markdown",
   "id": "a6b28fe6",
   "metadata": {},
   "source": [
    "### Изучение данных"
   ]
  },
  {
   "cell_type": "markdown",
   "id": "c0ee2e9b",
   "metadata": {},
   "source": [
    "Посмотрим на соотношение полов."
   ]
  },
  {
   "cell_type": "code",
   "execution_count": 9,
   "id": "bbbd5ddb",
   "metadata": {},
   "outputs": [
    {
     "data": {
      "text/plain": [
       "0    2431\n",
       "1    2416\n",
       "Name: gender, dtype: int64"
      ]
     },
     "execution_count": 9,
     "metadata": {},
     "output_type": "execute_result"
    }
   ],
   "source": [
    "df['gender'].value_counts()"
   ]
  },
  {
   "cell_type": "markdown",
   "id": "db28693c",
   "metadata": {},
   "source": [
    "Мужчин и женщин примерно поровну.\n",
    "\n",
    "Посмотрим на распределение возраста клиентов."
   ]
  },
  {
   "cell_type": "code",
   "execution_count": 10,
   "id": "a8ee0d04",
   "metadata": {},
   "outputs": [
    {
     "data": {
      "image/png": "[encoded data removed]",
      "text/plain": [
       "<Figure size 936x360 with 1 Axes>"
      ]
     },
     "metadata": {
      "needs_background": "light"
     },
     "output_type": "display_data"
    }
   ],
   "source": [
    "# building a histogram with age values\n",
    "df['age'].plot(\n",
    "    kind='hist', \n",
    "    bins=15, \n",
    "    title='Pаспределение возраста клиентов', \n",
    "    grid=True, \n",
    "    figsize=(13, 5));\n",
    "\n",
    "pl.xlabel('Возраст');\n",
    "pl.ylabel('Частота');"
   ]
  },
  {
   "cell_type": "markdown",
   "id": "fb09efa4",
   "metadata": {},
   "source": [
    "График распределения возраста клиентов имеет форму распределения Пуассона. Количество молодых людей превалирует.\n",
    "\n",
    "Построим аналогичный график для зарплат клиентов."
   ]
  },
  {
   "cell_type": "code",
   "execution_count": 11,
   "id": "f3ab7ba0",
   "metadata": {},
   "outputs": [
    {
     "data": {
      "image/png": "[encoded data removed]",
      "text/plain": [
       "<Figure size 936x360 with 1 Axes>"
      ]
     },
     "metadata": {
      "needs_background": "light"
     },
     "output_type": "display_data"
    }
   ],
   "source": [
    "# building a histogram with salary values\n",
    "df['salary'].plot(\n",
    "    kind='hist', \n",
    "    bins=50, \n",
    "    grid=True, \n",
    "    title='Распределение зарплат', \n",
    "    figsize=(13, 5));\n",
    "\n",
    "pl.xlabel('Зарплата');\n",
    "pl.ylabel('Частота');"
   ]
  },
  {
   "cell_type": "markdown",
   "id": "bd9a70ea",
   "metadata": {},
   "source": [
    "График распределения зарплат имеет нормальный вид.\n",
    "\n",
    "Посмотрим на распределение значений целевого признака."
   ]
  },
  {
   "cell_type": "code",
   "execution_count": 12,
   "id": "96bd2511",
   "metadata": {},
   "outputs": [
    {
     "data": {
      "text/plain": [
       "0    4284\n",
       "1     423\n",
       "2     114\n",
       "3      18\n",
       "4       7\n",
       "5       1\n",
       "Name: insurance, dtype: int64"
      ]
     },
     "execution_count": 12,
     "metadata": {},
     "output_type": "execute_result"
    }
   ],
   "source": [
    "df['insurance'].value_counts()"
   ]
  },
  {
   "cell_type": "markdown",
   "id": "9ba6be00",
   "metadata": {},
   "source": [
    "Макисмальное количество выплат - 5.\n",
    "\n",
    "Посмотрим как связаны признаки между собой.\n",
    "\n",
    "Построим тепловую карту коэффициентов корелляции."
   ]
  },
  {
   "cell_type": "code",
   "execution_count": 13,
   "id": "0a2d7e5d",
   "metadata": {},
   "outputs": [
    {
     "data": {
      "image/png": "[encoded data removed]",
      "text/plain": [
       "<Figure size 432x288 with 2 Axes>"
      ]
     },
     "metadata": {
      "needs_background": "light"
     },
     "output_type": "display_data"
    }
   ],
   "source": [
    "seaborn.heatmap(df.corr());"
   ]
  },
  {
   "cell_type": "markdown",
   "id": "c51fa09d",
   "metadata": {},
   "source": [
    "Согласно тепловой карте количество страховых выплат в значительной степени кореллирует с возрастом клиентов.\n",
    "\n",
    "Выведем на экран информацию по пользователям с наибольшим количеством страховых выплат."
   ]
  },
  {
   "cell_type": "code",
   "execution_count": 14,
   "id": "bbcec035",
   "metadata": {},
   "outputs": [
    {
     "data": {
      "text/html": [
       "<div>\n",
       "<style scoped>\n",
       "    .dataframe tbody tr th:only-of-type {\n",
       "        vertical-align: middle;\n",
       "    }\n",
       "\n",
       "    .dataframe tbody tr th {\n",
       "        vertical-align: top;\n",
       "    }\n",
       "\n",
       "    .dataframe thead th {\n",
       "        text-align: right;\n",
       "    }\n",
       "</style>\n",
       "<table border=\"1\" class=\"dataframe\">\n",
       "  <thead>\n",
       "    <tr style=\"text-align: right;\">\n",
       "      <th></th>\n",
       "      <th>gender</th>\n",
       "      <th>age</th>\n",
       "      <th>salary</th>\n",
       "      <th>family</th>\n",
       "      <th>insurance</th>\n",
       "    </tr>\n",
       "  </thead>\n",
       "  <tbody>\n",
       "    <tr>\n",
       "      <th>228</th>\n",
       "      <td>1</td>\n",
       "      <td>65.0</td>\n",
       "      <td>39700.0</td>\n",
       "      <td>1</td>\n",
       "      <td>5</td>\n",
       "    </tr>\n",
       "    <tr>\n",
       "      <th>3047</th>\n",
       "      <td>0</td>\n",
       "      <td>60.0</td>\n",
       "      <td>43400.0</td>\n",
       "      <td>2</td>\n",
       "      <td>4</td>\n",
       "    </tr>\n",
       "    <tr>\n",
       "      <th>1551</th>\n",
       "      <td>1</td>\n",
       "      <td>59.0</td>\n",
       "      <td>32100.0</td>\n",
       "      <td>0</td>\n",
       "      <td>4</td>\n",
       "    </tr>\n",
       "    <tr>\n",
       "      <th>3905</th>\n",
       "      <td>0</td>\n",
       "      <td>62.0</td>\n",
       "      <td>14100.0</td>\n",
       "      <td>0</td>\n",
       "      <td>4</td>\n",
       "    </tr>\n",
       "    <tr>\n",
       "      <th>2205</th>\n",
       "      <td>0</td>\n",
       "      <td>60.0</td>\n",
       "      <td>27900.0</td>\n",
       "      <td>0</td>\n",
       "      <td>4</td>\n",
       "    </tr>\n",
       "    <tr>\n",
       "      <th>3797</th>\n",
       "      <td>1</td>\n",
       "      <td>61.0</td>\n",
       "      <td>39600.0</td>\n",
       "      <td>1</td>\n",
       "      <td>4</td>\n",
       "    </tr>\n",
       "    <tr>\n",
       "      <th>3577</th>\n",
       "      <td>1</td>\n",
       "      <td>59.0</td>\n",
       "      <td>29600.0</td>\n",
       "      <td>0</td>\n",
       "      <td>4</td>\n",
       "    </tr>\n",
       "    <tr>\n",
       "      <th>3134</th>\n",
       "      <td>1</td>\n",
       "      <td>59.0</td>\n",
       "      <td>51700.0</td>\n",
       "      <td>2</td>\n",
       "      <td>4</td>\n",
       "    </tr>\n",
       "    <tr>\n",
       "      <th>177</th>\n",
       "      <td>1</td>\n",
       "      <td>56.0</td>\n",
       "      <td>56000.0</td>\n",
       "      <td>0</td>\n",
       "      <td>3</td>\n",
       "    </tr>\n",
       "    <tr>\n",
       "      <th>4507</th>\n",
       "      <td>0</td>\n",
       "      <td>55.0</td>\n",
       "      <td>34800.0</td>\n",
       "      <td>2</td>\n",
       "      <td>3</td>\n",
       "    </tr>\n",
       "  </tbody>\n",
       "</table>\n",
       "</div>"
      ],
      "text/plain": [
       "      gender   age   salary  family  insurance\n",
       "228        1  65.0  39700.0       1          5\n",
       "3047       0  60.0  43400.0       2          4\n",
       "1551       1  59.0  32100.0       0          4\n",
       "3905       0  62.0  14100.0       0          4\n",
       "2205       0  60.0  27900.0       0          4\n",
       "3797       1  61.0  39600.0       1          4\n",
       "3577       1  59.0  29600.0       0          4\n",
       "3134       1  59.0  51700.0       2          4\n",
       "177        1  56.0  56000.0       0          3\n",
       "4507       0  55.0  34800.0       2          3"
      ]
     },
     "execution_count": 14,
     "metadata": {},
     "output_type": "execute_result"
    }
   ],
   "source": [
    "df.sort_values(by='insurance', ascending=False).head(10)"
   ]
  },
  {
   "cell_type": "markdown",
   "id": "74e972ac",
   "metadata": {},
   "source": [
    "Действительно, наибольшее количество страховых выплат приходится на возрастных клиентов."
   ]
  },
  {
   "cell_type": "markdown",
   "id": "1ffffa76",
   "metadata": {},
   "source": [
    "### Вывод"
   ]
  },
  {
   "cell_type": "markdown",
   "id": "a4826922",
   "metadata": {},
   "source": [
    "Исходные данные представляют собой персональные данные клиентов страховой компании: пол, возраст, зарплата, количество членов семьи, количество страховых выплат.\n",
    "\n",
    "В ходе анализа данных проведена следующая обработка датасета:\n",
    "* переименованы названия признаков,\n",
    "* удалены дубликаты.\n",
    "\n",
    "Пропусков и аномалий в данных не обнаружено.\n",
    "\n",
    "Целевым признаком является количество страховых выплат за последние 5 лет. С целевым признаком кореллирует возраст клиентов."
   ]
  },
  {
   "cell_type": "markdown",
   "id": "da46e242",
   "metadata": {},
   "source": [
    "## Анализ изменения качества линейной регрессии при умножении признаков на обратимую матрицу"
   ]
  },
  {
   "cell_type": "markdown",
   "id": "33d764dd",
   "metadata": {},
   "source": [
    "Проанализируем каким образом повлияет на качество линейной регрессии преобразование признаков путём их произведения на произвольную обратимую матрицу."
   ]
  },
  {
   "cell_type": "markdown",
   "id": "55b05288",
   "metadata": {},
   "source": [
    "### Формулы вычисления предсказаний линейной регрессии"
   ]
  },
  {
   "cell_type": "markdown",
   "id": "f2032f16",
   "metadata": {},
   "source": [
    "Предсказания линейной регрессии определяются по следующей формуле:\n",
    "\n",
    "$$a = X \\centerdot \\omega$$"
   ]
  },
  {
   "cell_type": "markdown",
   "id": "57fd4472",
   "metadata": {},
   "source": [
    "В этой формуле:\n",
    "\n",
    "* *a* - предсказание модели,\n",
    "* *Х* - матрица признаков, состоящая из нулевого столбца с единицами и признаками в остальных столбцах,\n",
    "* $\\omega$ - вектор весов, на нулевой позиции которого - величина сдвига $\\omega_0.$"
   ]
  },
  {
   "cell_type": "markdown",
   "id": "a761486d",
   "metadata": {},
   "source": [
    "Зависимость между предсказанием и признаками - линейная.\n",
    "\n",
    "Задачей модели машинного обучения является определение таких значений элементов вектора весов, при которых предсказания модели получаются наиболее близкими к целевым признакам.\n",
    "\n",
    "Вектор весов рассчитывается по следующей формуле:\n",
    "\n",
    "$$\\omega = (X^T \\centerdot X)^{-1} \\centerdot X^T \\centerdot y,$$\n",
    "\n",
    "где *у* - вектор целевого признака."
   ]
  },
  {
   "cell_type": "markdown",
   "id": "fac7aa75",
   "metadata": {},
   "source": [
    "Посмотрим как изменится вектор весов при умножении вектора признаков на произвольную обратимую матрицу `P`.\n",
    "\n",
    "Размер такой матрицы для признаков в нашей задаче будет равным 4х4, так как ширина матрицы признаков равна 4."
   ]
  },
  {
   "cell_type": "markdown",
   "id": "cc999122",
   "metadata": {},
   "source": [
    "$$\\omega' = ((X \\centerdot P)^T \\centerdot (X \\centerdot P))^{-1} \\centerdot (X \\centerdot P)^T \\centerdot y,$$\n",
    "\n",
    "$$\\omega' = (P^T \\centerdot X^T \\centerdot X \\centerdot P)^{-1} \\centerdot P^T \\centerdot X^T \\centerdot y.$$\n",
    "\n",
    "Согласно сочетательному свойству произведения матриц, выведем за скобки произвольную матрицу `P`.\n",
    "\n",
    "$$\\omega' = P^{-1} \\centerdot (X^T \\centerdot X )^{-1} \\centerdot (P^T)^{-1} \\centerdot P^Т \\centerdot X^T \\centerdot y$$\n",
    "\n",
    "Произведение матриц $(P^T)^{-1} \\centerdot P^T$ равняется единичной матрице *E* и может быть сокращено в формуле.\n",
    "\n",
    "$$\\omega' = P^{-1} \\centerdot (X^T \\centerdot X )^{-1} \\centerdot X^T \\centerdot y.$$\n",
    "\n",
    "В результате формула принимает следующий вид:\n",
    "\n",
    "$$\\omega' = P^{-1} \\centerdot  \\omega.$$\n",
    "\n",
    "Предсказания линейной регрессии определяются по следующей формуле:\n",
    "\n",
    "$$a = X \\centerdot \\omega$$\n",
    "\n",
    "После преобразования данных матрица признаков примет вид $X \\centerdot P$, а вектор весов $- P^{-1} \\centerdot \\omega$.\n",
    "\n",
    "Таким образом, формула преобразуется в следующий вид:\n",
    "\n",
    "$$a = X \\centerdot P \\centerdot P^{-1} \\centerdot \\omega = X \\centerdot \\omega.$$"
   ]
  },
  {
   "cell_type": "markdown",
   "id": "5c1a19b5",
   "metadata": {},
   "source": [
    "**Вывод.**\n",
    "\n",
    "Таким образом получается, что при умножении матрицы признаков на произвольную обратимую матрицу вектор весов изменяется путём произведения исходного вектора на транспонированную матрицу, которая была использована для преобразования признаков.\n",
    "\n",
    "Вектор предсказаний не изменится после преобразования данных.\n"
   ]
  },
  {
   "cell_type": "markdown",
   "id": "0f1b288d",
   "metadata": {},
   "source": [
    "### Алгоритм преобразования данных"
   ]
  },
  {
   "cell_type": "markdown",
   "id": "610d9030",
   "metadata": {},
   "source": [
    "Учитывая выводы из предыдущего пункта, предложим следующий алгоритм преобразования данных с целью их защиты.\n",
    "\n",
    "1. Построим модель линейной регрессии на исходных признаках, проверим качество модели с помощью метрики R2.\n",
    "2. Сгенерируем произвольную матрицу размером 4х4.\n",
    "3. Проверим созданную матрицу на обратимость.\n",
    "4. Умножим признаки исходных данных на произвольную матрицу с целью шифрования исходных данных.\n",
    "5. Построим модель линейной регрессии на преобразованных признаках, также проверим качество модели с помощью метрики R2.\n",
    "6. Сравним значения метрик R2 двух моделей. Если значения идентичны, значит предложенный алгоритм преобразования данных - корректный.\n",
    "\n",
    "Теперь перейдём к проверке предложенного алгоритма."
   ]
  },
  {
   "cell_type": "markdown",
   "id": "e8ac6400",
   "metadata": {},
   "source": [
    "## Проверка алгоритма преобразования данных"
   ]
  },
  {
   "cell_type": "markdown",
   "id": "ee2dafbc",
   "metadata": {},
   "source": [
    "### Создание класса модели линейной регрессии"
   ]
  },
  {
   "cell_type": "markdown",
   "id": "e3719540",
   "metadata": {},
   "source": [
    "Для начала с помощью формул предсказаний и вектора весов создадим класс линейной регрессии `MyRegression`."
   ]
  },
  {
   "cell_type": "code",
   "execution_count": 15,
   "id": "bfd13203",
   "metadata": {},
   "outputs": [],
   "source": [
    "class MyRegression:\n",
    "    def fit(self, train_features, train_target):\n",
    "        X = np.concatenate((np.ones((train_features.shape[0], 1)), train_features), axis=1)\n",
    "        y = train_target\n",
    "        w = np.linalg.inv(X.T @ X) @ X.T @ y\n",
    "        self.w = w[1:]\n",
    "        self.w0 = w[0]\n",
    "        \n",
    "    def predict(self, test_features):\n",
    "        return test_features.dot(self.w) + self.w0"
   ]
  },
  {
   "cell_type": "markdown",
   "id": "7fddff08",
   "metadata": {},
   "source": [
    "### Построение модели на исходных данных"
   ]
  },
  {
   "cell_type": "markdown",
   "id": "de632b40",
   "metadata": {},
   "source": [
    "Построим модель на исходных признаках с помощью разработанного класса `MyRegression`.\n",
    "\n",
    "Качество модели оценим с помощью метрики R2."
   ]
  },
  {
   "cell_type": "code",
   "execution_count": 16,
   "id": "ef742037",
   "metadata": {},
   "outputs": [],
   "source": [
    "# creating the variable with features\n",
    "features = df.drop('insurance', axis=1)\n",
    "\n",
    "# creating the variable with target\n",
    "target = df['insurance']"
   ]
  },
  {
   "cell_type": "code",
   "execution_count": 17,
   "id": "e1614997",
   "metadata": {},
   "outputs": [],
   "source": [
    "# creating train and test samples\n",
    "features_train, features_test, target_train, target_test = train_test_split(\n",
    "    features, target, test_size=.25, random_state=12345)"
   ]
  },
  {
   "cell_type": "code",
   "execution_count": 18,
   "id": "0befac37",
   "metadata": {},
   "outputs": [
    {
     "name": "stdout",
     "output_type": "stream",
     "text": [
      "Метрика R2 собственной модели на исходных признаках: 0.4230772749214826\n"
     ]
    }
   ],
   "source": [
    "# building a model\n",
    "model = MyRegression()\n",
    "model.fit(features_train, target_train)\n",
    "predictions = model.predict(features_test)\n",
    "\n",
    "# checking a model quality\n",
    "result = r2_score(target_test, predictions)\n",
    "print('Метрика R2 собственной модели на исходных признаках:', result)"
   ]
  },
  {
   "cell_type": "markdown",
   "id": "9a38bdde",
   "metadata": {},
   "source": [
    "### Построение модели на преобразованных данных"
   ]
  },
  {
   "cell_type": "markdown",
   "id": "74523979",
   "metadata": {},
   "source": [
    "Выполним преобразование матрицы признаков путём её умножения на произвольную обратимую матрицу.\n",
    "\n",
    "Создадим произвольную матрицу `matrix_a` размером 4х4."
   ]
  },
  {
   "cell_type": "code",
   "execution_count": 19,
   "id": "0d4ba69c",
   "metadata": {},
   "outputs": [
    {
     "data": {
      "text/plain": [
       "array([[72,  8,  0, 86],\n",
       "       [89, 52, 98, 90],\n",
       "       [94, 18, 72,  7],\n",
       "       [29, 87, 82, 12]])"
      ]
     },
     "execution_count": 19,
     "metadata": {},
     "output_type": "execute_result"
    }
   ],
   "source": [
    "np.random.seed(2610)\n",
    "matrix_a = np.random.randint(100, size=(4, 4))\n",
    "matrix_a"
   ]
  },
  {
   "cell_type": "markdown",
   "id": "4d72617d",
   "metadata": {},
   "source": [
    "Проверим её обратимость: создадим обратимую матрицу `matrix_b`."
   ]
  },
  {
   "cell_type": "code",
   "execution_count": 20,
   "id": "d3aa5d9f",
   "metadata": {
    "scrolled": true
   },
   "outputs": [
    {
     "data": {
      "text/plain": [
       "array([[ 0.0112837 , -0.01224428,  0.01244512,  0.00370599],\n",
       "       [ 0.01318663, -0.01507778, -0.00189809,  0.01968641],\n",
       "       [-0.01812094,  0.01862205, -0.00088858, -0.00928028],\n",
       "       [ 0.00095443,  0.01165361, -0.01024261, -0.00493398]])"
      ]
     },
     "execution_count": 20,
     "metadata": {},
     "output_type": "execute_result"
    }
   ],
   "source": [
    "matrix_b = np.linalg.inv(matrix_a)\n",
    "matrix_b"
   ]
  },
  {
   "cell_type": "markdown",
   "id": "e5f9e87c",
   "metadata": {},
   "source": [
    "Выполним произвдение матрицы `matrix_a` на матрицу `matrix_b`, должна получиться единичная матрица *Е*."
   ]
  },
  {
   "cell_type": "code",
   "execution_count": 21,
   "id": "c07595ba",
   "metadata": {},
   "outputs": [
    {
     "data": {
      "text/plain": [
       "array([[ 1.00000000e+00, -1.76941795e-16,  1.76941795e-16,\n",
       "         3.12250226e-17],\n",
       "       [ 6.02816408e-16,  1.00000000e+00,  1.28369537e-16,\n",
       "         5.20417043e-17],\n",
       "       [ 1.34007389e-16, -1.37043155e-16,  1.00000000e+00,\n",
       "        -5.20417043e-18],\n",
       "       [ 2.51534904e-16, -2.08166817e-17,  4.85722573e-17,\n",
       "         1.00000000e+00]])"
      ]
     },
     "execution_count": 21,
     "metadata": {},
     "output_type": "execute_result"
    }
   ],
   "source": [
    "matrix_c = matrix_a @ matrix_b\n",
    "matrix_c"
   ]
  },
  {
   "cell_type": "markdown",
   "id": "0c3ea106",
   "metadata": {},
   "source": [
    "Матрица `matrix_c` является единичной.\n",
    "\n",
    "Создадим преобразованную матрицу признаков для обучения модели `features_changed`. Выведем её и её размер на экран для проверки результата."
   ]
  },
  {
   "cell_type": "code",
   "execution_count": 22,
   "id": "622f83cc",
   "metadata": {},
   "outputs": [
    {
     "name": "stdout",
     "output_type": "stream",
     "text": [
      "[[5125550.  982630. 3926908.  384044.]\n",
      " [4769283.  914671. 3654206.  358418.]\n",
      " [2634165.  505335. 2018434.  198172.]\n",
      " ...\n",
      " [2718481.  521335. 2082842.  204198.]\n",
      " [3650238.  700211. 2796916.  274668.]\n",
      " [4449907.  853706. 3409782.  334814.]] \n",
      " (3635, 4)\n"
     ]
    }
   ],
   "source": [
    "features_changed = np.array(features_train) @ matrix_a\n",
    "print(features_changed, '\\n', features_changed.shape)"
   ]
  },
  {
   "cell_type": "markdown",
   "id": "f9cc83d5",
   "metadata": {},
   "source": [
    "Тренировочные данные преобразованы корректно.\n",
    "\n",
    "Поступим аналогично с тестовыми признаками."
   ]
  },
  {
   "cell_type": "code",
   "execution_count": 23,
   "id": "9c8cb3bc",
   "metadata": {},
   "outputs": [
    {
     "data": {
      "text/plain": [
       "array([[4438919.,  850804., 3400654.,  332556.],\n",
       "       [6197520., 1187872., 4747936.,  464266.],\n",
       "       [3189667.,  612098., 2444198.,  240380.],\n",
       "       ...,\n",
       "       [3151473.,  604621., 2414794.,  236962.],\n",
       "       [3113625.,  597100., 2385650.,  233950.],\n",
       "       [3087840.,  593147., 2366680.,  234288.]])"
      ]
     },
     "execution_count": 23,
     "metadata": {},
     "output_type": "execute_result"
    }
   ],
   "source": [
    "features_changed_test = np.array(features_test) @ matrix_a\n",
    "features_changed_test"
   ]
  },
  {
   "cell_type": "markdown",
   "id": "d24cec2f",
   "metadata": {},
   "source": [
    "Получим метрику R2 модели на классе `MyRegression`, обученной с помощью преобразованных признаков."
   ]
  },
  {
   "cell_type": "code",
   "execution_count": 24,
   "id": "4fb3b193",
   "metadata": {},
   "outputs": [
    {
     "name": "stdout",
     "output_type": "stream",
     "text": [
      "Метрика R2 собственной модели на исходных признаках:        0.4230772749214826\n",
      "Метрика R2 собственной модели на преобразованных признаках: 0.42307729393900684\n"
     ]
    }
   ],
   "source": [
    "# building a model\n",
    "model2 = MyRegression()\n",
    "model2.fit(features_changed, target_train)\n",
    "predictions2 = model2.predict(features_changed_test)\n",
    "\n",
    "# checking a model quality\n",
    "result2 = r2_score(target_test, predictions2)\n",
    "\n",
    "# printing R2-score both of models\n",
    "print('Метрика R2 собственной модели на исходных признаках:       ', result)\n",
    "print('Метрика R2 собственной модели на преобразованных признаках:', result2)"
   ]
  },
  {
   "cell_type": "markdown",
   "id": "4c489293",
   "metadata": {},
   "source": [
    "### Вывод"
   ]
  },
  {
   "cell_type": "markdown",
   "id": "1b9889ed",
   "metadata": {},
   "source": [
    "При преобразовании матрицы признаков путём умножения на произвольную обратимую матрицу качество модели линейной регрессии не изменилось.\n",
    "\n",
    "Это означает, что предложенный алгоритм преобразования данных - корректен.\n",
    "\n",
    "Разработаем функцию преобразования данных."
   ]
  },
  {
   "cell_type": "markdown",
   "id": "293d7b8c",
   "metadata": {},
   "source": [
    "## Функция для автоматического преобразования данных"
   ]
  },
  {
   "cell_type": "markdown",
   "id": "1de7c027",
   "metadata": {},
   "source": [
    "### Создание функции"
   ]
  },
  {
   "cell_type": "markdown",
   "id": "801be677",
   "metadata": {},
   "source": [
    "Создадим функцию `change_data`, которая будет принимать на вход исходный датасет и возвращать преобразованные признаки, целевой признак без изменений и кодирующую матрицу для возможности раскодировки данных."
   ]
  },
  {
   "cell_type": "code",
   "execution_count": 25,
   "id": "e0c63e36",
   "metadata": {},
   "outputs": [],
   "source": [
    "def change_data(table):\n",
    "    table.columns = ['0', '1', '2', '3', '4']\n",
    "    target = table.loc[:, '4']\n",
    "    features = table.loc[:, '0':'3']\n",
    "    np.random.seed(333)\n",
    "    matrix_help = np.random.randint(100, size=(features.shape[1], features.shape[1]))\n",
    "    matrix_check = np.linalg.inv(matrix_help)\n",
    "    return target, features @ matrix_help, matrix_help"
   ]
  },
  {
   "cell_type": "markdown",
   "id": "3e00d217",
   "metadata": {},
   "source": [
    "Создадим с помощью функции `change_data` таблицы с признаками `df_target` и `df_features`."
   ]
  },
  {
   "cell_type": "code",
   "execution_count": 26,
   "id": "846e03b2",
   "metadata": {},
   "outputs": [],
   "source": [
    "data = df\n",
    "df_target, df_features, matrix = change_data(data)"
   ]
  },
  {
   "cell_type": "markdown",
   "id": "72ec3411",
   "metadata": {},
   "source": [
    "Посмотрим на созданные таблицы с целью проверки результата работы функции."
   ]
  },
  {
   "cell_type": "code",
   "execution_count": 27,
   "id": "64b3c441",
   "metadata": {},
   "outputs": [
    {
     "data": {
      "text/plain": [
       "0    0\n",
       "1    1\n",
       "2    0\n",
       "3    0\n",
       "4    0\n",
       "Name: 4, dtype: int64"
      ]
     },
     "execution_count": 27,
     "metadata": {},
     "output_type": "execute_result"
    }
   ],
   "source": [
    "df_target.head()"
   ]
  },
  {
   "cell_type": "code",
   "execution_count": 28,
   "id": "f6e0f29b",
   "metadata": {},
   "outputs": [
    {
     "data": {
      "text/html": [
       "<div>\n",
       "<style scoped>\n",
       "    .dataframe tbody tr th:only-of-type {\n",
       "        vertical-align: middle;\n",
       "    }\n",
       "\n",
       "    .dataframe tbody tr th {\n",
       "        vertical-align: top;\n",
       "    }\n",
       "\n",
       "    .dataframe thead th {\n",
       "        text-align: right;\n",
       "    }\n",
       "</style>\n",
       "<table border=\"1\" class=\"dataframe\">\n",
       "  <thead>\n",
       "    <tr style=\"text-align: right;\">\n",
       "      <th></th>\n",
       "      <th>0</th>\n",
       "      <th>1</th>\n",
       "      <th>2</th>\n",
       "      <th>3</th>\n",
       "    </tr>\n",
       "  </thead>\n",
       "  <tbody>\n",
       "    <tr>\n",
       "      <th>0</th>\n",
       "      <td>3523524.0</td>\n",
       "      <td>1143399.0</td>\n",
       "      <td>4566650.0</td>\n",
       "      <td>2679660.0</td>\n",
       "    </tr>\n",
       "    <tr>\n",
       "      <th>1</th>\n",
       "      <td>2700142.0</td>\n",
       "      <td>876822.0</td>\n",
       "      <td>3499830.0</td>\n",
       "      <td>2053354.0</td>\n",
       "    </tr>\n",
       "    <tr>\n",
       "      <th>2</th>\n",
       "      <td>1492334.0</td>\n",
       "      <td>484740.0</td>\n",
       "      <td>1934407.0</td>\n",
       "      <td>1134841.0</td>\n",
       "    </tr>\n",
       "    <tr>\n",
       "      <th>3</th>\n",
       "      <td>2961718.0</td>\n",
       "      <td>960484.0</td>\n",
       "      <td>3838167.0</td>\n",
       "      <td>2252449.0</td>\n",
       "    </tr>\n",
       "    <tr>\n",
       "      <th>4</th>\n",
       "      <td>1854400.0</td>\n",
       "      <td>602057.0</td>\n",
       "      <td>2403559.0</td>\n",
       "      <td>1410263.0</td>\n",
       "    </tr>\n",
       "  </tbody>\n",
       "</table>\n",
       "</div>"
      ],
      "text/plain": [
       "           0          1          2          3\n",
       "0  3523524.0  1143399.0  4566650.0  2679660.0\n",
       "1  2700142.0   876822.0  3499830.0  2053354.0\n",
       "2  1492334.0   484740.0  1934407.0  1134841.0\n",
       "3  2961718.0   960484.0  3838167.0  2252449.0\n",
       "4  1854400.0   602057.0  2403559.0  1410263.0"
      ]
     },
     "execution_count": 28,
     "metadata": {},
     "output_type": "execute_result"
    }
   ],
   "source": [
    "df_features.head()"
   ]
  },
  {
   "cell_type": "markdown",
   "id": "039e1bb4",
   "metadata": {},
   "source": [
    "Посмотрим на кодирующую матрицу."
   ]
  },
  {
   "cell_type": "code",
   "execution_count": 29,
   "id": "d5a07e1b",
   "metadata": {},
   "outputs": [
    {
     "data": {
      "text/plain": [
       "array([[12, 77, 35, 51],\n",
       "       [46, 60, 83, 29],\n",
       "       [71, 23, 92, 54],\n",
       "       [26, 62, 12, 20]])"
      ]
     },
     "execution_count": 29,
     "metadata": {},
     "output_type": "execute_result"
    }
   ],
   "source": [
    "matrix"
   ]
  },
  {
   "cell_type": "markdown",
   "id": "c39c3e8c",
   "metadata": {},
   "source": [
    "Попробуем раскодировать преобразованные данные."
   ]
  },
  {
   "cell_type": "code",
   "execution_count": 30,
   "id": "433c3897",
   "metadata": {},
   "outputs": [
    {
     "data": {
      "text/html": [
       "<div>\n",
       "<style scoped>\n",
       "    .dataframe tbody tr th:only-of-type {\n",
       "        vertical-align: middle;\n",
       "    }\n",
       "\n",
       "    .dataframe tbody tr th {\n",
       "        vertical-align: top;\n",
       "    }\n",
       "\n",
       "    .dataframe thead th {\n",
       "        text-align: right;\n",
       "    }\n",
       "</style>\n",
       "<table border=\"1\" class=\"dataframe\">\n",
       "  <thead>\n",
       "    <tr style=\"text-align: right;\">\n",
       "      <th></th>\n",
       "      <th>0</th>\n",
       "      <th>1</th>\n",
       "      <th>2</th>\n",
       "      <th>3</th>\n",
       "    </tr>\n",
       "  </thead>\n",
       "  <tbody>\n",
       "    <tr>\n",
       "      <th>0</th>\n",
       "      <td>1</td>\n",
       "      <td>41</td>\n",
       "      <td>49600</td>\n",
       "      <td>1</td>\n",
       "    </tr>\n",
       "    <tr>\n",
       "      <th>1</th>\n",
       "      <td>0</td>\n",
       "      <td>46</td>\n",
       "      <td>38000</td>\n",
       "      <td>0</td>\n",
       "    </tr>\n",
       "    <tr>\n",
       "      <th>2</th>\n",
       "      <td>0</td>\n",
       "      <td>29</td>\n",
       "      <td>20999</td>\n",
       "      <td>0</td>\n",
       "    </tr>\n",
       "    <tr>\n",
       "      <th>3</th>\n",
       "      <td>0</td>\n",
       "      <td>21</td>\n",
       "      <td>41700</td>\n",
       "      <td>2</td>\n",
       "    </tr>\n",
       "    <tr>\n",
       "      <th>4</th>\n",
       "      <td>0</td>\n",
       "      <td>28</td>\n",
       "      <td>26100</td>\n",
       "      <td>0</td>\n",
       "    </tr>\n",
       "  </tbody>\n",
       "</table>\n",
       "</div>"
      ],
      "text/plain": [
       "   0   1      2  3\n",
       "0  1  41  49600  1\n",
       "1  0  46  38000  0\n",
       "2  0  29  20999  0\n",
       "3  0  21  41700  2\n",
       "4  0  28  26100  0"
      ]
     },
     "execution_count": 30,
     "metadata": {},
     "output_type": "execute_result"
    }
   ],
   "source": [
    "df2 = df_features @ np.linalg.inv(matrix)\n",
    "df2.astype(int).head()"
   ]
  },
  {
   "cell_type": "code",
   "execution_count": 31,
   "id": "a91fc86b",
   "metadata": {},
   "outputs": [
    {
     "data": {
      "text/html": [
       "<div>\n",
       "<style scoped>\n",
       "    .dataframe tbody tr th:only-of-type {\n",
       "        vertical-align: middle;\n",
       "    }\n",
       "\n",
       "    .dataframe tbody tr th {\n",
       "        vertical-align: top;\n",
       "    }\n",
       "\n",
       "    .dataframe thead th {\n",
       "        text-align: right;\n",
       "    }\n",
       "</style>\n",
       "<table border=\"1\" class=\"dataframe\">\n",
       "  <thead>\n",
       "    <tr style=\"text-align: right;\">\n",
       "      <th></th>\n",
       "      <th>0</th>\n",
       "      <th>1</th>\n",
       "      <th>2</th>\n",
       "      <th>3</th>\n",
       "    </tr>\n",
       "  </thead>\n",
       "  <tbody>\n",
       "    <tr>\n",
       "      <th>0</th>\n",
       "      <td>1</td>\n",
       "      <td>41</td>\n",
       "      <td>49600</td>\n",
       "      <td>1</td>\n",
       "    </tr>\n",
       "    <tr>\n",
       "      <th>1</th>\n",
       "      <td>0</td>\n",
       "      <td>46</td>\n",
       "      <td>38000</td>\n",
       "      <td>1</td>\n",
       "    </tr>\n",
       "    <tr>\n",
       "      <th>2</th>\n",
       "      <td>0</td>\n",
       "      <td>29</td>\n",
       "      <td>21000</td>\n",
       "      <td>0</td>\n",
       "    </tr>\n",
       "    <tr>\n",
       "      <th>3</th>\n",
       "      <td>0</td>\n",
       "      <td>21</td>\n",
       "      <td>41700</td>\n",
       "      <td>2</td>\n",
       "    </tr>\n",
       "    <tr>\n",
       "      <th>4</th>\n",
       "      <td>1</td>\n",
       "      <td>28</td>\n",
       "      <td>26100</td>\n",
       "      <td>0</td>\n",
       "    </tr>\n",
       "  </tbody>\n",
       "</table>\n",
       "</div>"
      ],
      "text/plain": [
       "   0   1      2  3\n",
       "0  1  41  49600  1\n",
       "1  0  46  38000  1\n",
       "2  0  29  21000  0\n",
       "3  0  21  41700  2\n",
       "4  1  28  26100  0"
      ]
     },
     "execution_count": 31,
     "metadata": {},
     "output_type": "execute_result"
    }
   ],
   "source": [
    "df[['0', '1', '2', '3']].astype(int).head()"
   ]
  },
  {
   "cell_type": "markdown",
   "id": "7f34664c",
   "metadata": {},
   "source": [
    "**Вывод.**\n",
    "\n",
    "Функция для преобразования исходных данных создана. Функция работает корректно.\n",
    "\n",
    "Выполненные в функции преобразования признаков не повлияют на качество модели линейной регрессии."
   ]
  },
  {
   "cell_type": "markdown",
   "id": "1934bb0d",
   "metadata": {},
   "source": [
    "### Проверка функции"
   ]
  },
  {
   "cell_type": "markdown",
   "id": "a483a9e3",
   "metadata": {},
   "source": [
    "Проверим качество модели, построенной с помощью алгоритма из библиотеки *sklearn*. В качестве признаков будем использовать данные, полученные с помощью функции `change_data`.\n",
    "\n",
    "Создадим обучающие и тестовые наборы данных. Индексы признаков примем аналогичными признакам без преобразования."
   ]
  },
  {
   "cell_type": "code",
   "execution_count": 32,
   "id": "ddbde3a9",
   "metadata": {},
   "outputs": [],
   "source": [
    "df_features_train = df_features.loc[features_train.index]\n",
    "df_features_test = df_features.loc[features_test.index]\n",
    "df_target_train = df_target.loc[target_train.index]\n",
    "df_target_test = df_target.loc[target_test.index]"
   ]
  },
  {
   "cell_type": "markdown",
   "id": "63944fe0",
   "metadata": {},
   "source": [
    "Построим модель и выведем на экран значение метрики R2."
   ]
  },
  {
   "cell_type": "code",
   "execution_count": 33,
   "id": "9dc47a18",
   "metadata": {},
   "outputs": [
    {
     "name": "stdout",
     "output_type": "stream",
     "text": [
      "Метрика R2 построенной нами модели и обученной на исходных данных:            0.4230772749214826\n",
      "Метрика R2 модели из библиотеки sklearn, обученной на преобразованных данных: 0.42307727492102143\n"
     ]
    }
   ],
   "source": [
    "model3 = LinearRegression().fit(df_features_train, df_target_train)\n",
    "predictions3 = model3.predict(df_features_test)\n",
    "result3 = r2_score(df_target_test, predictions3)\n",
    "print('Метрика R2 модели, обученной на исходных данных:           ', result) \n",
    "print('Метрика R2 модели из библиотеки sklearn, обученной на преобразованных данных:', result3)"
   ]
  },
  {
   "cell_type": "markdown",
   "id": "10c9fe25",
   "metadata": {},
   "source": [
    "Качество модели линейной регрессии, построенной с помощью алгоритма из библиотеки sklearn и обученной на преобразованных данных, не отличается от модели, обученной на исходных данных."
   ]
  },
  {
   "cell_type": "markdown",
   "id": "adb9b697",
   "metadata": {},
   "source": [
    "## Вывод"
   ]
  },
  {
   "cell_type": "markdown",
   "id": "9ace315b",
   "metadata": {},
   "source": [
    "В ходе выполнения данной работы изучен вопрос преобразования персональных данных клиентов.\n",
    "\n",
    "Результатом работы является созданная функция обработки данных `change_data`, которая преобразовывает исходные данные путём умножения матрицы признаков на произвольную обратимую матрицу.\n",
    "\n",
    "В результате качество модели линейной регрессии, которая обучена с помощью преобразованных функцией `change_data` данных, не отличается от качества модели, обученной на исходных данных.\n",
    "\n",
    "Таким образом, поставленная задача выполнена."
   ]
  },
  {
   "cell_type": "code",
   "execution_count": null,
   "id": "2f91c677",
   "metadata": {},
   "outputs": [],
   "source": []
  }
 ],
 "metadata": {
  "kernelspec": {
   "display_name": "Python 3 (ipykernel)",
   "language": "python",
   "name": "python3"
  },
  "language_info": {
   "codemirror_mode": {
    "name": "ipython",
    "version": 3
   },
   "file_extension": ".py",
   "mimetype": "text/x-python",
   "name": "python",
   "nbconvert_exporter": "python",
   "pygments_lexer": "ipython3",
   "version": "3.9.12"
  },
  "toc": {
   "base_numbering": 1,
   "nav_menu": {},
   "number_sections": true,
   "sideBar": true,
   "skip_h1_title": true,
   "title_cell": "Содержание",
   "title_sidebar": "Contents",
   "toc_cell": true,
   "toc_position": {
    "height": "calc(100% - 180px)",
    "left": "10px",
    "top": "150px",
    "width": "279.594px"
   },
   "toc_section_display": true,
   "toc_window_display": true
  }
 },
 "nbformat": 4,
 "nbformat_minor": 5
}
